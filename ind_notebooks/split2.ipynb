{
 "cells": [
  {
   "cell_type": "code",
   "execution_count": 1,
   "id": "775ee0d2-2870-4173-b5c8-2bb8e99e6126",
   "metadata": {},
   "outputs": [],
   "source": [
    "import pandas as pd\n",
    "import os, shutil, random"
   ]
  },
  {
   "cell_type": "code",
   "execution_count": 2,
   "id": "a09ea0a1-6bb7-4b9c-9ff5-ef2122f903ef",
   "metadata": {},
   "outputs": [
    {
     "name": "stdout",
     "output_type": "stream",
     "text": [
      "/Users/arthur/Documents/Flatiron/phase_4/Project/pneumonia_CT_scan\n"
     ]
    }
   ],
   "source": [
    "cd .."
   ]
  },
  {
   "cell_type": "code",
   "execution_count": 3,
   "id": "6951166d-f6d6-403f-87a7-d4b1a2e95506",
   "metadata": {},
   "outputs": [],
   "source": [
    "imgs_bacteria = [file for file in os.listdir('data/BACTERIA') if file.endswith('.jpeg')]\n",
    "imgs_normal = [file for file in os.listdir('data/NORMAL') if file.endswith('.jpeg')]\n",
    "imgs_virus = [file for file in os.listdir('data/VIRUS') if file.endswith('.jpeg')]"
   ]
  },
  {
   "cell_type": "code",
   "execution_count": 4,
   "id": "3ddcfdb5-c8f6-4ca7-9b17-d3ca8797f9a7",
   "metadata": {},
   "outputs": [
    {
     "name": "stdout",
     "output_type": "stream",
     "text": [
      "There are 2780 pneumonia positive bacteria images\n",
      "There are 1493 pneumonia positive virus images\n",
      "There are 1583 pneumonia negative images\n"
     ]
    }
   ],
   "source": [
    "print('There are', len(imgs_bacteria), 'pneumonia positive bacteria images')\n",
    "print('There are', len(imgs_virus), 'pneumonia positive virus images')\n",
    "print('There are', len(imgs_normal), 'pneumonia negative images')"
   ]
  },
  {
   "cell_type": "code",
   "execution_count": 7,
   "id": "2f392562-6f6f-49c9-9bc5-656cb5f2f19c",
   "metadata": {},
   "outputs": [],
   "source": [
    "new_dir2 = 'data/split2/'\n",
    "org_bac = 'data/BACTERIA/'\n",
    "org_norm = 'data/NORMAL/'\n",
    "org_vir = 'data/VIRUS/'"
   ]
  },
  {
   "cell_type": "code",
   "execution_count": 8,
   "id": "262b3198-a9d1-4513-a3f3-a46a0c13291f",
   "metadata": {},
   "outputs": [],
   "source": [
    "os.mkdir(new_dir2)"
   ]
  },
  {
   "cell_type": "code",
   "execution_count": 9,
   "id": "d0ffb559-dea0-42b3-93b8-e87382d65eab",
   "metadata": {},
   "outputs": [],
   "source": [
    "train_folder = os.path.join(new_dir2, 'train')\n",
    "train_bac = os.path.join(train_folder, 'BACTERIA')\n",
    "train_vir = os.path.join(train_folder, 'VIRUS')\n",
    "train_non_pneu = os.path.join(train_folder, 'NORMAL')\n",
    "\n",
    "test_folder = os.path.join(new_dir2, 'test')\n",
    "test_bac = os.path.join(test_folder, 'BACTERIA')\n",
    "test_vir = os.path.join(test_folder, 'VIRUS')\n",
    "test_non_pneu = os.path.join(test_folder, 'NORMAL')\n",
    "\n",
    "val_folder = os.path.join(new_dir2, 'val')\n",
    "val_bac = os.path.join(val_folder, 'BACTERIA')\n",
    "val_vir = os.path.join(val_folder, 'VIRUS')\n",
    "val_non_pneu = os.path.join(val_folder, 'NORMAL')"
   ]
  },
  {
   "cell_type": "code",
   "execution_count": 10,
   "id": "779af034-9406-46c2-8176-bfd528269496",
   "metadata": {},
   "outputs": [],
   "source": [
    "os.mkdir(train_folder)\n",
    "os.mkdir(train_bac)\n",
    "os.mkdir(train_vir )\n",
    "os.mkdir(train_non_pneu)\n",
    "\n",
    "os.mkdir(val_folder)\n",
    "os.mkdir(val_bac)\n",
    "os.mkdir(val_vir)\n",
    "os.mkdir(val_non_pneu)\n",
    "\n",
    "os.mkdir(test_folder)\n",
    "os.mkdir(test_bac)\n",
    "os.mkdir(test_vir )\n",
    "os.mkdir(test_non_pneu)"
   ]
  },
  {
   "cell_type": "code",
   "execution_count": 11,
   "id": "1b0608b0-2e27-47f5-a074-6c6c7854788e",
   "metadata": {},
   "outputs": [],
   "source": [
    "random.shuffle(imgs_bacteria)\n",
    "random.shuffle(imgs_virus)\n",
    "random.shuffle(imgs_normal)"
   ]
  },
  {
   "cell_type": "code",
   "execution_count": 12,
   "id": "c63ab52b-402f-47c3-8bfb-fd0ee45c3650",
   "metadata": {},
   "outputs": [
    {
     "name": "stdout",
     "output_type": "stream",
     "text": [
      "Train bacteria should have 1668 images\n",
      "Validation pbacteria  should have 556 images\n",
      "Test bacteria  should have 556 images\n",
      "Train virus should have 896 images\n",
      "Validation virus should have 299 images\n",
      "Test virus should have 299 images\n",
      "Train normal should have 950 images\n",
      "Validation normal should have 317 images\n",
      "Test normalshould have 317 images\n"
     ]
    }
   ],
   "source": [
    "print(\"Train bacteria should have\", round(len(imgs_bacteria)*0.6),\"images\")\n",
    "print(\"Validation pbacteria  should have\", round(len(imgs_bacteria)*0.2),\"images\")\n",
    "print(\"Test bacteria  should have\", round(len(imgs_bacteria)*0.2),\"images\")\n",
    "\n",
    "print(\"Train virus should have\", round(len(imgs_virus)*0.6),\"images\")\n",
    "print(\"Validation virus should have\", round(len(imgs_virus)*0.2),\"images\")\n",
    "print(\"Test virus should have\", round(len(imgs_virus)*0.2),\"images\")\n",
    "\n",
    "print(\"Train normal should have\", round(len(imgs_normal)*0.6),\"images\")\n",
    "print(\"Validation normal should have\", round(len(imgs_normal)*0.2),\"images\")\n",
    "print(\"Test normalshould have\", round(len(imgs_normal)*0.2),\"images\")"
   ]
  },
  {
   "cell_type": "code",
   "execution_count": 13,
   "id": "a46c7617-d8d3-4ffb-9c90-4316ba7f3ff0",
   "metadata": {},
   "outputs": [],
   "source": [
    "# train bacteria \n",
    "imgs = imgs_bacteria[:1668]\n",
    "for img in imgs:\n",
    "    origin = os.path.join(org_bac, img)\n",
    "    destination = os.path.join(train_bac, img)\n",
    "    shutil.copyfile(origin, destination)\n",
    "    \n",
    "# validation bacteria \n",
    "imgs = imgs_bacteria[1668:2224]\n",
    "for img in imgs:\n",
    "    origin = os.path.join(org_bac, img)\n",
    "    destination = os.path.join(val_bac, img)\n",
    "    shutil.copyfile(origin, destination)\n",
    "\n",
    "# test bacteria \n",
    "imgs = imgs_bacteria[2224:]\n",
    "for img in imgs:\n",
    "    origin = os.path.join(org_bac, img)\n",
    "    destination = os.path.join(test_bac, img)\n",
    "    shutil.copyfile(origin, destination)"
   ]
  },
  {
   "cell_type": "code",
   "execution_count": 14,
   "id": "d31e3aaf-c3cc-4ab7-997f-06fa14fb303e",
   "metadata": {},
   "outputs": [],
   "source": [
    "# train virus \n",
    "imgs = imgs_virus[:896]\n",
    "for img in imgs:\n",
    "    origin = os.path.join(org_vir, img)\n",
    "    destination = os.path.join(train_vir, img)\n",
    "    shutil.copyfile(origin, destination)\n",
    "    \n",
    "# validation virus \n",
    "imgs = imgs_virus[896:1195]\n",
    "for img in imgs:\n",
    "    origin = os.path.join(org_vir, img)\n",
    "    destination = os.path.join(test_vir, img)\n",
    "    shutil.copyfile(origin, destination)\n",
    "    \n",
    "# test virus \n",
    "imgs = imgs_virus[1195:]\n",
    "for img in imgs:\n",
    "    origin = os.path.join(org_vir, img)\n",
    "    destination = os.path.join(val_vir, img)\n",
    "    shutil.copyfile(origin, destination)"
   ]
  },
  {
   "cell_type": "code",
   "execution_count": 15,
   "id": "c4967529-70f4-4cf3-9a58-e6e49d1570d0",
   "metadata": {},
   "outputs": [],
   "source": [
    "# train non-pneumonia\n",
    "imgs = imgs_normal[:950]\n",
    "for img in imgs:\n",
    "    origin = os.path.join(org_norm, img)\n",
    "    destination = os.path.join(train_non_pneu, img)\n",
    "    shutil.copyfile(origin, destination)\n",
    "    \n",
    "# validation non-pneumonia\n",
    "imgs = imgs_normal[950:1267]\n",
    "for img in imgs:\n",
    "    origin = os.path.join(org_norm, img)\n",
    "    destination = os.path.join(val_non_pneu, img)\n",
    "    shutil.copyfile(origin, destination)\n",
    "    \n",
    "# test non-pneumonia\n",
    "imgs = imgs_normal[1267:]\n",
    "for img in imgs:\n",
    "    origin = os.path.join(org_norm, img)\n",
    "    destination = os.path.join(test_non_pneu, img)\n",
    "    shutil.copyfile(origin, destination)"
   ]
  },
  {
   "cell_type": "code",
   "execution_count": 17,
   "id": "a11c37c3-b604-49d2-a525-9bbbd7d201c8",
   "metadata": {},
   "outputs": [
    {
     "name": "stdout",
     "output_type": "stream",
     "text": [
      "There are 1668 bacteria images in the training set\n",
      "There are 556 bacteria images in the validation set\n",
      "There are 556 bacteria images in the testing set\n",
      "There are 896 virus images in the training set\n",
      "There are 298 virus images in the validation set\n",
      "There are 299 virus images in the testing set\n",
      "There are 950 non-pneumonia images in the training set\n",
      "There are 317 non-pneumonia images in the validation set\n",
      "There are 316 non-pneumonia images in the testing set\n"
     ]
    }
   ],
   "source": [
    "print('There are', len(os.listdir(train_bac)), 'bacteria images in the training set')\n",
    "print('There are', len(os.listdir(val_bac)), 'bacteria images in the validation set')\n",
    "print('There are', len(os.listdir(test_bac)), 'bacteria images in the testing set')\n",
    "print('There are', len(os.listdir(train_vir)), 'virus images in the training set')\n",
    "print('There are', len(os.listdir(val_vir)), 'virus images in the validation set')\n",
    "print('There are', len(os.listdir(test_vir)), 'virus images in the testing set')\n",
    "print('There are', len(os.listdir(train_non_pneu)), 'non-pneumonia images in the training set')\n",
    "print('There are', len(os.listdir(val_non_pneu)), 'non-pneumonia images in the validation set')\n",
    "print('There are', len(os.listdir(test_non_pneu)), 'non-pneumonia images in the testing set')"
   ]
  }
 ],
 "metadata": {
  "kernelspec": {
   "display_name": "main_env",
   "language": "python",
   "name": "main_env"
  },
  "language_info": {
   "codemirror_mode": {
    "name": "ipython",
    "version": 3
   },
   "file_extension": ".py",
   "mimetype": "text/x-python",
   "name": "python",
   "nbconvert_exporter": "python",
   "pygments_lexer": "ipython3",
   "version": "3.8.11"
  }
 },
 "nbformat": 4,
 "nbformat_minor": 5
}
