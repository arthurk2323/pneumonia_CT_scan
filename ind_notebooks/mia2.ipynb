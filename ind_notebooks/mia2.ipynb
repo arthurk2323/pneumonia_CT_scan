{
 "cells": [
  {
   "cell_type": "code",
   "execution_count": 84,
   "id": "d07079b6-13f5-493d-ac0a-f4c87599265a",
   "metadata": {},
   "outputs": [],
   "source": [
    "import numpy as np\n",
    "import pandas as pd\n",
    "import tensorflow as tf\n",
    "from tensorflow import keras\n",
    "from keras.preprocessing.image import ImageDataGenerator,img_to_array,load_img\n",
    "import glob\n",
    "import cv2\n",
    "import os \n",
    "from keras import Sequential\n",
    "from keras.layers import Flatten,Dense,BatchNormalization,Dropout,LeakyReLU,GlobalAveragePooling2D\n",
    "from keras.optimizers import Adam,RMSprop\n",
    "from keras.losses import BinaryCrossentropy\n",
    "from keras.applications import ResNet50V2, VGG19\n",
    "from keras.callbacks import EarlyStopping\n",
    "from keras import models\n",
    "from keras.layers import Dropout, Flatten, Dense \n",
    "from keras.optimizers import SGD,Adam\n",
    "from keras.models import load_model\n",
    "from keras.utils import to_categorical \n",
    "from sklearn.metrics import confusion_matrix, plot_confusion_matrix, classification_report\n",
    "import math \n"
   ]
  },
  {
   "cell_type": "code",
   "execution_count": 2,
   "id": "5168bd17-fc32-411b-9580-5e2a95107da9",
   "metadata": {},
   "outputs": [],
   "source": [
    "train_path = \"data/split2/train/\"\n",
    "test_path = \"data/split2/test/\"\n",
    "val_path = \"data/split2/val/\""
   ]
  },
  {
   "cell_type": "code",
   "execution_count": 3,
   "id": "23c51a27-c4b4-4397-8810-366b07b80954",
   "metadata": {},
   "outputs": [
    {
     "name": "stdout",
     "output_type": "stream",
     "text": [
      "/Users/miafryer/Documents/flatiron/pneumonia_CT_scan\n"
     ]
    }
   ],
   "source": [
    "cd .."
   ]
  },
  {
   "cell_type": "code",
   "execution_count": 4,
   "id": "1d8583ed-b982-496f-8ee2-e89b6eb4ed24",
   "metadata": {},
   "outputs": [
    {
     "data": {
      "text/plain": [
       "1668"
      ]
     },
     "execution_count": 4,
     "metadata": {},
     "output_type": "execute_result"
    }
   ],
   "source": [
    "imgs_bacteria = [file for file in os.listdir(train_path+'BACTERIA') if file.endswith('.jpeg')]\n",
    "len(imgs_bacteria)"
   ]
  },
  {
   "cell_type": "code",
   "execution_count": 5,
   "id": "f3c504d2-4ed2-4812-a512-06fc3d5265fa",
   "metadata": {},
   "outputs": [
    {
     "name": "stdout",
     "output_type": "stream",
     "text": [
      "Found 3514 images belonging to 3 classes.\n"
     ]
    }
   ],
   "source": [
    "train_generator = ImageDataGenerator(rescale=1./255).flow_from_directory(\n",
    "        train_path, target_size=(64, 64), batch_size = 3514, class_mode='categorical') "
   ]
  },
  {
   "cell_type": "code",
   "execution_count": 6,
   "id": "4707e005-4696-4f64-9e03-a4baf50b9c48",
   "metadata": {},
   "outputs": [
    {
     "name": "stdout",
     "output_type": "stream",
     "text": [
      "Found 1171 images belonging to 3 classes.\n",
      "Found 1171 images belonging to 3 classes.\n"
     ]
    }
   ],
   "source": [
    "test_generator = ImageDataGenerator(rescale=1./255).flow_from_directory(\n",
    "        test_path, \n",
    "        target_size=(64, 64), \n",
    "        batch_size = 1171,\n",
    "        class_mode='categorical') \n",
    "\n",
    "val_generator = ImageDataGenerator(rescale=1./255).flow_from_directory(\n",
    "        val_path, \n",
    "        target_size=(64, 64),\n",
    "        batch_size = 1171,\n",
    "        class_mode='categorical')\n"
   ]
  },
  {
   "cell_type": "code",
   "execution_count": 7,
   "id": "6d8ee411-d4e7-40a9-99ce-b762f25dfc26",
   "metadata": {},
   "outputs": [
    {
     "name": "stdout",
     "output_type": "stream",
     "text": [
      "{'BACTERIA': 0, 'NORMAL': 1, 'VIRUS': 2}\n",
      "{'BACTERIA': 0, 'NORMAL': 1, 'VIRUS': 2}\n",
      "{'BACTERIA': 0, 'NORMAL': 1, 'VIRUS': 2}\n"
     ]
    }
   ],
   "source": [
    "print(train_generator.class_indices)\n",
    "print(val_generator.class_indices)\n",
    "print(test_generator.class_indices)"
   ]
  },
  {
   "cell_type": "code",
   "execution_count": 8,
   "id": "be54a701-ba72-49c0-b7b5-029705bc722d",
   "metadata": {},
   "outputs": [],
   "source": [
    "train_images, train_labels = next(train_generator)\n",
    "test_images, test_labels = next(test_generator)\n",
    "val_images, val_labels = next(val_generator)"
   ]
  },
  {
   "cell_type": "code",
   "execution_count": null,
   "id": "ac3ebd0a-0b5a-4406-a619-907c57698797",
   "metadata": {},
   "outputs": [],
   "source": [
    "X_train = train_images.reshape((-1, 28, 28, 1))\n",
    "X_test = X_test.reshape(X_test.shape[0], *(28, 28, 1))\n",
    "X_validate = X_validate.reshape(X_validate.shape[0], *(28, 28, 1))"
   ]
  },
  {
   "cell_type": "code",
   "execution_count": 9,
   "id": "36ec457c-9e7e-4e0d-a1dd-b88b8e8659f7",
   "metadata": {},
   "outputs": [
    {
     "name": "stdout",
     "output_type": "stream",
     "text": [
      "Number of training samples: 3514\n",
      "Number of testing samples: 1171\n",
      "Number of validation samples: 1171\n",
      "train_images shape: (3514, 64, 64, 3)\n",
      "train_labels shape: (3514, 3)\n",
      "test_images shape: (1171, 64, 64, 3)\n",
      "test_labels shape: (1171, 3)\n",
      "val_images shape: (1171, 64, 64, 3)\n",
      "val_labels shape: (1171, 3)\n"
     ]
    }
   ],
   "source": [
    "m_train = train_images.shape[0]\n",
    "num_px = train_images.shape[1]\n",
    "m_test = test_images.shape[0]\n",
    "m_val = val_images.shape[0]\n",
    "\n",
    "print (\"Number of training samples: \" + str(m_train))\n",
    "print (\"Number of testing samples: \" + str(m_test))\n",
    "print (\"Number of validation samples: \" + str(m_val))\n",
    "print (\"train_images shape: \" + str(train_images.shape))\n",
    "print (\"train_labels shape: \" + str(train_labels.shape))\n",
    "print (\"test_images shape: \" + str(test_images.shape))\n",
    "print (\"test_labels shape: \" + str(test_labels.shape))\n",
    "print (\"val_images shape: \" + str(val_images.shape))\n",
    "print (\"val_labels shape: \" + str(val_labels.shape))"
   ]
  },
  {
   "cell_type": "code",
   "execution_count": 10,
   "id": "733e2e53-ea4c-4697-bb5b-45f16156d8b6",
   "metadata": {},
   "outputs": [
    {
     "name": "stdout",
     "output_type": "stream",
     "text": [
      "(3514, 12288)\n",
      "(1171, 12288)\n",
      "(1171, 12288)\n"
     ]
    }
   ],
   "source": [
    "train_img = train_images.reshape(train_images.shape[0], -1)\n",
    "test_img = test_images.reshape(test_images.shape[0], -1)\n",
    "val_img = val_images.reshape(val_images.shape[0], -1)\n",
    "\n",
    "print(train_img.shape)\n",
    "print(test_img.shape)\n",
    "print(val_img.shape)"
   ]
  },
  {
   "cell_type": "code",
   "execution_count": 13,
   "id": "30f8cf93-889c-4baf-b499-777419e2c37e",
   "metadata": {},
   "outputs": [],
   "source": [
    "#train_classes = train_generator.classes \n",
    "num_classes_train = len(train_generator.class_indices) \n",
    "#train_labels_cat = to_categorical(train_classes, num_classes=num_classes_train)"
   ]
  },
  {
   "cell_type": "markdown",
   "id": "840fe579-b155-40df-afed-8b5a065802f7",
   "metadata": {},
   "source": [
    "## Base Model"
   ]
  },
  {
   "cell_type": "code",
   "execution_count": 48,
   "id": "72f250ce-e757-42ff-b5fc-0d42dacdad3d",
   "metadata": {},
   "outputs": [],
   "source": [
    "model1 = models.Sequential()\n",
    "#model1.add(Flatten(input_shape=train_img.shape[1:])) \n",
    "model1.add(layers.Dense(20, activation='relu', input_shape=(12288,)))\n",
    "model1.add(layers.Dense(7, activation='relu'))\n",
    "model1.add(layers.Dense(5, activation='relu'))\n",
    "model1.add(layers.Dense(num_classes_train, activation='softmax'))\n",
    "\n",
    "model1.compile(optimizer='sgd',\n",
    "              loss='categorical_crossentropy',\n",
    "              metrics=['accuracy'])\n"
   ]
  },
  {
   "cell_type": "code",
   "execution_count": 49,
   "id": "5e164613-b2d5-4720-83a4-0306753e49bb",
   "metadata": {},
   "outputs": [
    {
     "name": "stdout",
     "output_type": "stream",
     "text": [
      "Epoch 1/10\n",
      "71/71 [==============================] - 0s 5ms/step - loss: 1.1344 - accuracy: 0.3497 - val_loss: 1.0746 - val_accuracy: 0.4936\n",
      "Epoch 2/10\n",
      "71/71 [==============================] - 0s 4ms/step - loss: 1.0677 - accuracy: 0.4736 - val_loss: 1.0564 - val_accuracy: 0.4791\n",
      "Epoch 3/10\n",
      "71/71 [==============================] - 0s 4ms/step - loss: 1.0479 - accuracy: 0.4803 - val_loss: 1.0311 - val_accuracy: 0.4791\n",
      "Epoch 4/10\n",
      "71/71 [==============================] - 0s 4ms/step - loss: 1.0294 - accuracy: 0.4918 - val_loss: 1.0508 - val_accuracy: 0.5278\n",
      "Epoch 5/10\n",
      "71/71 [==============================] - 0s 4ms/step - loss: 1.0163 - accuracy: 0.5244 - val_loss: 0.9979 - val_accuracy: 0.5687\n",
      "Epoch 6/10\n",
      "71/71 [==============================] - 0s 3ms/step - loss: 0.9918 - accuracy: 0.5761 - val_loss: 0.9819 - val_accuracy: 0.5594\n",
      "Epoch 7/10\n",
      "71/71 [==============================] - 0s 4ms/step - loss: 0.9497 - accuracy: 0.6233 - val_loss: 1.0073 - val_accuracy: 0.4321\n",
      "Epoch 8/10\n",
      "71/71 [==============================] - 0s 4ms/step - loss: 0.9087 - accuracy: 0.6315 - val_loss: 0.8937 - val_accuracy: 0.6328\n",
      "Epoch 9/10\n",
      "71/71 [==============================] - 0s 4ms/step - loss: 0.8540 - accuracy: 0.6618 - val_loss: 0.8288 - val_accuracy: 0.6618\n",
      "Epoch 10/10\n",
      "71/71 [==============================] - 0s 4ms/step - loss: 0.8318 - accuracy: 0.6537 - val_loss: 0.8294 - val_accuracy: 0.6541\n"
     ]
    }
   ],
   "source": [
    "history1 = model1.fit(train_img, train_labels, \n",
    "   epochs=10,\n",
    "   batch_size=50, \n",
    "   validation_data=(val_img,val_labels))"
   ]
  },
  {
   "cell_type": "code",
   "execution_count": 51,
   "id": "885d4a9c-9e70-4e3a-a9b7-c6a22a42e989",
   "metadata": {},
   "outputs": [
    {
     "name": "stdout",
     "output_type": "stream",
     "text": [
      "Model: \"sequential_12\"\n",
      "_________________________________________________________________\n",
      "Layer (type)                 Output Shape              Param #   \n",
      "=================================================================\n",
      "dense_36 (Dense)             (None, 20)                245780    \n",
      "_________________________________________________________________\n",
      "dense_37 (Dense)             (None, 7)                 147       \n",
      "_________________________________________________________________\n",
      "dense_38 (Dense)             (None, 5)                 40        \n",
      "_________________________________________________________________\n",
      "dense_39 (Dense)             (None, 3)                 18        \n",
      "=================================================================\n",
      "Total params: 245,985\n",
      "Trainable params: 245,985\n",
      "Non-trainable params: 0\n",
      "_________________________________________________________________\n"
     ]
    }
   ],
   "source": [
    "model1.summary()"
   ]
  },
  {
   "cell_type": "markdown",
   "id": "ad770b15-c5b1-448f-9bdf-5a136b4b6452",
   "metadata": {},
   "source": [
    "## Neural Network 2"
   ]
  },
  {
   "cell_type": "code",
   "execution_count": 14,
   "id": "bc74434b-2b78-4804-b192-7e64941ba289",
   "metadata": {},
   "outputs": [],
   "source": [
    "mode2 = Sequential() \n",
    "#model1.add(Flatten(input_shape=(12288,))) \n",
    "model2.add(Flatten(input_shape=train_img.shape[1:])) \n",
    "model2.add(Dense(100, activation=keras.layers.LeakyReLU(alpha=0.3))) \n",
    "model2.add(Dropout(0.5)) \n",
    "model2.add(Dense(50, activation=keras.layers.LeakyReLU(alpha=0.3))) \n",
    "model2.add(Dropout(0.3)) \n",
    "model2.add(Dense(num_classes_train, activation='softmax'))\n",
    "\n",
    "model2.compile(loss='categorical_crossentropy',\n",
    "   optimizer=optimizers.RMSprop(lr=1e-4),\n",
    "   metrics=['acc'])"
   ]
  },
  {
   "cell_type": "code",
   "execution_count": 16,
   "id": "737db956-569c-44a6-a868-1bcd5d303f7d",
   "metadata": {},
   "outputs": [
    {
     "name": "stdout",
     "output_type": "stream",
     "text": [
      "Epoch 1/10\n",
      "71/71 [==============================] - 1s 9ms/step - loss: 0.7479 - acc: 0.6827 - val_loss: 0.7567 - val_acc: 0.6524\n",
      "Epoch 2/10\n",
      "71/71 [==============================] - 1s 9ms/step - loss: 0.7398 - acc: 0.6838 - val_loss: 0.8690 - val_acc: 0.6678\n",
      "Epoch 3/10\n",
      "71/71 [==============================] - 1s 8ms/step - loss: 0.7109 - acc: 0.6938 - val_loss: 0.6573 - val_acc: 0.7190\n",
      "Epoch 4/10\n",
      "71/71 [==============================] - 1s 9ms/step - loss: 0.7326 - acc: 0.6941 - val_loss: 0.6904 - val_acc: 0.7088\n",
      "Epoch 5/10\n",
      "71/71 [==============================] - 1s 9ms/step - loss: 0.6936 - acc: 0.7012 - val_loss: 0.6059 - val_acc: 0.7344\n",
      "Epoch 6/10\n",
      "71/71 [==============================] - 1s 8ms/step - loss: 0.6958 - acc: 0.6929 - val_loss: 0.6699 - val_acc: 0.7088\n",
      "Epoch 7/10\n",
      "71/71 [==============================] - 1s 9ms/step - loss: 0.6936 - acc: 0.7040 - val_loss: 0.7447 - val_acc: 0.6772\n",
      "Epoch 8/10\n",
      "71/71 [==============================] - 1s 8ms/step - loss: 0.6804 - acc: 0.7072 - val_loss: 0.6086 - val_acc: 0.7412\n",
      "Epoch 9/10\n",
      "71/71 [==============================] - 1s 8ms/step - loss: 0.6618 - acc: 0.7143 - val_loss: 0.8658 - val_acc: 0.6302\n",
      "Epoch 10/10\n",
      "71/71 [==============================] - 1s 8ms/step - loss: 0.6695 - acc: 0.7134 - val_loss: 0.5769 - val_acc: 0.7301\n"
     ]
    }
   ],
   "source": [
    "history2 = model2.fit(train_img, train_labels, \n",
    "   epochs=10,\n",
    "   batch_size=50, \n",
    "   validation_data=(val_img , val_labels))"
   ]
  },
  {
   "cell_type": "code",
   "execution_count": 18,
   "id": "00b331ff-2f22-4ea9-a92f-ae8313b3fb5c",
   "metadata": {},
   "outputs": [
    {
     "name": "stdout",
     "output_type": "stream",
     "text": [
      "24/24 [==============================] - 0s 3ms/step - loss: 0.6048 - acc: 0.7259\n"
     ]
    }
   ],
   "source": [
    "(eval_loss, eval_accuracy) = model2.evaluate( \n",
    "    test_img , test_labels, batch_size=50, verbose=1)"
   ]
  },
  {
   "cell_type": "code",
   "execution_count": 19,
   "id": "ed69fbee-ced7-49b2-8c31-5d82d2c2e635",
   "metadata": {},
   "outputs": [],
   "source": [
    "y_hat_test = model2.predict(test_img) "
   ]
  },
  {
   "cell_type": "code",
   "execution_count": 20,
   "id": "feec75e6-654f-4ea8-93c5-3be6d46773db",
   "metadata": {},
   "outputs": [],
   "source": [
    "categorical_test_labels = pd.DataFrame(test_labels,columns= ('BACTERIA', 'NORMAL', 'VIRUS')).idxmax(axis=1)\n",
    "categorical_preds = pd.DataFrame(y_hat_test,columns= ('BACTERIA', 'NORMAL', 'VIRUS')).idxmax(axis=1)"
   ]
  },
  {
   "cell_type": "code",
   "execution_count": 21,
   "id": "204eb09a-e079-4599-9389-77b9cfba3bfd",
   "metadata": {},
   "outputs": [
    {
     "data": {
      "text/plain": [
       "<AxesSubplot:>"
      ]
     },
     "execution_count": 21,
     "metadata": {},
     "output_type": "execute_result"
    },
    {
     "data": {
      "image/png": "[encoded data removed]",
      "text/plain": [
       "<Figure size 432x288 with 2 Axes>"
      ]
     },
     "metadata": {
      "needs_background": "light"
     },
     "output_type": "display_data"
    }
   ],
   "source": [
    "cnf_matrix = confusion_matrix(categorical_test_labels,categorical_preds,labels=['BACTERIA', 'NORMAL' ,'VIRUS'] )\n",
    "sns.heatmap(cnf_matrix , annot=True, fmt=\"d\",cmap=\"YlGnBu\",xticklabels=['BACTERIA', 'NORMAL' ,'VIRUS'], yticklabels=['BACTERIA', 'NORMAL' ,'VIRUS'])"
   ]
  },
  {
   "cell_type": "code",
   "execution_count": 25,
   "id": "16f9e40d-70d4-4204-82ad-702b1fec3b46",
   "metadata": {},
   "outputs": [
    {
     "name": "stdout",
     "output_type": "stream",
     "text": [
      "              precision    recall  f1-score   support\n",
      "\n",
      "    BACTERIA       0.67      0.93      0.78       556\n",
      "      NORMAL       0.90      0.85      0.87       316\n",
      "       VIRUS       0.67      0.22      0.33       299\n",
      "\n",
      "    accuracy                           0.73      1171\n",
      "   macro avg       0.74      0.67      0.66      1171\n",
      "weighted avg       0.73      0.73      0.69      1171\n",
      "\n"
     ]
    }
   ],
   "source": [
    "classification_metrics= classification_report(categorical_test_labels,categorical_preds, target_names=['BACTERIA', 'NORMAL' ,'VIRUS'])\n",
    "print(classification_metrics)"
   ]
  },
  {
   "cell_type": "markdown",
   "id": "8b400ba4-aeba-4add-a77c-7881ae316e58",
   "metadata": {},
   "source": [
    "## CNN 1"
   ]
  },
  {
   "cell_type": "code",
   "execution_count": 57,
   "id": "5999ff41-90d0-40ab-bb2b-0ba1bbf71701",
   "metadata": {},
   "outputs": [],
   "source": [
    "model3 = models.Sequential()\n",
    "model3.add(layers.Conv2D(32, (3, 3), activation='relu',\n",
    "                        input_shape=(64 ,64,  3)))\n",
    "model3.add(layers.MaxPooling2D((2, 2)))\n",
    "\n",
    "model3.add(layers.Conv2D(32, (4, 4), activation='relu'))\n",
    "model3.add(layers.MaxPooling2D((2, 2)))\n",
    "\n",
    "model3.add(layers.Conv2D(64, (3, 3), activation='relu'))\n",
    "model3.add(layers.MaxPooling2D((2, 2)))\n",
    "\n",
    "model3.add(layers.Flatten())\n",
    "model3.add(layers.Dense(64, activation='relu'))\n",
    "model3.add(layers.Dense(num_classes_train, activation='softmax'))\n",
    "\n",
    "model3.compile(loss='categorical_crossentropy',\n",
    "              optimizer= 'sgd',\n",
    "              metrics=['acc'])"
   ]
  },
  {
   "cell_type": "code",
   "execution_count": 63,
   "id": "375a1820-ccb1-43cc-8dca-9d5a8de95d89",
   "metadata": {},
   "outputs": [
    {
     "name": "stdout",
     "output_type": "stream",
     "text": [
      "Epoch 1/10\n",
      "36/36 [==============================] - 7s 188ms/step - loss: 1.0365 - acc: 0.4747 - val_loss: 1.0396 - val_acc: 0.5107\n",
      "Epoch 2/10\n",
      "36/36 [==============================] - 7s 184ms/step - loss: 1.0233 - acc: 0.4772 - val_loss: 1.0192 - val_acc: 0.4748\n",
      "Epoch 3/10\n",
      "36/36 [==============================] - 7s 181ms/step - loss: 1.0002 - acc: 0.5014 - val_loss: 1.0232 - val_acc: 0.5030\n",
      "Epoch 4/10\n",
      "36/36 [==============================] - 6s 179ms/step - loss: 0.9753 - acc: 0.5566 - val_loss: 1.0639 - val_acc: 0.4748\n",
      "Epoch 5/10\n",
      "36/36 [==============================] - 7s 186ms/step - loss: 0.9539 - acc: 0.5697 - val_loss: 0.9065 - val_acc: 0.6055\n",
      "Epoch 6/10\n",
      "36/36 [==============================] - 7s 186ms/step - loss: 0.9133 - acc: 0.5891 - val_loss: 1.4476 - val_acc: 0.4748\n",
      "Epoch 7/10\n",
      "36/36 [==============================] - 7s 184ms/step - loss: 0.9026 - acc: 0.6042 - val_loss: 0.9865 - val_acc: 0.5030\n",
      "Epoch 8/10\n",
      "36/36 [==============================] - 7s 189ms/step - loss: 0.8651 - acc: 0.6047 - val_loss: 1.0617 - val_acc: 0.4560\n",
      "Epoch 9/10\n",
      "36/36 [==============================] - 7s 185ms/step - loss: 0.8077 - acc: 0.6460 - val_loss: 1.0167 - val_acc: 0.4176\n",
      "Epoch 10/10\n",
      "36/36 [==============================] - 7s 190ms/step - loss: 0.7823 - acc: 0.6497 - val_loss: 0.8859 - val_acc: 0.4910\n"
     ]
    }
   ],
   "source": [
    "data = train_img.reshape(3514,64,64,3)\n",
    "data_val = val_img.reshape(1171,64,64,3)\n",
    "\n",
    "\n",
    "history3 = model3.fit(data, train_labels, \n",
    "   epochs=10,\n",
    "   batch_size=100, \n",
    "   validation_data=(data_val, val_labels))"
   ]
  },
  {
   "cell_type": "code",
   "execution_count": 50,
   "id": "d38b7952-e490-4e1c-8bc3-73e3e33c6c62",
   "metadata": {},
   "outputs": [
    {
     "name": "stdout",
     "output_type": "stream",
     "text": [
      "Model: \"sequential_4\"\n",
      "_________________________________________________________________\n",
      "Layer (type)                 Output Shape              Param #   \n",
      "=================================================================\n",
      "conv2d (Conv2D)              (None, 62, 62, 32)        896       \n",
      "_________________________________________________________________\n",
      "max_pooling2d (MaxPooling2D) (None, 31, 31, 32)        0         \n",
      "_________________________________________________________________\n",
      "conv2d_1 (Conv2D)            (None, 28, 28, 32)        16416     \n",
      "_________________________________________________________________\n",
      "max_pooling2d_1 (MaxPooling2 (None, 14, 14, 32)        0         \n",
      "_________________________________________________________________\n",
      "conv2d_2 (Conv2D)            (None, 12, 12, 64)        18496     \n",
      "_________________________________________________________________\n",
      "max_pooling2d_2 (MaxPooling2 (None, 6, 6, 64)          0         \n",
      "_________________________________________________________________\n",
      "flatten_4 (Flatten)          (None, 2304)              0         \n",
      "_________________________________________________________________\n",
      "dense_13 (Dense)             (None, 64)                147520    \n",
      "_________________________________________________________________\n",
      "dense_14 (Dense)             (None, 3)                 195       \n",
      "=================================================================\n",
      "Total params: 183,523\n",
      "Trainable params: 183,523\n",
      "Non-trainable params: 0\n",
      "_________________________________________________________________\n"
     ]
    }
   ],
   "source": [
    "model3.summary()"
   ]
  },
  {
   "cell_type": "markdown",
   "id": "472619dd-782d-4b72-a1d6-2a2c6ecc96f7",
   "metadata": {},
   "source": [
    "## CNN 2"
   ]
  },
  {
   "cell_type": "code",
   "execution_count": 68,
   "id": "61e0e21d-1aaa-4ed8-9839-3274bccf9dcb",
   "metadata": {},
   "outputs": [],
   "source": [
    "model4= models.Sequential()\n",
    "model4.add(layers.Conv2D(filters=48, kernel_size=3, activation='relu', input_shape=[64, 64, 3]))\n",
    "model4.add(layers.MaxPool2D(pool_size=2, strides=2))\n",
    "model4.add(layers.Conv2D(filters=48, kernel_size=3, activation='relu'))\n",
    "model4.add(layers.MaxPool2D(pool_size=2, strides=2))\n",
    "model4.add(layers.Conv2D(filters=32, kernel_size=3, activation='relu'))\n",
    "model4.add(layers.MaxPool2D(pool_size=2, strides=2))\n",
    "model4.add(layers.Flatten())\n",
    "model4.add(layers.Dense(128, activation='relu'))\n",
    "model4.add(layers.Dense(64, activation='relu'))\n",
    "model4.add(layers.Dense(3, activation='softmax'))\n",
    "\n",
    "# finally compile and train the cnn\n",
    "model4.compile(optimizer=\"adam\", loss=\"categorical_crossentropy\", metrics=[\"accuracy\"])"
   ]
  },
  {
   "cell_type": "code",
   "execution_count": 69,
   "id": "aa909672-34b0-4023-99d7-412a7212faea",
   "metadata": {},
   "outputs": [
    {
     "name": "stdout",
     "output_type": "stream",
     "text": [
      "Epoch 1/10\n",
      "36/36 [==============================] - 8s 221ms/step - loss: 1.0607 - accuracy: 0.4410 - val_loss: 0.8806 - val_accuracy: 0.6200\n",
      "Epoch 2/10\n",
      "36/36 [==============================] - 8s 222ms/step - loss: 0.7617 - accuracy: 0.6713 - val_loss: 0.6474 - val_accuracy: 0.7182\n",
      "Epoch 3/10\n",
      "36/36 [==============================] - 8s 217ms/step - loss: 0.6443 - accuracy: 0.7281 - val_loss: 0.5825 - val_accuracy: 0.7549\n",
      "Epoch 4/10\n",
      "36/36 [==============================] - 8s 217ms/step - loss: 0.5577 - accuracy: 0.7632 - val_loss: 0.6199 - val_accuracy: 0.7310\n",
      "Epoch 5/10\n",
      "36/36 [==============================] - 8s 221ms/step - loss: 0.5445 - accuracy: 0.7713 - val_loss: 0.5358 - val_accuracy: 0.7831\n",
      "Epoch 6/10\n",
      "36/36 [==============================] - 8s 221ms/step - loss: 0.4964 - accuracy: 0.7918 - val_loss: 0.5169 - val_accuracy: 0.7839\n",
      "Epoch 7/10\n",
      "36/36 [==============================] - 8s 223ms/step - loss: 0.4971 - accuracy: 0.7914 - val_loss: 0.5670 - val_accuracy: 0.7677\n",
      "Epoch 8/10\n",
      "36/36 [==============================] - 8s 224ms/step - loss: 0.5019 - accuracy: 0.7863 - val_loss: 0.5702 - val_accuracy: 0.7728\n",
      "Epoch 9/10\n",
      "36/36 [==============================] - 8s 229ms/step - loss: 0.4943 - accuracy: 0.7828 - val_loss: 0.5093 - val_accuracy: 0.7891\n",
      "Epoch 10/10\n",
      "36/36 [==============================] - 8s 230ms/step - loss: 0.4548 - accuracy: 0.8024 - val_loss: 0.5318 - val_accuracy: 0.7831\n"
     ]
    }
   ],
   "source": [
    "history4 = model4.fit(data, train_labels, \n",
    "   epochs=10,\n",
    "   batch_size=100, \n",
    "   validation_data=(data_val, val_labels))"
   ]
  },
  {
   "cell_type": "markdown",
   "id": "cbce6898-0454-4148-833d-952cf56bf991",
   "metadata": {},
   "source": [
    "## Trasnfer learning VGG19"
   ]
  },
  {
   "cell_type": "code",
   "execution_count": 99,
   "id": "48888438-502e-41e1-86dd-7f7fdc2cb241",
   "metadata": {},
   "outputs": [],
   "source": [
    "base_model = VGG19(include_top = False, weights = 'imagenet', input_shape = (64,64,3), classes = train_labels.shape[1])\n",
    "model5= models.Sequential()\n",
    "model5.add(base_model) \n",
    "model5.add(Flatten()) \n",
    "model5.add(Dense(1024,activation=('relu')))\n",
    "model5.add(Dense(512,activation=('relu'))) \n",
    "model5.add(Dense(256,activation=('relu'))) \n",
    "model5.add(Dropout(.3))\n",
    "#model.add(Dropout(.2))\n",
    "model5.add(Dense(3,activation=('softmax'))) "
   ]
  },
  {
   "cell_type": "code",
   "execution_count": 100,
   "id": "c3228353-b926-459a-81ac-88a68c9fe64b",
   "metadata": {},
   "outputs": [
    {
     "name": "stdout",
     "output_type": "stream",
     "text": [
      "Model: \"sequential_25\"\n",
      "_________________________________________________________________\n",
      "Layer (type)                 Output Shape              Param #   \n",
      "=================================================================\n",
      "vgg19 (Functional)           (None, 2, 2, 512)         20024384  \n",
      "_________________________________________________________________\n",
      "flatten_14 (Flatten)         (None, 2048)              0         \n",
      "_________________________________________________________________\n",
      "dense_62 (Dense)             (None, 1024)              2098176   \n",
      "_________________________________________________________________\n",
      "dense_63 (Dense)             (None, 512)               524800    \n",
      "_________________________________________________________________\n",
      "dense_64 (Dense)             (None, 256)               131328    \n",
      "_________________________________________________________________\n",
      "dropout_6 (Dropout)          (None, 256)               0         \n",
      "_________________________________________________________________\n",
      "dense_65 (Dense)             (None, 3)                 771       \n",
      "=================================================================\n",
      "Total params: 22,779,459\n",
      "Trainable params: 22,779,459\n",
      "Non-trainable params: 0\n",
      "_________________________________________________________________\n"
     ]
    }
   ],
   "source": [
    "model5.summary()"
   ]
  },
  {
   "cell_type": "code",
   "execution_count": 101,
   "id": "0bae2f93-c024-4fb7-9c2a-419a9a943225",
   "metadata": {},
   "outputs": [],
   "source": [
    "learn_rate=.001\n",
    "sgd=SGD(lr=learn_rate,momentum=.9,nesterov=False)\n",
    "adam=Adam(lr=learn_rate, beta_1=0.9, beta_2=0.999, epsilon=None, decay=0.0, amsgrad=False)\n",
    "model5.compile(optimizer=sgd,loss='categorical_crossentropy',metrics=['accuracy'])"
   ]
  },
  {
   "cell_type": "code",
   "execution_count": 102,
   "id": "a739b76f-5c7f-4ca5-b14c-ace4da4f80d5",
   "metadata": {},
   "outputs": [
    {
     "name": "stdout",
     "output_type": "stream",
     "text": [
      "Epoch 1/10\n",
      "36/36 [==============================] - 457s 13s/step - loss: 1.0420 - accuracy: 0.4938 - val_loss: 0.6539 - val_accuracy: 0.7165\n",
      "Epoch 2/10\n",
      "36/36 [==============================] - 457s 13s/step - loss: 0.6507 - accuracy: 0.7067 - val_loss: 0.5115 - val_accuracy: 0.7942\n",
      "Epoch 3/10\n",
      "36/36 [==============================] - 465s 13s/step - loss: 0.5107 - accuracy: 0.7949 - val_loss: 0.5019 - val_accuracy: 0.7950\n",
      "Epoch 4/10\n",
      "36/36 [==============================] - 450s 13s/step - loss: 0.4758 - accuracy: 0.8041 - val_loss: 0.4697 - val_accuracy: 0.8121\n",
      "Epoch 5/10\n",
      "36/36 [==============================] - 448s 12s/step - loss: 0.4435 - accuracy: 0.8126 - val_loss: 0.4673 - val_accuracy: 0.8087\n",
      "Epoch 6/10\n",
      "36/36 [==============================] - 445s 12s/step - loss: 0.4061 - accuracy: 0.8339 - val_loss: 0.5194 - val_accuracy: 0.8002\n",
      "Epoch 7/10\n",
      "36/36 [==============================] - 452s 13s/step - loss: 0.4210 - accuracy: 0.8333 - val_loss: 0.4680 - val_accuracy: 0.8155\n",
      "Epoch 8/10\n",
      "36/36 [==============================] - 484s 13s/step - loss: 0.3618 - accuracy: 0.8499 - val_loss: 0.4767 - val_accuracy: 0.8130\n",
      "Epoch 9/10\n",
      "36/36 [==============================] - 485s 13s/step - loss: 0.3595 - accuracy: 0.8500 - val_loss: 0.5256 - val_accuracy: 0.8113\n",
      "Epoch 10/10\n",
      "36/36 [==============================] - 485s 14s/step - loss: 0.3750 - accuracy: 0.8412 - val_loss: 0.4366 - val_accuracy: 0.8232\n"
     ]
    }
   ],
   "source": [
    "history5 = model5.fit(data, train_labels, \n",
    "   epochs=10,\n",
    "   batch_size=100, \n",
    "   validation_data=(data_val, val_labels))"
   ]
  },
  {
   "cell_type": "code",
   "execution_count": null,
   "id": "4be679dc-9e9c-485c-9980-14d8caba7c6d",
   "metadata": {},
   "outputs": [],
   "source": [
    "cnf_matrix = confusion_matrix(categorical_test_labels,categorical_preds,labels=['BACTERIA', 'NORMAL' ,'VIRUS'] )\n",
    "sns.heatmap(cnf_matrix , annot=True, fmt=\"d\",cmap=\"YlGnBu\",xticklabels=['BACTERIA', 'NORMAL' ,'VIRUS'], yticklabels=['BACTERIA', 'NORMAL' ,'VIRUS'])\n"
   ]
  }
 ],
 "metadata": {
  "kernelspec": {
   "display_name": "tf_env",
   "language": "python",
   "name": "tf_env"
  },
  "language_info": {
   "codemirror_mode": {
    "name": "ipython",
    "version": 3
   },
   "file_extension": ".py",
   "mimetype": "text/x-python",
   "name": "python",
   "nbconvert_exporter": "python",
   "pygments_lexer": "ipython3",
   "version": "3.8.11"
  }
 },
 "nbformat": 4,
 "nbformat_minor": 5
}
