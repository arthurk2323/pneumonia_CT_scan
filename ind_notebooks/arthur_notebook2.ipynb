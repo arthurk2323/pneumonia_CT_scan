{
 "cells": [
  {
   "cell_type": "code",
   "execution_count": 1,
   "id": "f164d0da-af26-4a8c-a11f-2fc1222af931",
   "metadata": {},
   "outputs": [
    {
     "name": "stdout",
     "output_type": "stream",
     "text": [
      "/Users/arthur/Documents/Flatiron/phase_4/Project/pneumonia_CT_scan\n"
     ]
    }
   ],
   "source": [
    "cd .."
   ]
  },
  {
   "cell_type": "code",
   "execution_count": 2,
   "id": "cc0b1887-aa0d-443e-a9e2-c327dff5bff8",
   "metadata": {},
   "outputs": [],
   "source": [
    "import os, shutil, random\n",
    "import pandas as pd\n",
    "import numpy as np\n",
    "from tensorflow.keras import models, layers\n",
    "from tensorflow.keras.preprocessing.image import ImageDataGenerator, array_to_img, img_to_array, load_img"
   ]
  },
  {
   "cell_type": "code",
   "execution_count": 3,
   "id": "b16ff4d8-0695-481b-abde-f0aa5b25e1a7",
   "metadata": {},
   "outputs": [],
   "source": [
    "train_dir = 'data/split/train'\n",
    "val_dir = 'data/split/val'\n",
    "test_dir = 'data/split/test'\n",
    "\n",
    "train_pneu = train_dir + '/PNEUMONIA'\n",
    "val_pneu = val_dir + '/PNEUMONIA'\n",
    "test_pneu = test_dir + '/PNEUMONIA'\n",
    "train_non_pneu = train_dir + '/NORMAL'\n",
    "val_non_pneu = val_dir + '/NORMAL'\n",
    "test_non_pneu = test_dir + '/NORMAL'"
   ]
  },
  {
   "cell_type": "code",
   "execution_count": 4,
   "id": "69b3268a-9cd1-4cca-ba38-fa815973be47",
   "metadata": {},
   "outputs": [
    {
     "name": "stdout",
     "output_type": "stream",
     "text": [
      "There are 2564 pneumonia images in the training set\n",
      "There are 855 pneumonia images in the validation set\n",
      "There are 854 pneumonia images in the testing set\n",
      "There are 950 non-pneumonia images in the training set\n",
      "There are 317 non-pneumonia images in the validation set\n",
      "There are 316 non-pneumonia images in the testing set\n"
     ]
    }
   ],
   "source": [
    "print('There are', len(os.listdir(train_pneu)), 'pneumonia images in the training set')\n",
    "print('There are', len(os.listdir(val_pneu)), 'pneumonia images in the validation set')\n",
    "print('There are', len(os.listdir(test_pneu)), 'pneumonia images in the testing set')\n",
    "print('There are', len(os.listdir(train_non_pneu)), 'non-pneumonia images in the training set')\n",
    "print('There are', len(os.listdir(val_non_pneu)), 'non-pneumonia images in the validation set')\n",
    "print('There are', len(os.listdir(test_non_pneu)), 'non-pneumonia images in the testing set')"
   ]
  },
  {
   "cell_type": "code",
   "execution_count": 5,
   "id": "77a03fa2-9d28-4527-9bd0-8933e56036fd",
   "metadata": {
    "tags": []
   },
   "outputs": [
    {
     "name": "stdout",
     "output_type": "stream",
     "text": [
      "Found 3514 images belonging to 2 classes.\n",
      "Found 1172 images belonging to 2 classes.\n",
      "Found 1170 images belonging to 2 classes.\n"
     ]
    }
   ],
   "source": [
    "# Get all the data in the directory data/train (2564+950 images), and reshape them\n",
    "train_generator = ImageDataGenerator(rescale=1./255).flow_from_directory(\n",
    "        train_dir, \n",
    "        target_size=(64, 64), batch_size=32)\n",
    "\n",
    "# Get all the data in the directory data/val (855+317 images), and reshape them\n",
    "val_generator = ImageDataGenerator(rescale=1./255).flow_from_directory(\n",
    "        val_dir, \n",
    "        target_size=(64, 64), batch_size=32)\n",
    "\n",
    "# Get all the data in the directory data/test (854+316 images), and reshape them\n",
    "test_generator = ImageDataGenerator(rescale=1./255).flow_from_directory(\n",
    "        test_dir, \n",
    "        target_size=(64, 64), batch_size=32)\n",
    "\n",
    "# Create the datasets\n",
    "train_images, train_labels = next(train_generator)\n",
    "val_images, val_labels = next(val_generator)\n",
    "test_images, test_labels = next(test_generator)"
   ]
  },
  {
   "cell_type": "code",
   "execution_count": 6,
   "id": "617db723-e7c2-48a9-94a9-9e2ec411feb9",
   "metadata": {},
   "outputs": [
    {
     "name": "stdout",
     "output_type": "stream",
     "text": [
      "(32, 64, 64, 3)\n",
      "(32, 2)\n",
      "(32, 64, 64, 3)\n",
      "(32, 2)\n",
      "(32, 64, 64, 3)\n",
      "(32, 2)\n"
     ]
    }
   ],
   "source": [
    "print(np.shape(train_images))\n",
    "print(np.shape(train_labels))\n",
    "print(np.shape(val_images))\n",
    "print(np.shape(val_labels))\n",
    "print(np.shape(test_images))\n",
    "print(np.shape(test_labels))"
   ]
  },
  {
   "cell_type": "code",
   "execution_count": 7,
   "id": "cd24a8f5-04bd-4a77-9673-19fd8c814e64",
   "metadata": {},
   "outputs": [
    {
     "name": "stdout",
     "output_type": "stream",
     "text": [
      "{'NORMAL': 0, 'PNEUMONIA': 1}\n",
      "{'NORMAL': 0, 'PNEUMONIA': 1}\n",
      "{'NORMAL': 0, 'PNEUMONIA': 1}\n"
     ]
    }
   ],
   "source": [
    "print(train_generator.class_indices)\n",
    "print(val_generator.class_indices)\n",
    "print(test_generator.class_indices)"
   ]
  },
  {
   "cell_type": "code",
   "execution_count": 8,
   "id": "14e6d301-5420-49ea-a90c-ac38b074ebd4",
   "metadata": {},
   "outputs": [
    {
     "name": "stdout",
     "output_type": "stream",
     "text": [
      "(32, 12288)\n",
      "(32, 12288)\n",
      "(32, 12288)\n"
     ]
    }
   ],
   "source": [
    "train_img = train_images.reshape(train_images.shape[0], -1)\n",
    "test_img = test_images.reshape(test_images.shape[0], -1)\n",
    "val_img = val_images.reshape(val_images.shape[0], -1)\n",
    "print(train_img.shape)\n",
    "print(test_img.shape)\n",
    "print(val_img.shape)"
   ]
  },
  {
   "cell_type": "code",
   "execution_count": 9,
   "id": "5e6bfdaa-20d6-44b9-9793-9b2c28435360",
   "metadata": {},
   "outputs": [],
   "source": [
    "train_y = np.reshape(train_labels[:,0], (train_images.shape[0],1))\n",
    "test_y = np.reshape(test_labels[:,0], (test_images.shape[0],1))\n",
    "val_y = np.reshape(val_labels[:,0], (val_images.shape[0],1))"
   ]
  },
  {
   "cell_type": "markdown",
   "id": "fedf1181-cc30-42d4-94ff-79644f2b724a",
   "metadata": {
    "tags": []
   },
   "source": [
    "## Dummy Model"
   ]
  },
  {
   "cell_type": "code",
   "execution_count": 10,
   "id": "dcd35d25-8c38-4654-9280-a7356acbf3c5",
   "metadata": {},
   "outputs": [
    {
     "data": {
      "text/plain": [
       "DummyClassifier(strategy='most_frequent')"
      ]
     },
     "execution_count": 10,
     "metadata": {},
     "output_type": "execute_result"
    }
   ],
   "source": [
    "from sklearn.dummy import DummyClassifier\n",
    "\n",
    "dummy_clf = DummyClassifier(strategy='most_frequent')\n",
    "dummy_clf.fit(train_images, train_labels)"
   ]
  },
  {
   "cell_type": "code",
   "execution_count": 11,
   "id": "a61229fd-8146-4291-a70c-5e1547a1eb18",
   "metadata": {},
   "outputs": [
    {
     "data": {
      "text/plain": [
       "0.6875"
      ]
     },
     "execution_count": 11,
     "metadata": {},
     "output_type": "execute_result"
    }
   ],
   "source": [
    "dummy_clf.score(train_images,train_labels)"
   ]
  },
  {
   "cell_type": "code",
   "execution_count": 12,
   "id": "21f8706e-6bde-4686-8f4b-67fa74fc0321",
   "metadata": {},
   "outputs": [
    {
     "data": {
      "text/plain": [
       "0.65625"
      ]
     },
     "execution_count": 12,
     "metadata": {},
     "output_type": "execute_result"
    }
   ],
   "source": [
    "dummy_clf.score(val_images,val_labels)"
   ]
  },
  {
   "cell_type": "code",
   "execution_count": 13,
   "id": "23efd52a-0981-4dca-a605-71636d92f01a",
   "metadata": {},
   "outputs": [
    {
     "data": {
      "text/plain": [
       "0.71875"
      ]
     },
     "execution_count": 13,
     "metadata": {},
     "output_type": "execute_result"
    }
   ],
   "source": [
    "dummy_clf.score(test_images,test_labels)"
   ]
  },
  {
   "cell_type": "markdown",
   "id": "ed4e4c37-fabf-4dfc-837a-0c2e1b57b4e9",
   "metadata": {},
   "source": [
    "## Model 1: Neural Network without Hidden Layers"
   ]
  },
  {
   "cell_type": "code",
   "execution_count": 14,
   "id": "04239296-da87-4854-bd09-cecbbf5e1955",
   "metadata": {},
   "outputs": [],
   "source": [
    "np.random.seed(123)\n",
    "model1 = models.Sequential()\n",
    "model1.add(layers.Dense(2, activation='relu', input_shape=(12288,)))"
   ]
  },
  {
   "cell_type": "code",
   "execution_count": 15,
   "id": "59655579-1d90-471f-bafe-1b1340aa5520",
   "metadata": {},
   "outputs": [
    {
     "name": "stdout",
     "output_type": "stream",
     "text": [
      "Epoch 1/50\n",
      "1/1 [==============================] - 1s 959ms/step - loss: 2.9876 - accuracy: 0.6562 - val_loss: 7.6548 - val_accuracy: 0.6562\n",
      "Epoch 2/50\n",
      "1/1 [==============================] - 0s 36ms/step - loss: 7.6521 - accuracy: 0.6875 - val_loss: 7.6548 - val_accuracy: 0.6562\n",
      "Epoch 3/50\n",
      "1/1 [==============================] - 0s 33ms/step - loss: 7.6521 - accuracy: 0.6875 - val_loss: 7.6548 - val_accuracy: 0.6562\n",
      "Epoch 4/50\n",
      "1/1 [==============================] - 0s 34ms/step - loss: 7.6521 - accuracy: 0.6875 - val_loss: 7.6548 - val_accuracy: 0.6562\n",
      "Epoch 5/50\n",
      "1/1 [==============================] - 0s 34ms/step - loss: 7.6521 - accuracy: 0.6875 - val_loss: 7.6548 - val_accuracy: 0.6562\n",
      "Epoch 6/50\n",
      "1/1 [==============================] - 0s 35ms/step - loss: 7.6521 - accuracy: 0.6875 - val_loss: 7.6548 - val_accuracy: 0.6562\n",
      "Epoch 7/50\n",
      "1/1 [==============================] - 0s 35ms/step - loss: 7.6521 - accuracy: 0.6875 - val_loss: 7.6548 - val_accuracy: 0.6562\n",
      "Epoch 8/50\n",
      "1/1 [==============================] - 0s 36ms/step - loss: 7.6521 - accuracy: 0.6875 - val_loss: 7.6548 - val_accuracy: 0.6562\n",
      "Epoch 9/50\n",
      "1/1 [==============================] - 0s 33ms/step - loss: 7.6521 - accuracy: 0.6875 - val_loss: 7.6548 - val_accuracy: 0.6562\n",
      "Epoch 10/50\n",
      "1/1 [==============================] - 0s 36ms/step - loss: 7.6521 - accuracy: 0.6875 - val_loss: 7.6548 - val_accuracy: 0.6562\n",
      "Epoch 11/50\n",
      "1/1 [==============================] - 0s 37ms/step - loss: 7.6521 - accuracy: 0.6875 - val_loss: 7.6548 - val_accuracy: 0.6562\n",
      "Epoch 12/50\n",
      "1/1 [==============================] - 0s 35ms/step - loss: 7.6521 - accuracy: 0.6875 - val_loss: 7.6548 - val_accuracy: 0.6562\n",
      "Epoch 13/50\n",
      "1/1 [==============================] - 0s 36ms/step - loss: 7.6521 - accuracy: 0.6875 - val_loss: 7.6548 - val_accuracy: 0.6562\n",
      "Epoch 14/50\n",
      "1/1 [==============================] - 0s 36ms/step - loss: 7.6521 - accuracy: 0.6875 - val_loss: 7.6548 - val_accuracy: 0.6562\n",
      "Epoch 15/50\n",
      "1/1 [==============================] - 0s 39ms/step - loss: 7.6521 - accuracy: 0.6875 - val_loss: 7.6548 - val_accuracy: 0.6562\n",
      "Epoch 16/50\n",
      "1/1 [==============================] - 0s 36ms/step - loss: 7.6521 - accuracy: 0.6875 - val_loss: 7.6548 - val_accuracy: 0.6562\n",
      "Epoch 17/50\n",
      "1/1 [==============================] - 0s 35ms/step - loss: 7.6521 - accuracy: 0.6875 - val_loss: 7.6548 - val_accuracy: 0.6562\n",
      "Epoch 18/50\n",
      "1/1 [==============================] - 0s 35ms/step - loss: 7.6521 - accuracy: 0.6875 - val_loss: 7.6548 - val_accuracy: 0.6562\n",
      "Epoch 19/50\n",
      "1/1 [==============================] - 0s 33ms/step - loss: 7.6521 - accuracy: 0.6875 - val_loss: 7.6548 - val_accuracy: 0.6562\n",
      "Epoch 20/50\n",
      "1/1 [==============================] - 0s 34ms/step - loss: 7.6521 - accuracy: 0.6875 - val_loss: 7.6548 - val_accuracy: 0.6562\n",
      "Epoch 21/50\n",
      "1/1 [==============================] - 0s 35ms/step - loss: 7.6521 - accuracy: 0.6875 - val_loss: 7.6548 - val_accuracy: 0.6562\n",
      "Epoch 22/50\n",
      "1/1 [==============================] - 0s 35ms/step - loss: 7.6521 - accuracy: 0.6875 - val_loss: 7.6548 - val_accuracy: 0.6562\n",
      "Epoch 23/50\n",
      "1/1 [==============================] - 0s 36ms/step - loss: 7.6521 - accuracy: 0.6875 - val_loss: 7.6548 - val_accuracy: 0.6562\n",
      "Epoch 24/50\n",
      "1/1 [==============================] - 0s 35ms/step - loss: 7.6521 - accuracy: 0.6875 - val_loss: 7.6548 - val_accuracy: 0.6562\n",
      "Epoch 25/50\n",
      "1/1 [==============================] - 0s 35ms/step - loss: 7.6521 - accuracy: 0.6875 - val_loss: 7.6548 - val_accuracy: 0.6562\n",
      "Epoch 26/50\n",
      "1/1 [==============================] - 0s 35ms/step - loss: 7.6521 - accuracy: 0.6875 - val_loss: 7.6548 - val_accuracy: 0.6562\n",
      "Epoch 27/50\n",
      "1/1 [==============================] - 0s 33ms/step - loss: 7.6521 - accuracy: 0.6875 - val_loss: 7.6548 - val_accuracy: 0.6562\n",
      "Epoch 28/50\n",
      "1/1 [==============================] - 0s 34ms/step - loss: 7.6521 - accuracy: 0.6875 - val_loss: 7.6548 - val_accuracy: 0.6562\n",
      "Epoch 29/50\n",
      "1/1 [==============================] - 0s 35ms/step - loss: 7.6521 - accuracy: 0.6875 - val_loss: 7.6548 - val_accuracy: 0.6562\n",
      "Epoch 30/50\n",
      "1/1 [==============================] - 0s 33ms/step - loss: 7.6521 - accuracy: 0.6875 - val_loss: 7.6548 - val_accuracy: 0.6562\n",
      "Epoch 31/50\n",
      "1/1 [==============================] - 0s 34ms/step - loss: 7.6521 - accuracy: 0.6875 - val_loss: 7.6548 - val_accuracy: 0.6562\n",
      "Epoch 32/50\n",
      "1/1 [==============================] - 0s 33ms/step - loss: 7.6521 - accuracy: 0.6875 - val_loss: 7.6548 - val_accuracy: 0.6562\n",
      "Epoch 33/50\n",
      "1/1 [==============================] - 0s 34ms/step - loss: 7.6521 - accuracy: 0.6875 - val_loss: 7.6548 - val_accuracy: 0.6562\n",
      "Epoch 34/50\n",
      "1/1 [==============================] - 0s 35ms/step - loss: 7.6521 - accuracy: 0.6875 - val_loss: 7.6548 - val_accuracy: 0.6562\n",
      "Epoch 35/50\n",
      "1/1 [==============================] - 0s 34ms/step - loss: 7.6521 - accuracy: 0.6875 - val_loss: 7.6548 - val_accuracy: 0.6562\n",
      "Epoch 36/50\n",
      "1/1 [==============================] - 0s 36ms/step - loss: 7.6521 - accuracy: 0.6875 - val_loss: 7.6548 - val_accuracy: 0.6562\n",
      "Epoch 37/50\n",
      "1/1 [==============================] - 0s 35ms/step - loss: 7.6521 - accuracy: 0.6875 - val_loss: 7.6548 - val_accuracy: 0.6562\n",
      "Epoch 38/50\n",
      "1/1 [==============================] - 0s 34ms/step - loss: 7.6521 - accuracy: 0.6875 - val_loss: 7.6548 - val_accuracy: 0.6562\n",
      "Epoch 39/50\n",
      "1/1 [==============================] - 0s 32ms/step - loss: 7.6521 - accuracy: 0.6875 - val_loss: 7.6548 - val_accuracy: 0.6562\n",
      "Epoch 40/50\n",
      "1/1 [==============================] - 0s 34ms/step - loss: 7.6521 - accuracy: 0.6875 - val_loss: 7.6548 - val_accuracy: 0.6562\n",
      "Epoch 41/50\n",
      "1/1 [==============================] - 0s 33ms/step - loss: 7.6521 - accuracy: 0.6875 - val_loss: 7.6548 - val_accuracy: 0.6562\n",
      "Epoch 42/50\n",
      "1/1 [==============================] - 0s 34ms/step - loss: 7.6521 - accuracy: 0.6875 - val_loss: 7.6548 - val_accuracy: 0.6562\n",
      "Epoch 43/50\n",
      "1/1 [==============================] - 0s 34ms/step - loss: 7.6521 - accuracy: 0.6875 - val_loss: 7.6548 - val_accuracy: 0.6562\n",
      "Epoch 44/50\n",
      "1/1 [==============================] - 0s 32ms/step - loss: 7.6521 - accuracy: 0.6875 - val_loss: 7.6548 - val_accuracy: 0.6562\n",
      "Epoch 45/50\n",
      "1/1 [==============================] - 0s 33ms/step - loss: 7.6521 - accuracy: 0.6875 - val_loss: 7.6548 - val_accuracy: 0.6562\n",
      "Epoch 46/50\n",
      "1/1 [==============================] - 0s 36ms/step - loss: 7.6521 - accuracy: 0.6875 - val_loss: 7.6548 - val_accuracy: 0.6562\n",
      "Epoch 47/50\n",
      "1/1 [==============================] - 0s 34ms/step - loss: 7.6521 - accuracy: 0.6875 - val_loss: 7.6548 - val_accuracy: 0.6562\n",
      "Epoch 48/50\n",
      "1/1 [==============================] - 0s 36ms/step - loss: 7.6521 - accuracy: 0.6875 - val_loss: 7.6548 - val_accuracy: 0.6562\n",
      "Epoch 49/50\n",
      "1/1 [==============================] - 0s 36ms/step - loss: 7.6521 - accuracy: 0.6875 - val_loss: 7.6548 - val_accuracy: 0.6562\n",
      "Epoch 50/50\n",
      "1/1 [==============================] - 0s 34ms/step - loss: 7.6521 - accuracy: 0.6875 - val_loss: 7.6548 - val_accuracy: 0.6562\n"
     ]
    }
   ],
   "source": [
    "model1.compile(optimizer='sgd',\n",
    "              loss='binary_crossentropy',\n",
    "              metrics=['accuracy'])\n",
    "\n",
    "history1 = model1.fit(train_img,\n",
    "                     train_y,\n",
    "                     epochs=50,\n",
    "                     batch_size=32,\n",
    "                     validation_data=(val_img, val_y))"
   ]
  },
  {
   "cell_type": "code",
   "execution_count": 16,
   "id": "13c55bd9-c8fc-4ea5-b4cf-3982bae0aa1b",
   "metadata": {},
   "outputs": [
    {
     "name": "stdout",
     "output_type": "stream",
     "text": [
      "1/1 [==============================] - 0s 16ms/step - loss: 7.6521 - accuracy: 0.6875\n"
     ]
    }
   ],
   "source": [
    "results_train = model1.evaluate(train_img, train_y)"
   ]
  },
  {
   "cell_type": "code",
   "execution_count": 17,
   "id": "3d0df9dd-6e59-46f1-866d-23c94e5a7222",
   "metadata": {},
   "outputs": [
    {
     "name": "stdout",
     "output_type": "stream",
     "text": [
      "1/1 [==============================] - 0s 15ms/step - loss: 7.6493 - accuracy: 0.7188\n"
     ]
    }
   ],
   "source": [
    "results_test = model1.evaluate(test_img, test_y)"
   ]
  },
  {
   "cell_type": "code",
   "execution_count": 18,
   "id": "e1b1d772-dd56-44e3-b261-c981c7448c43",
   "metadata": {},
   "outputs": [
    {
     "data": {
      "text/plain": [
       "[7.652073860168457, 0.6875]"
      ]
     },
     "execution_count": 18,
     "metadata": {},
     "output_type": "execute_result"
    }
   ],
   "source": [
    "results_train"
   ]
  },
  {
   "cell_type": "code",
   "execution_count": 19,
   "id": "bf9b9cbc-dca8-4131-9a0e-8804c10f49b3",
   "metadata": {},
   "outputs": [
    {
     "data": {
      "text/plain": [
       "[7.649328231811523, 0.71875]"
      ]
     },
     "execution_count": 19,
     "metadata": {},
     "output_type": "execute_result"
    }
   ],
   "source": [
    "results_test"
   ]
  },
  {
   "cell_type": "markdown",
   "id": "75478279-dd9a-4eff-be4a-33f93a56e472",
   "metadata": {
    "tags": []
   },
   "source": [
    "## Model 2: Neural Network with Dense Layers"
   ]
  },
  {
   "cell_type": "code",
   "execution_count": 20,
   "id": "48c436d2-4f9e-48c9-8789-bea18f06aaec",
   "metadata": {},
   "outputs": [],
   "source": [
    "np.random.seed(123)\n",
    "model2 = models.Sequential()\n",
    "model2.add(layers.Dense(200, activation='relu', input_shape=(12288,)))\n",
    "model2.add(layers.Dense(100, activation='relu'))\n",
    "model2.add(layers.Dense(50, activation='relu'))\n",
    "model2.add(layers.Dense(25, activation='relu'))\n",
    "model2.add(layers.Dense(7, activation='relu'))\n",
    "model2.add(layers.Dense(5, activation='relu'))\n",
    "model2.add(layers.Dense(1, activation='sigmoid'))"
   ]
  },
  {
   "cell_type": "code",
   "execution_count": 21,
   "id": "b048cfe2-0427-44f1-974d-00906937ab64",
   "metadata": {},
   "outputs": [
    {
     "name": "stdout",
     "output_type": "stream",
     "text": [
      "Epoch 1/50\n",
      "1/1 [==============================] - 1s 518ms/step - loss: 0.6927 - accuracy: 0.6875 - val_loss: 0.6925 - val_accuracy: 0.6562\n",
      "Epoch 2/50\n",
      "1/1 [==============================] - 0s 40ms/step - loss: 0.6923 - accuracy: 0.6875 - val_loss: 0.6921 - val_accuracy: 0.6562\n",
      "Epoch 3/50\n",
      "1/1 [==============================] - 0s 41ms/step - loss: 0.6918 - accuracy: 0.6875 - val_loss: 0.6917 - val_accuracy: 0.6562\n",
      "Epoch 4/50\n",
      "1/1 [==============================] - 0s 42ms/step - loss: 0.6914 - accuracy: 0.6875 - val_loss: 0.6914 - val_accuracy: 0.6562\n",
      "Epoch 5/50\n",
      "1/1 [==============================] - 0s 41ms/step - loss: 0.6909 - accuracy: 0.6875 - val_loss: 0.6910 - val_accuracy: 0.6562\n",
      "Epoch 6/50\n",
      "1/1 [==============================] - 0s 41ms/step - loss: 0.6905 - accuracy: 0.6875 - val_loss: 0.6906 - val_accuracy: 0.6562\n",
      "Epoch 7/50\n",
      "1/1 [==============================] - 0s 39ms/step - loss: 0.6900 - accuracy: 0.6875 - val_loss: 0.6903 - val_accuracy: 0.6562\n",
      "Epoch 8/50\n",
      "1/1 [==============================] - 0s 41ms/step - loss: 0.6896 - accuracy: 0.6875 - val_loss: 0.6899 - val_accuracy: 0.6562\n",
      "Epoch 9/50\n",
      "1/1 [==============================] - 0s 40ms/step - loss: 0.6891 - accuracy: 0.6875 - val_loss: 0.6895 - val_accuracy: 0.6562\n",
      "Epoch 10/50\n",
      "1/1 [==============================] - 0s 40ms/step - loss: 0.6887 - accuracy: 0.6875 - val_loss: 0.6891 - val_accuracy: 0.6562\n",
      "Epoch 11/50\n",
      "1/1 [==============================] - 0s 40ms/step - loss: 0.6882 - accuracy: 0.6875 - val_loss: 0.6888 - val_accuracy: 0.6562\n",
      "Epoch 12/50\n",
      "1/1 [==============================] - 0s 42ms/step - loss: 0.6878 - accuracy: 0.6875 - val_loss: 0.6884 - val_accuracy: 0.6562\n",
      "Epoch 13/50\n",
      "1/1 [==============================] - 0s 41ms/step - loss: 0.6873 - accuracy: 0.6875 - val_loss: 0.6880 - val_accuracy: 0.6562\n",
      "Epoch 14/50\n",
      "1/1 [==============================] - 0s 40ms/step - loss: 0.6868 - accuracy: 0.6875 - val_loss: 0.6876 - val_accuracy: 0.6562\n",
      "Epoch 15/50\n",
      "1/1 [==============================] - 0s 42ms/step - loss: 0.6863 - accuracy: 0.6875 - val_loss: 0.6872 - val_accuracy: 0.6562\n",
      "Epoch 16/50\n",
      "1/1 [==============================] - 0s 41ms/step - loss: 0.6859 - accuracy: 0.6875 - val_loss: 0.6868 - val_accuracy: 0.6562\n",
      "Epoch 17/50\n",
      "1/1 [==============================] - 0s 39ms/step - loss: 0.6854 - accuracy: 0.6875 - val_loss: 0.6864 - val_accuracy: 0.6562\n",
      "Epoch 18/50\n",
      "1/1 [==============================] - 0s 40ms/step - loss: 0.6849 - accuracy: 0.6875 - val_loss: 0.6860 - val_accuracy: 0.6562\n",
      "Epoch 19/50\n",
      "1/1 [==============================] - 0s 42ms/step - loss: 0.6844 - accuracy: 0.6875 - val_loss: 0.6856 - val_accuracy: 0.6562\n",
      "Epoch 20/50\n",
      "1/1 [==============================] - 0s 42ms/step - loss: 0.6839 - accuracy: 0.6875 - val_loss: 0.6852 - val_accuracy: 0.6562\n",
      "Epoch 21/50\n",
      "1/1 [==============================] - 0s 40ms/step - loss: 0.6834 - accuracy: 0.6875 - val_loss: 0.6848 - val_accuracy: 0.6562\n",
      "Epoch 22/50\n",
      "1/1 [==============================] - 0s 40ms/step - loss: 0.6829 - accuracy: 0.6875 - val_loss: 0.6844 - val_accuracy: 0.6562\n",
      "Epoch 23/50\n",
      "1/1 [==============================] - 0s 39ms/step - loss: 0.6823 - accuracy: 0.6875 - val_loss: 0.6839 - val_accuracy: 0.6562\n",
      "Epoch 24/50\n",
      "1/1 [==============================] - 0s 40ms/step - loss: 0.6818 - accuracy: 0.6875 - val_loss: 0.6835 - val_accuracy: 0.6562\n",
      "Epoch 25/50\n",
      "1/1 [==============================] - 0s 41ms/step - loss: 0.6813 - accuracy: 0.6875 - val_loss: 0.6831 - val_accuracy: 0.6562\n",
      "Epoch 26/50\n",
      "1/1 [==============================] - 0s 41ms/step - loss: 0.6807 - accuracy: 0.6875 - val_loss: 0.6826 - val_accuracy: 0.6562\n",
      "Epoch 27/50\n",
      "1/1 [==============================] - 0s 41ms/step - loss: 0.6802 - accuracy: 0.6875 - val_loss: 0.6821 - val_accuracy: 0.6562\n",
      "Epoch 28/50\n",
      "1/1 [==============================] - 0s 41ms/step - loss: 0.6796 - accuracy: 0.6875 - val_loss: 0.6817 - val_accuracy: 0.6562\n",
      "Epoch 29/50\n",
      "1/1 [==============================] - 0s 39ms/step - loss: 0.6790 - accuracy: 0.6875 - val_loss: 0.6812 - val_accuracy: 0.6562\n",
      "Epoch 30/50\n",
      "1/1 [==============================] - 0s 40ms/step - loss: 0.6784 - accuracy: 0.6875 - val_loss: 0.6807 - val_accuracy: 0.6562\n",
      "Epoch 31/50\n",
      "1/1 [==============================] - 0s 40ms/step - loss: 0.6778 - accuracy: 0.6875 - val_loss: 0.6802 - val_accuracy: 0.6562\n",
      "Epoch 32/50\n",
      "1/1 [==============================] - 0s 42ms/step - loss: 0.6771 - accuracy: 0.6875 - val_loss: 0.6797 - val_accuracy: 0.6562\n",
      "Epoch 33/50\n",
      "1/1 [==============================] - 0s 39ms/step - loss: 0.6765 - accuracy: 0.6875 - val_loss: 0.6791 - val_accuracy: 0.6562\n",
      "Epoch 34/50\n",
      "1/1 [==============================] - 0s 39ms/step - loss: 0.6758 - accuracy: 0.6875 - val_loss: 0.6786 - val_accuracy: 0.6562\n",
      "Epoch 35/50\n",
      "1/1 [==============================] - 0s 40ms/step - loss: 0.6751 - accuracy: 0.6875 - val_loss: 0.6780 - val_accuracy: 0.6562\n",
      "Epoch 36/50\n",
      "1/1 [==============================] - 0s 41ms/step - loss: 0.6744 - accuracy: 0.6875 - val_loss: 0.6774 - val_accuracy: 0.6562\n",
      "Epoch 37/50\n",
      "1/1 [==============================] - 0s 39ms/step - loss: 0.6736 - accuracy: 0.6875 - val_loss: 0.6769 - val_accuracy: 0.6562\n",
      "Epoch 38/50\n",
      "1/1 [==============================] - 0s 39ms/step - loss: 0.6729 - accuracy: 0.6875 - val_loss: 0.6763 - val_accuracy: 0.6562\n",
      "Epoch 39/50\n",
      "1/1 [==============================] - 0s 40ms/step - loss: 0.6721 - accuracy: 0.6875 - val_loss: 0.6756 - val_accuracy: 0.6562\n",
      "Epoch 40/50\n",
      "1/1 [==============================] - 0s 41ms/step - loss: 0.6713 - accuracy: 0.6875 - val_loss: 0.6750 - val_accuracy: 0.6562\n",
      "Epoch 41/50\n",
      "1/1 [==============================] - 0s 40ms/step - loss: 0.6705 - accuracy: 0.6875 - val_loss: 0.6743 - val_accuracy: 0.6562\n",
      "Epoch 42/50\n",
      "1/1 [==============================] - 0s 40ms/step - loss: 0.6697 - accuracy: 0.6875 - val_loss: 0.6737 - val_accuracy: 0.6562\n",
      "Epoch 43/50\n",
      "1/1 [==============================] - 0s 41ms/step - loss: 0.6688 - accuracy: 0.6875 - val_loss: 0.6730 - val_accuracy: 0.6562\n",
      "Epoch 44/50\n",
      "1/1 [==============================] - 0s 41ms/step - loss: 0.6679 - accuracy: 0.6875 - val_loss: 0.6723 - val_accuracy: 0.6562\n",
      "Epoch 45/50\n",
      "1/1 [==============================] - 0s 40ms/step - loss: 0.6670 - accuracy: 0.6875 - val_loss: 0.6716 - val_accuracy: 0.6562\n",
      "Epoch 46/50\n",
      "1/1 [==============================] - 0s 41ms/step - loss: 0.6660 - accuracy: 0.6875 - val_loss: 0.6708 - val_accuracy: 0.6562\n",
      "Epoch 47/50\n",
      "1/1 [==============================] - 0s 42ms/step - loss: 0.6651 - accuracy: 0.6875 - val_loss: 0.6701 - val_accuracy: 0.6562\n",
      "Epoch 48/50\n",
      "1/1 [==============================] - 0s 41ms/step - loss: 0.6641 - accuracy: 0.6875 - val_loss: 0.6693 - val_accuracy: 0.6562\n",
      "Epoch 49/50\n",
      "1/1 [==============================] - 0s 40ms/step - loss: 0.6631 - accuracy: 0.6875 - val_loss: 0.6686 - val_accuracy: 0.6562\n",
      "Epoch 50/50\n",
      "1/1 [==============================] - 0s 41ms/step - loss: 0.6621 - accuracy: 0.6875 - val_loss: 0.6678 - val_accuracy: 0.6562\n"
     ]
    }
   ],
   "source": [
    "model2.compile(optimizer='sgd',\n",
    "              loss='binary_crossentropy',\n",
    "              metrics=['accuracy'])\n",
    "\n",
    "history2 = model2.fit(train_img,\n",
    "                     train_y,\n",
    "                     epochs=50,\n",
    "                     batch_size=32,\n",
    "                     validation_data=(val_img, val_y))"
   ]
  },
  {
   "cell_type": "code",
   "execution_count": 22,
   "id": "8b66cadc-bab7-4163-a338-03623629d5ad",
   "metadata": {},
   "outputs": [
    {
     "name": "stdout",
     "output_type": "stream",
     "text": [
      "1/1 [==============================] - 0s 22ms/step - loss: 0.6610 - accuracy: 0.6875\n"
     ]
    }
   ],
   "source": [
    "results_train = model2.evaluate(train_img, train_y)"
   ]
  },
  {
   "cell_type": "code",
   "execution_count": 23,
   "id": "b2dc1768-3e76-479c-b01d-8780d402a803",
   "metadata": {},
   "outputs": [
    {
     "name": "stdout",
     "output_type": "stream",
     "text": [
      "1/1 [==============================] - 0s 17ms/step - loss: 0.6556 - accuracy: 0.7188\n"
     ]
    }
   ],
   "source": [
    "results_test = model2.evaluate(test_img, test_y)"
   ]
  },
  {
   "cell_type": "code",
   "execution_count": 24,
   "id": "c77ddb25-317a-4ca9-84aa-5cc803f54117",
   "metadata": {},
   "outputs": [
    {
     "data": {
      "text/plain": [
       "[0.6610368490219116, 0.6875]"
      ]
     },
     "execution_count": 24,
     "metadata": {},
     "output_type": "execute_result"
    }
   ],
   "source": [
    "results_train"
   ]
  },
  {
   "cell_type": "code",
   "execution_count": 25,
   "id": "a751347c-b375-43ae-841f-6a4cf5f8ca46",
   "metadata": {},
   "outputs": [
    {
     "data": {
      "text/plain": [
       "[0.6555837392807007, 0.71875]"
      ]
     },
     "execution_count": 25,
     "metadata": {},
     "output_type": "execute_result"
    }
   ],
   "source": [
    "results_test"
   ]
  },
  {
   "cell_type": "markdown",
   "id": "ca7aea3d-f65d-4a2e-8976-c8b78f98b8e5",
   "metadata": {},
   "source": [
    "## Model 3: Neural Network with Dense and Drop Layers"
   ]
  },
  {
   "cell_type": "code",
   "execution_count": 26,
   "id": "cb3eae62-a0ea-4201-95c5-8c1d38ee1fed",
   "metadata": {},
   "outputs": [],
   "source": [
    "np.random.seed(123)\n",
    "model3 = models.Sequential()\n",
    "model3.add(layers.Dense(200, activation='relu', input_shape=(12288,)))\n",
    "model3.add(layers.Dense(100, activation='relu'))\n",
    "model3.add(layers.Dropout(0.3))\n",
    "model3.add(layers.Dense(50, activation='relu'))\n",
    "model3.add(layers.Dense(25, activation='relu'))\n",
    "model3.add(layers.Dropout(0.3))\n",
    "model3.add(layers.Dense(7, activation='relu'))\n",
    "model3.add(layers.Dense(5, activation='relu'))\n",
    "model3.add(layers.Dense(1, activation='sigmoid'))"
   ]
  },
  {
   "cell_type": "code",
   "execution_count": 27,
   "id": "056f4e1b-8f99-48a7-8bb4-7374b40790ee",
   "metadata": {},
   "outputs": [
    {
     "name": "stdout",
     "output_type": "stream",
     "text": [
      "Epoch 1/50\n",
      "1/1 [==============================] - 1s 527ms/step - loss: 0.6790 - accuracy: 0.6875 - val_loss: 0.6862 - val_accuracy: 0.6562\n",
      "Epoch 2/50\n",
      "1/1 [==============================] - 0s 37ms/step - loss: 0.6768 - accuracy: 0.6875 - val_loss: 0.6812 - val_accuracy: 0.6562\n",
      "Epoch 3/50\n",
      "1/1 [==============================] - 0s 38ms/step - loss: 0.6593 - accuracy: 0.6875 - val_loss: 0.6749 - val_accuracy: 0.6562\n",
      "Epoch 4/50\n",
      "1/1 [==============================] - 0s 37ms/step - loss: 0.6655 - accuracy: 0.6875 - val_loss: 0.6658 - val_accuracy: 0.6562\n",
      "Epoch 5/50\n",
      "1/1 [==============================] - 0s 38ms/step - loss: 0.6795 - accuracy: 0.6875 - val_loss: 0.6624 - val_accuracy: 0.6562\n",
      "Epoch 6/50\n",
      "1/1 [==============================] - 0s 41ms/step - loss: 0.6573 - accuracy: 0.6875 - val_loss: 0.6555 - val_accuracy: 0.6562\n",
      "Epoch 7/50\n",
      "1/1 [==============================] - 0s 40ms/step - loss: 0.6530 - accuracy: 0.6875 - val_loss: 0.6506 - val_accuracy: 0.6562\n",
      "Epoch 8/50\n",
      "1/1 [==============================] - 0s 39ms/step - loss: 0.6571 - accuracy: 0.6875 - val_loss: 0.6445 - val_accuracy: 0.6562\n",
      "Epoch 9/50\n",
      "1/1 [==============================] - 0s 39ms/step - loss: 0.6433 - accuracy: 0.6875 - val_loss: 0.6406 - val_accuracy: 0.6562\n",
      "Epoch 10/50\n",
      "1/1 [==============================] - 0s 40ms/step - loss: 0.6447 - accuracy: 0.6875 - val_loss: 0.6378 - val_accuracy: 0.6562\n",
      "Epoch 11/50\n",
      "1/1 [==============================] - 0s 39ms/step - loss: 0.6002 - accuracy: 0.6875 - val_loss: 0.6365 - val_accuracy: 0.6562\n",
      "Epoch 12/50\n",
      "1/1 [==============================] - 0s 40ms/step - loss: 0.6132 - accuracy: 0.6875 - val_loss: 0.6371 - val_accuracy: 0.6562\n",
      "Epoch 13/50\n",
      "1/1 [==============================] - 0s 39ms/step - loss: 0.6148 - accuracy: 0.6875 - val_loss: 0.6355 - val_accuracy: 0.6562\n",
      "Epoch 14/50\n",
      "1/1 [==============================] - 0s 39ms/step - loss: 0.6077 - accuracy: 0.6875 - val_loss: 0.6329 - val_accuracy: 0.6562\n",
      "Epoch 15/50\n",
      "1/1 [==============================] - 0s 39ms/step - loss: 0.6465 - accuracy: 0.6875 - val_loss: 0.6323 - val_accuracy: 0.6562\n",
      "Epoch 16/50\n",
      "1/1 [==============================] - 0s 39ms/step - loss: 0.5960 - accuracy: 0.6875 - val_loss: 0.6309 - val_accuracy: 0.6562\n",
      "Epoch 17/50\n",
      "1/1 [==============================] - 0s 39ms/step - loss: 0.6250 - accuracy: 0.6875 - val_loss: 0.6288 - val_accuracy: 0.6562\n",
      "Epoch 18/50\n",
      "1/1 [==============================] - 0s 40ms/step - loss: 0.5776 - accuracy: 0.6875 - val_loss: 0.6285 - val_accuracy: 0.6562\n",
      "Epoch 19/50\n",
      "1/1 [==============================] - 0s 39ms/step - loss: 0.6241 - accuracy: 0.6875 - val_loss: 0.6261 - val_accuracy: 0.6562\n",
      "Epoch 20/50\n",
      "1/1 [==============================] - 0s 40ms/step - loss: 0.6264 - accuracy: 0.6875 - val_loss: 0.6249 - val_accuracy: 0.6562\n",
      "Epoch 21/50\n",
      "1/1 [==============================] - 0s 41ms/step - loss: 0.5903 - accuracy: 0.6875 - val_loss: 0.6234 - val_accuracy: 0.6562\n",
      "Epoch 22/50\n",
      "1/1 [==============================] - 0s 40ms/step - loss: 0.5922 - accuracy: 0.6875 - val_loss: 0.6232 - val_accuracy: 0.6562\n",
      "Epoch 23/50\n",
      "1/1 [==============================] - 0s 39ms/step - loss: 0.6299 - accuracy: 0.6875 - val_loss: 0.6242 - val_accuracy: 0.6562\n",
      "Epoch 24/50\n",
      "1/1 [==============================] - 0s 41ms/step - loss: 0.5829 - accuracy: 0.6875 - val_loss: 0.6270 - val_accuracy: 0.6562\n",
      "Epoch 25/50\n",
      "1/1 [==============================] - 0s 41ms/step - loss: 0.6282 - accuracy: 0.6875 - val_loss: 0.6219 - val_accuracy: 0.6562\n",
      "Epoch 26/50\n",
      "1/1 [==============================] - 0s 41ms/step - loss: 0.5861 - accuracy: 0.6875 - val_loss: 0.6225 - val_accuracy: 0.6562\n",
      "Epoch 27/50\n",
      "1/1 [==============================] - 0s 41ms/step - loss: 0.6138 - accuracy: 0.6875 - val_loss: 0.6183 - val_accuracy: 0.6562\n",
      "Epoch 28/50\n",
      "1/1 [==============================] - 0s 40ms/step - loss: 0.6318 - accuracy: 0.6875 - val_loss: 0.6151 - val_accuracy: 0.6562\n",
      "Epoch 29/50\n",
      "1/1 [==============================] - 0s 43ms/step - loss: 0.6196 - accuracy: 0.6875 - val_loss: 0.6146 - val_accuracy: 0.6562\n",
      "Epoch 30/50\n",
      "1/1 [==============================] - 0s 40ms/step - loss: 0.6170 - accuracy: 0.6875 - val_loss: 0.6141 - val_accuracy: 0.6562\n",
      "Epoch 31/50\n",
      "1/1 [==============================] - 0s 40ms/step - loss: 0.6039 - accuracy: 0.6875 - val_loss: 0.6118 - val_accuracy: 0.6562\n",
      "Epoch 32/50\n",
      "1/1 [==============================] - 0s 40ms/step - loss: 0.5993 - accuracy: 0.6875 - val_loss: 0.6102 - val_accuracy: 0.6562\n",
      "Epoch 33/50\n",
      "1/1 [==============================] - 0s 40ms/step - loss: 0.5773 - accuracy: 0.6875 - val_loss: 0.6126 - val_accuracy: 0.6562\n",
      "Epoch 34/50\n",
      "1/1 [==============================] - 0s 40ms/step - loss: 0.6108 - accuracy: 0.6875 - val_loss: 0.6102 - val_accuracy: 0.6562\n",
      "Epoch 35/50\n",
      "1/1 [==============================] - 0s 41ms/step - loss: 0.5921 - accuracy: 0.6875 - val_loss: 0.6079 - val_accuracy: 0.6562\n",
      "Epoch 36/50\n",
      "1/1 [==============================] - 0s 41ms/step - loss: 0.5720 - accuracy: 0.6875 - val_loss: 0.6092 - val_accuracy: 0.6562\n",
      "Epoch 37/50\n",
      "1/1 [==============================] - 0s 38ms/step - loss: 0.5555 - accuracy: 0.6875 - val_loss: 0.6114 - val_accuracy: 0.6562\n",
      "Epoch 38/50\n",
      "1/1 [==============================] - 0s 40ms/step - loss: 0.6141 - accuracy: 0.6875 - val_loss: 0.6024 - val_accuracy: 0.6562\n",
      "Epoch 39/50\n",
      "1/1 [==============================] - 0s 40ms/step - loss: 0.5813 - accuracy: 0.6875 - val_loss: 0.6001 - val_accuracy: 0.6562\n",
      "Epoch 40/50\n",
      "1/1 [==============================] - 0s 40ms/step - loss: 0.5612 - accuracy: 0.6875 - val_loss: 0.5991 - val_accuracy: 0.6562\n",
      "Epoch 41/50\n",
      "1/1 [==============================] - 0s 38ms/step - loss: 0.6013 - accuracy: 0.6875 - val_loss: 0.5981 - val_accuracy: 0.6562\n",
      "Epoch 42/50\n",
      "1/1 [==============================] - 0s 40ms/step - loss: 0.5662 - accuracy: 0.6875 - val_loss: 0.5979 - val_accuracy: 0.6562\n",
      "Epoch 43/50\n",
      "1/1 [==============================] - 0s 40ms/step - loss: 0.6202 - accuracy: 0.6875 - val_loss: 0.5949 - val_accuracy: 0.6562\n",
      "Epoch 44/50\n",
      "1/1 [==============================] - 0s 40ms/step - loss: 0.5784 - accuracy: 0.6875 - val_loss: 0.5924 - val_accuracy: 0.6562\n",
      "Epoch 45/50\n",
      "1/1 [==============================] - 0s 42ms/step - loss: 0.5764 - accuracy: 0.6875 - val_loss: 0.5956 - val_accuracy: 0.6562\n",
      "Epoch 46/50\n",
      "1/1 [==============================] - 0s 39ms/step - loss: 0.5575 - accuracy: 0.6875 - val_loss: 0.5897 - val_accuracy: 0.6562\n",
      "Epoch 47/50\n",
      "1/1 [==============================] - 0s 40ms/step - loss: 0.6049 - accuracy: 0.6875 - val_loss: 0.5887 - val_accuracy: 0.6562\n",
      "Epoch 48/50\n",
      "1/1 [==============================] - 0s 41ms/step - loss: 0.5655 - accuracy: 0.6875 - val_loss: 0.5874 - val_accuracy: 0.6562\n",
      "Epoch 49/50\n",
      "1/1 [==============================] - 0s 40ms/step - loss: 0.5359 - accuracy: 0.6875 - val_loss: 0.5830 - val_accuracy: 0.6562\n",
      "Epoch 50/50\n",
      "1/1 [==============================] - 0s 39ms/step - loss: 0.5189 - accuracy: 0.6875 - val_loss: 0.5863 - val_accuracy: 0.6562\n"
     ]
    }
   ],
   "source": [
    "model3.compile(optimizer='sgd',\n",
    "              loss='binary_crossentropy',\n",
    "              metrics=['accuracy'])\n",
    "\n",
    "history3 = model3.fit(train_img,\n",
    "                     train_y,\n",
    "                     epochs=50,\n",
    "                     batch_size=32,\n",
    "                     validation_data=(val_img, val_y))"
   ]
  },
  {
   "cell_type": "code",
   "execution_count": 28,
   "id": "2652dfbc-3d7e-49a6-89fa-aada877c803e",
   "metadata": {},
   "outputs": [
    {
     "name": "stdout",
     "output_type": "stream",
     "text": [
      "1/1 [==============================] - 0s 21ms/step - loss: 0.5395 - accuracy: 0.6875\n"
     ]
    }
   ],
   "source": [
    "results_train = model3.evaluate(train_img, train_y)"
   ]
  },
  {
   "cell_type": "code",
   "execution_count": 29,
   "id": "07fd84da-10d2-47ea-8150-660e30562ec2",
   "metadata": {},
   "outputs": [
    {
     "name": "stdout",
     "output_type": "stream",
     "text": [
      "1/1 [==============================] - 0s 19ms/step - loss: 0.5457 - accuracy: 0.7188\n"
     ]
    }
   ],
   "source": [
    "results_test = model3.evaluate(test_img, test_y)"
   ]
  },
  {
   "cell_type": "code",
   "execution_count": 30,
   "id": "0ef5184f-26f8-4593-b502-0d8be830bdad",
   "metadata": {},
   "outputs": [
    {
     "data": {
      "text/plain": [
       "[0.5395029783248901, 0.6875]"
      ]
     },
     "execution_count": 30,
     "metadata": {},
     "output_type": "execute_result"
    }
   ],
   "source": [
    "results_train"
   ]
  },
  {
   "cell_type": "code",
   "execution_count": 31,
   "id": "742a8d6a-3018-4b73-8db7-35d882764bcd",
   "metadata": {},
   "outputs": [
    {
     "data": {
      "text/plain": [
       "[0.5456678867340088, 0.71875]"
      ]
     },
     "execution_count": 31,
     "metadata": {},
     "output_type": "execute_result"
    }
   ],
   "source": [
    "results_test"
   ]
  },
  {
   "cell_type": "markdown",
   "id": "ef87d1fc-59a0-4644-9119-8e4519db6e07",
   "metadata": {},
   "source": [
    "## Model 4: CNN"
   ]
  },
  {
   "cell_type": "code",
   "execution_count": 32,
   "id": "294e361f-439e-455c-be3c-aadc573c2000",
   "metadata": {},
   "outputs": [],
   "source": [
    "model4 = models.Sequential()\n",
    "model4.add(layers.Conv2D(32, (3, 3), activation='relu',\n",
    "                        input_shape=(64 ,64,  3)))\n",
    "model4.add(layers.MaxPooling2D((2, 2)))\n",
    "\n",
    "model4.add(layers.Conv2D(32, (4, 4), activation='relu'))\n",
    "model4.add(layers.MaxPooling2D((2, 2)))\n",
    "\n",
    "model4.add(layers.Conv2D(64, (3, 3), activation='relu'))\n",
    "model4.add(layers.MaxPooling2D((2, 2)))\n",
    "\n",
    "model4.add(layers.Flatten())\n",
    "model4.add(layers.Dense(64, activation='relu'))\n",
    "model4.add(layers.Dense(1, activation='sigmoid'))\n",
    "\n",
    "model4.compile(loss='binary_crossentropy',\n",
    "              optimizer=\"sgd\",\n",
    "              metrics=['acc'])"
   ]
  },
  {
   "cell_type": "code",
   "execution_count": 34,
   "id": "0e6f453f-bec4-4642-9112-670c330d6ff1",
   "metadata": {},
   "outputs": [
    {
     "name": "stdout",
     "output_type": "stream",
     "text": [
      "Epoch 1/30\n",
      "1/1 [==============================] - 1s 640ms/step - loss: 0.6718 - acc: 0.6875 - val_loss: 0.6631 - val_acc: 0.6562\n",
      "Epoch 2/30\n",
      "1/1 [==============================] - 0s 126ms/step - loss: 0.6526 - acc: 0.6875 - val_loss: 0.6551 - val_acc: 0.6562\n",
      "Epoch 3/30\n",
      "1/1 [==============================] - 0s 133ms/step - loss: 0.6419 - acc: 0.6875 - val_loss: 0.6502 - val_acc: 0.6562\n",
      "Epoch 4/30\n",
      "1/1 [==============================] - 0s 125ms/step - loss: 0.6346 - acc: 0.6875 - val_loss: 0.6470 - val_acc: 0.6562\n",
      "Epoch 5/30\n",
      "1/1 [==============================] - 0s 126ms/step - loss: 0.6298 - acc: 0.6875 - val_loss: 0.6449 - val_acc: 0.6562\n",
      "Epoch 6/30\n",
      "1/1 [==============================] - 0s 127ms/step - loss: 0.6266 - acc: 0.6875 - val_loss: 0.6436 - val_acc: 0.6562\n",
      "Epoch 7/30\n",
      "1/1 [==============================] - 0s 124ms/step - loss: 0.6243 - acc: 0.6875 - val_loss: 0.6428 - val_acc: 0.6562\n",
      "Epoch 8/30\n",
      "1/1 [==============================] - 0s 121ms/step - loss: 0.6229 - acc: 0.6875 - val_loss: 0.6424 - val_acc: 0.6562\n",
      "Epoch 9/30\n",
      "1/1 [==============================] - 0s 126ms/step - loss: 0.6219 - acc: 0.6875 - val_loss: 0.6421 - val_acc: 0.6562\n",
      "Epoch 10/30\n",
      "1/1 [==============================] - 0s 126ms/step - loss: 0.6211 - acc: 0.6875 - val_loss: 0.6419 - val_acc: 0.6562\n",
      "Epoch 11/30\n",
      "1/1 [==============================] - 0s 130ms/step - loss: 0.6204 - acc: 0.6875 - val_loss: 0.6416 - val_acc: 0.6562\n",
      "Epoch 12/30\n",
      "1/1 [==============================] - 0s 130ms/step - loss: 0.6197 - acc: 0.6875 - val_loss: 0.6412 - val_acc: 0.6562\n",
      "Epoch 13/30\n",
      "1/1 [==============================] - 0s 125ms/step - loss: 0.6190 - acc: 0.6875 - val_loss: 0.6410 - val_acc: 0.6562\n",
      "Epoch 14/30\n",
      "1/1 [==============================] - 0s 125ms/step - loss: 0.6185 - acc: 0.6875 - val_loss: 0.6408 - val_acc: 0.6562\n",
      "Epoch 15/30\n",
      "1/1 [==============================] - 0s 126ms/step - loss: 0.6180 - acc: 0.6875 - val_loss: 0.6404 - val_acc: 0.6562\n",
      "Epoch 16/30\n",
      "1/1 [==============================] - 0s 126ms/step - loss: 0.6176 - acc: 0.6875 - val_loss: 0.6402 - val_acc: 0.6562\n",
      "Epoch 17/30\n",
      "1/1 [==============================] - 0s 130ms/step - loss: 0.6171 - acc: 0.6875 - val_loss: 0.6399 - val_acc: 0.6562\n",
      "Epoch 18/30\n",
      "1/1 [==============================] - 0s 122ms/step - loss: 0.6167 - acc: 0.6875 - val_loss: 0.6395 - val_acc: 0.6562\n",
      "Epoch 19/30\n",
      "1/1 [==============================] - 0s 131ms/step - loss: 0.6163 - acc: 0.6875 - val_loss: 0.6391 - val_acc: 0.6562\n",
      "Epoch 20/30\n",
      "1/1 [==============================] - 0s 128ms/step - loss: 0.6158 - acc: 0.6875 - val_loss: 0.6388 - val_acc: 0.6562\n",
      "Epoch 21/30\n",
      "1/1 [==============================] - 0s 129ms/step - loss: 0.6153 - acc: 0.6875 - val_loss: 0.6383 - val_acc: 0.6562\n",
      "Epoch 22/30\n",
      "1/1 [==============================] - 0s 125ms/step - loss: 0.6149 - acc: 0.6875 - val_loss: 0.6379 - val_acc: 0.6562\n",
      "Epoch 23/30\n",
      "1/1 [==============================] - 0s 122ms/step - loss: 0.6144 - acc: 0.6875 - val_loss: 0.6374 - val_acc: 0.6562\n",
      "Epoch 24/30\n",
      "1/1 [==============================] - 0s 124ms/step - loss: 0.6139 - acc: 0.6875 - val_loss: 0.6370 - val_acc: 0.6562\n",
      "Epoch 25/30\n",
      "1/1 [==============================] - 0s 116ms/step - loss: 0.6134 - acc: 0.6875 - val_loss: 0.6365 - val_acc: 0.6562\n",
      "Epoch 26/30\n",
      "1/1 [==============================] - 0s 120ms/step - loss: 0.6130 - acc: 0.6875 - val_loss: 0.6361 - val_acc: 0.6562\n",
      "Epoch 27/30\n",
      "1/1 [==============================] - 0s 119ms/step - loss: 0.6125 - acc: 0.6875 - val_loss: 0.6357 - val_acc: 0.6562\n",
      "Epoch 28/30\n",
      "1/1 [==============================] - 0s 122ms/step - loss: 0.6121 - acc: 0.6875 - val_loss: 0.6353 - val_acc: 0.6562\n",
      "Epoch 29/30\n",
      "1/1 [==============================] - 0s 122ms/step - loss: 0.6116 - acc: 0.6875 - val_loss: 0.6348 - val_acc: 0.6562\n",
      "Epoch 30/30\n",
      "1/1 [==============================] - 0s 121ms/step - loss: 0.6112 - acc: 0.6875 - val_loss: 0.6344 - val_acc: 0.6562\n"
     ]
    }
   ],
   "source": [
    "history4 = model4.fit(train_images,\n",
    "                    train_y,\n",
    "                    epochs=30,\n",
    "                    batch_size=32,\n",
    "                    validation_data=(val_images, val_y))"
   ]
  },
  {
   "cell_type": "code",
   "execution_count": null,
   "id": "94c11ac8-e4eb-40a5-920c-c1dd9ba99b41",
   "metadata": {},
   "outputs": [],
   "source": [
    "results_train = model.evaluate(train_images, train_y)"
   ]
  },
  {
   "cell_type": "code",
   "execution_count": null,
   "id": "7df2a36e-6e62-4cc1-bd39-ac170d2376d6",
   "metadata": {},
   "outputs": [],
   "source": [
    "results_test = model.evaluate(test_images, test_y)"
   ]
  },
  {
   "cell_type": "code",
   "execution_count": null,
   "id": "bb4159de-9d64-48a7-9715-d3e96dbea26f",
   "metadata": {},
   "outputs": [],
   "source": [
    "results_train"
   ]
  },
  {
   "cell_type": "code",
   "execution_count": null,
   "id": "ef5f91e0-ed52-48b2-9735-707d5fd6db82",
   "metadata": {},
   "outputs": [],
   "source": [
    "results_test"
   ]
  },
  {
   "cell_type": "markdown",
   "id": "4485334a-3348-4e17-8106-28dd1cffc0f3",
   "metadata": {},
   "source": [
    "## Overampling"
   ]
  },
  {
   "cell_type": "code",
   "execution_count": null,
   "id": "a546ef5a-5898-4366-b4fa-b8c5f142a3eb",
   "metadata": {},
   "outputs": [],
   "source": []
  }
 ],
 "metadata": {
  "kernelspec": {
   "display_name": "main_env",
   "language": "python",
   "name": "main_env"
  },
  "language_info": {
   "codemirror_mode": {
    "name": "ipython",
    "version": 3
   },
   "file_extension": ".py",
   "mimetype": "text/x-python",
   "name": "python",
   "nbconvert_exporter": "python",
   "pygments_lexer": "ipython3",
   "version": "3.8.11"
  }
 },
 "nbformat": 4,
 "nbformat_minor": 5
}
