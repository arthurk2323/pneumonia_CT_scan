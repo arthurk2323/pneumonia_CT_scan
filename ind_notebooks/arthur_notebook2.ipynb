{
 "cells": [
  {
   "cell_type": "code",
   "execution_count": 1,
   "id": "f164d0da-af26-4a8c-a11f-2fc1222af931",
   "metadata": {},
   "outputs": [
    {
     "name": "stdout",
     "output_type": "stream",
     "text": [
      "/Users/arthur/Documents/Flatiron/phase_4/Project/pneumonia_CT_scan\n"
     ]
    }
   ],
   "source": [
    "cd .."
   ]
  },
  {
   "cell_type": "code",
   "execution_count": 2,
   "id": "cc0b1887-aa0d-443e-a9e2-c327dff5bff8",
   "metadata": {},
   "outputs": [],
   "source": [
    "import os, shutil, random\n",
    "import pandas as pd\n",
    "import numpy as np\n",
    "from tensorflow.keras import models, layers\n",
    "from tensorflow.keras.preprocessing.image import ImageDataGenerator, array_to_img, img_to_array, load_img"
   ]
  },
  {
   "cell_type": "code",
   "execution_count": 3,
   "id": "b16ff4d8-0695-481b-abde-f0aa5b25e1a7",
   "metadata": {},
   "outputs": [],
   "source": [
    "train_dir = 'data/split/train'\n",
    "val_dir = 'data/split/val'\n",
    "test_dir = 'data/split/test'\n",
    "\n",
    "train_pneu = train_dir + '/PNEUMONIA'\n",
    "val_pneu = val_dir + '/PNEUMONIA'\n",
    "test_pneu = test_dir + '/PNEUMONIA'\n",
    "train_non_pneu = train_dir + '/NORMAL'\n",
    "val_non_pneu = val_dir + '/NORMAL'\n",
    "test_non_pneu = test_dir + '/NORMAL'"
   ]
  },
  {
   "cell_type": "code",
   "execution_count": 4,
   "id": "69b3268a-9cd1-4cca-ba38-fa815973be47",
   "metadata": {},
   "outputs": [
    {
     "name": "stdout",
     "output_type": "stream",
     "text": [
      "There are 2564 pneumonia images in the training set\n",
      "There are 855 pneumonia images in the validation set\n",
      "There are 854 pneumonia images in the testing set\n",
      "There are 950 non-pneumonia images in the training set\n",
      "There are 317 non-pneumonia images in the validation set\n",
      "There are 316 non-pneumonia images in the testing set\n"
     ]
    }
   ],
   "source": [
    "print('There are', len(os.listdir(train_pneu)), 'pneumonia images in the training set')\n",
    "print('There are', len(os.listdir(val_pneu)), 'pneumonia images in the validation set')\n",
    "print('There are', len(os.listdir(test_pneu)), 'pneumonia images in the testing set')\n",
    "print('There are', len(os.listdir(train_non_pneu)), 'non-pneumonia images in the training set')\n",
    "print('There are', len(os.listdir(val_non_pneu)), 'non-pneumonia images in the validation set')\n",
    "print('There are', len(os.listdir(test_non_pneu)), 'non-pneumonia images in the testing set')"
   ]
  },
  {
   "cell_type": "code",
   "execution_count": 5,
   "id": "77a03fa2-9d28-4527-9bd0-8933e56036fd",
   "metadata": {},
   "outputs": [
    {
     "name": "stdout",
     "output_type": "stream",
     "text": [
      "Found 3514 images belonging to 2 classes.\n",
      "Found 1172 images belonging to 2 classes.\n",
      "Found 1170 images belonging to 2 classes.\n"
     ]
    }
   ],
   "source": [
    "# Get all the data in the directory data/train (2564+950 images), and reshape them\n",
    "train_generator = ImageDataGenerator(rescale=1./255).flow_from_directory(\n",
    "        train_dir, \n",
    "        target_size=(64, 64), batch_size=2564+950)\n",
    "\n",
    "# Get all the data in the directory data/val (855+317 images), and reshape them\n",
    "val_generator = ImageDataGenerator(rescale=1./255).flow_from_directory(\n",
    "        val_dir, \n",
    "        target_size=(64, 64), batch_size=855+317)\n",
    "\n",
    "# Get all the data in the directory data/test (854+316 images), and reshape them\n",
    "test_generator = ImageDataGenerator(rescale=1./255).flow_from_directory(\n",
    "        test_dir, \n",
    "        target_size=(64, 64), batch_size=854+316)\n",
    "\n",
    "# Create the datasets\n",
    "train_images, train_labels = next(train_generator)\n",
    "val_images, val_labels = next(val_generator)\n",
    "test_images, test_labels = next(test_generator)"
   ]
  },
  {
   "cell_type": "code",
   "execution_count": 6,
   "id": "617db723-e7c2-48a9-94a9-9e2ec411feb9",
   "metadata": {},
   "outputs": [
    {
     "name": "stdout",
     "output_type": "stream",
     "text": [
      "(3514, 64, 64, 3)\n",
      "(3514, 2)\n",
      "(1172, 64, 64, 3)\n",
      "(1172, 2)\n",
      "(1170, 64, 64, 3)\n",
      "(1170, 2)\n"
     ]
    }
   ],
   "source": [
    "print(np.shape(train_images))\n",
    "print(np.shape(train_labels))\n",
    "print(np.shape(val_images))\n",
    "print(np.shape(val_labels))\n",
    "print(np.shape(test_images))\n",
    "print(np.shape(test_labels))"
   ]
  },
  {
   "cell_type": "code",
   "execution_count": 7,
   "id": "cd24a8f5-04bd-4a77-9673-19fd8c814e64",
   "metadata": {},
   "outputs": [
    {
     "name": "stdout",
     "output_type": "stream",
     "text": [
      "{'NORMAL': 0, 'PNEUMONIA': 1}\n",
      "{'NORMAL': 0, 'PNEUMONIA': 1}\n",
      "{'NORMAL': 0, 'PNEUMONIA': 1}\n"
     ]
    }
   ],
   "source": [
    "print(train_generator.class_indices)\n",
    "print(val_generator.class_indices)\n",
    "print(test_generator.class_indices)"
   ]
  },
  {
   "cell_type": "code",
   "execution_count": 8,
   "id": "14e6d301-5420-49ea-a90c-ac38b074ebd4",
   "metadata": {},
   "outputs": [
    {
     "name": "stdout",
     "output_type": "stream",
     "text": [
      "(3514, 12288)\n",
      "(1170, 12288)\n",
      "(1172, 12288)\n"
     ]
    }
   ],
   "source": [
    "train_img = train_images.reshape(train_images.shape[0], -1)\n",
    "test_img = test_images.reshape(test_images.shape[0], -1)\n",
    "val_img = val_images.reshape(val_images.shape[0], -1)\n",
    "print(train_img.shape)\n",
    "print(test_img.shape)\n",
    "print(val_img.shape)"
   ]
  },
  {
   "cell_type": "code",
   "execution_count": 9,
   "id": "5e6bfdaa-20d6-44b9-9793-9b2c28435360",
   "metadata": {},
   "outputs": [],
   "source": [
    "train_y = np.reshape(train_labels[:,0], (train_images.shape[0],1))\n",
    "test_y = np.reshape(test_labels[:,0], (test_images.shape[0],1))\n",
    "val_y = np.reshape(val_labels[:,0], (val_images.shape[0],1))"
   ]
  },
  {
   "cell_type": "markdown",
   "id": "fedf1181-cc30-42d4-94ff-79644f2b724a",
   "metadata": {},
   "source": [
    "## Dummy Model"
   ]
  },
  {
   "cell_type": "code",
   "execution_count": 23,
   "id": "dcd35d25-8c38-4654-9280-a7356acbf3c5",
   "metadata": {},
   "outputs": [
    {
     "data": {
      "text/plain": [
       "DummyClassifier(strategy='most_frequent')"
      ]
     },
     "execution_count": 23,
     "metadata": {},
     "output_type": "execute_result"
    }
   ],
   "source": [
    "from sklearn.dummy import DummyClassifier\n",
    "\n",
    "dummy_clf = DummyClassifier(strategy='most_frequent')\n",
    "dummy_clf.fit(train_images, train_labels)"
   ]
  },
  {
   "cell_type": "code",
   "execution_count": 25,
   "id": "a61229fd-8146-4291-a70c-5e1547a1eb18",
   "metadata": {},
   "outputs": [
    {
     "data": {
      "text/plain": [
       "0.7296528173022196"
      ]
     },
     "execution_count": 25,
     "metadata": {},
     "output_type": "execute_result"
    }
   ],
   "source": [
    "dummy_clf.score(train_images,train_labels)"
   ]
  },
  {
   "cell_type": "code",
   "execution_count": 26,
   "id": "21f8706e-6bde-4686-8f4b-67fa74fc0321",
   "metadata": {},
   "outputs": [
    {
     "data": {
      "text/plain": [
       "0.7295221843003413"
      ]
     },
     "execution_count": 26,
     "metadata": {},
     "output_type": "execute_result"
    }
   ],
   "source": [
    "dummy_clf.score(val_images,val_labels)"
   ]
  },
  {
   "cell_type": "code",
   "execution_count": 27,
   "id": "23efd52a-0981-4dca-a605-71636d92f01a",
   "metadata": {},
   "outputs": [
    {
     "data": {
      "text/plain": [
       "0.7299145299145299"
      ]
     },
     "execution_count": 27,
     "metadata": {},
     "output_type": "execute_result"
    }
   ],
   "source": [
    "dummy_clf.score(test_images,test_labels)"
   ]
  },
  {
   "cell_type": "markdown",
   "id": "75478279-dd9a-4eff-be4a-33f93a56e472",
   "metadata": {},
   "source": [
    "## Model 1: Neural Network"
   ]
  },
  {
   "cell_type": "code",
   "execution_count": 10,
   "id": "48c436d2-4f9e-48c9-8789-bea18f06aaec",
   "metadata": {},
   "outputs": [],
   "source": [
    "np.random.seed(123)\n",
    "model = models.Sequential()\n",
    "model.add(layers.Dense(20, activation='relu', input_shape=(12288,)))\n",
    "model.add(layers.Dense(7, activation='relu'))\n",
    "model.add(layers.Dense(5, activation='relu'))\n",
    "model.add(layers.Dense(1, activation='sigmoid'))"
   ]
  },
  {
   "cell_type": "code",
   "execution_count": 11,
   "id": "b048cfe2-0427-44f1-974d-00906937ab64",
   "metadata": {},
   "outputs": [
    {
     "name": "stdout",
     "output_type": "stream",
     "text": [
      "Epoch 1/50\n",
      "110/110 [==============================] - 1s 9ms/step - loss: 0.6426 - accuracy: 0.7020 - val_loss: 0.4997 - val_accuracy: 0.7304\n",
      "Epoch 2/50\n",
      "110/110 [==============================] - 0s 2ms/step - loss: 0.4436 - accuracy: 0.8027 - val_loss: 0.3741 - val_accuracy: 0.8063\n",
      "Epoch 3/50\n",
      "110/110 [==============================] - 0s 2ms/step - loss: 0.3423 - accuracy: 0.8524 - val_loss: 0.2824 - val_accuracy: 0.8857\n",
      "Epoch 4/50\n",
      "110/110 [==============================] - 0s 2ms/step - loss: 0.2955 - accuracy: 0.8715 - val_loss: 0.2241 - val_accuracy: 0.9181\n",
      "Epoch 5/50\n",
      "110/110 [==============================] - 0s 2ms/step - loss: 0.2543 - accuracy: 0.8947 - val_loss: 0.2570 - val_accuracy: 0.9010\n",
      "Epoch 6/50\n",
      "110/110 [==============================] - 0s 2ms/step - loss: 0.2306 - accuracy: 0.9072 - val_loss: 0.2788 - val_accuracy: 0.8780\n",
      "Epoch 7/50\n",
      "110/110 [==============================] - 0s 2ms/step - loss: 0.2638 - accuracy: 0.8885 - val_loss: 0.2018 - val_accuracy: 0.9266\n",
      "Epoch 8/50\n",
      "110/110 [==============================] - 0s 3ms/step - loss: 0.2307 - accuracy: 0.9047 - val_loss: 0.2110 - val_accuracy: 0.9198\n",
      "Epoch 9/50\n",
      "110/110 [==============================] - 0s 3ms/step - loss: 0.2058 - accuracy: 0.9189 - val_loss: 0.2165 - val_accuracy: 0.9104\n",
      "Epoch 10/50\n",
      "110/110 [==============================] - 0s 2ms/step - loss: 0.2121 - accuracy: 0.9119 - val_loss: 0.2078 - val_accuracy: 0.9224\n",
      "Epoch 11/50\n",
      "110/110 [==============================] - 0s 3ms/step - loss: 0.1857 - accuracy: 0.9286 - val_loss: 0.2007 - val_accuracy: 0.9215\n",
      "Epoch 12/50\n",
      "110/110 [==============================] - 0s 3ms/step - loss: 0.1778 - accuracy: 0.9321 - val_loss: 0.2108 - val_accuracy: 0.9121\n",
      "Epoch 13/50\n",
      "110/110 [==============================] - 0s 3ms/step - loss: 0.1849 - accuracy: 0.9320 - val_loss: 0.1976 - val_accuracy: 0.9275\n",
      "Epoch 14/50\n",
      "110/110 [==============================] - 0s 3ms/step - loss: 0.1848 - accuracy: 0.9253 - val_loss: 0.1982 - val_accuracy: 0.9206\n",
      "Epoch 15/50\n",
      "110/110 [==============================] - 0s 2ms/step - loss: 0.1799 - accuracy: 0.9307 - val_loss: 0.2211 - val_accuracy: 0.9019\n",
      "Epoch 16/50\n",
      "110/110 [==============================] - 0s 2ms/step - loss: 0.1805 - accuracy: 0.9256 - val_loss: 0.1884 - val_accuracy: 0.9352\n",
      "Epoch 17/50\n",
      "110/110 [==============================] - 0s 3ms/step - loss: 0.1670 - accuracy: 0.9332 - val_loss: 0.1946 - val_accuracy: 0.9232\n",
      "Epoch 18/50\n",
      "110/110 [==============================] - 0s 2ms/step - loss: 0.1906 - accuracy: 0.9235 - val_loss: 0.2976 - val_accuracy: 0.8899\n",
      "Epoch 19/50\n",
      "110/110 [==============================] - 0s 3ms/step - loss: 0.1717 - accuracy: 0.9353 - val_loss: 0.1869 - val_accuracy: 0.9334\n",
      "Epoch 20/50\n",
      "110/110 [==============================] - 0s 3ms/step - loss: 0.1659 - accuracy: 0.9345 - val_loss: 0.2060 - val_accuracy: 0.9147\n",
      "Epoch 21/50\n",
      "110/110 [==============================] - 0s 3ms/step - loss: 0.1706 - accuracy: 0.9337 - val_loss: 0.1902 - val_accuracy: 0.9275\n",
      "Epoch 22/50\n",
      "110/110 [==============================] - 0s 3ms/step - loss: 0.1707 - accuracy: 0.9307 - val_loss: 0.2335 - val_accuracy: 0.8985\n",
      "Epoch 23/50\n",
      "110/110 [==============================] - 0s 3ms/step - loss: 0.1747 - accuracy: 0.9298 - val_loss: 0.1915 - val_accuracy: 0.9283\n",
      "Epoch 24/50\n",
      "110/110 [==============================] - 0s 2ms/step - loss: 0.1575 - accuracy: 0.9388 - val_loss: 0.1889 - val_accuracy: 0.9309\n",
      "Epoch 25/50\n",
      "110/110 [==============================] - 0s 3ms/step - loss: 0.1494 - accuracy: 0.9448 - val_loss: 0.2135 - val_accuracy: 0.9206\n",
      "Epoch 26/50\n",
      "110/110 [==============================] - 0s 2ms/step - loss: 0.1728 - accuracy: 0.9307 - val_loss: 0.2226 - val_accuracy: 0.9027\n",
      "Epoch 27/50\n",
      "110/110 [==============================] - 0s 3ms/step - loss: 0.1509 - accuracy: 0.9466 - val_loss: 0.1865 - val_accuracy: 0.9326\n",
      "Epoch 28/50\n",
      "110/110 [==============================] - 0s 3ms/step - loss: 0.1647 - accuracy: 0.9361 - val_loss: 0.1825 - val_accuracy: 0.9386\n",
      "Epoch 29/50\n",
      "110/110 [==============================] - 0s 3ms/step - loss: 0.1552 - accuracy: 0.9439 - val_loss: 0.2219 - val_accuracy: 0.9181\n",
      "Epoch 30/50\n",
      "110/110 [==============================] - 0s 3ms/step - loss: 0.1586 - accuracy: 0.9428 - val_loss: 0.1890 - val_accuracy: 0.9266\n",
      "Epoch 31/50\n",
      "110/110 [==============================] - 0s 3ms/step - loss: 0.1556 - accuracy: 0.9407 - val_loss: 0.1903 - val_accuracy: 0.9275\n",
      "Epoch 32/50\n",
      "110/110 [==============================] - 0s 3ms/step - loss: 0.1504 - accuracy: 0.9428 - val_loss: 0.2088 - val_accuracy: 0.9266\n",
      "Epoch 33/50\n",
      "110/110 [==============================] - 0s 3ms/step - loss: 0.1471 - accuracy: 0.9452 - val_loss: 0.1941 - val_accuracy: 0.9224\n",
      "Epoch 34/50\n",
      "110/110 [==============================] - 0s 3ms/step - loss: 0.1553 - accuracy: 0.9376 - val_loss: 0.1862 - val_accuracy: 0.9283\n",
      "Epoch 35/50\n",
      "110/110 [==============================] - 0s 3ms/step - loss: 0.1498 - accuracy: 0.9463 - val_loss: 0.1826 - val_accuracy: 0.9326\n",
      "Epoch 36/50\n",
      "110/110 [==============================] - 0s 3ms/step - loss: 0.1446 - accuracy: 0.9461 - val_loss: 0.1874 - val_accuracy: 0.9275\n",
      "Epoch 37/50\n",
      "110/110 [==============================] - 0s 3ms/step - loss: 0.1390 - accuracy: 0.9472 - val_loss: 0.1824 - val_accuracy: 0.9403\n",
      "Epoch 38/50\n",
      "110/110 [==============================] - 0s 3ms/step - loss: 0.1530 - accuracy: 0.9426 - val_loss: 0.1820 - val_accuracy: 0.9300\n",
      "Epoch 39/50\n",
      "110/110 [==============================] - 0s 3ms/step - loss: 0.1564 - accuracy: 0.9374 - val_loss: 0.1809 - val_accuracy: 0.9394\n",
      "Epoch 40/50\n",
      "110/110 [==============================] - 0s 2ms/step - loss: 0.1407 - accuracy: 0.9445 - val_loss: 0.2274 - val_accuracy: 0.9164\n",
      "Epoch 41/50\n",
      "110/110 [==============================] - 0s 3ms/step - loss: 0.1516 - accuracy: 0.9451 - val_loss: 0.2088 - val_accuracy: 0.9258\n",
      "Epoch 42/50\n",
      "110/110 [==============================] - 0s 3ms/step - loss: 0.1601 - accuracy: 0.9394 - val_loss: 0.1977 - val_accuracy: 0.9317\n",
      "Epoch 43/50\n",
      "110/110 [==============================] - 0s 3ms/step - loss: 0.1754 - accuracy: 0.9388 - val_loss: 0.2082 - val_accuracy: 0.9070\n",
      "Epoch 44/50\n",
      "110/110 [==============================] - 0s 3ms/step - loss: 0.1464 - accuracy: 0.9418 - val_loss: 0.1918 - val_accuracy: 0.9232\n",
      "Epoch 45/50\n",
      "110/110 [==============================] - 0s 3ms/step - loss: 0.1357 - accuracy: 0.9453 - val_loss: 0.2621 - val_accuracy: 0.9078\n",
      "Epoch 46/50\n",
      "110/110 [==============================] - 0s 3ms/step - loss: 0.1479 - accuracy: 0.9383 - val_loss: 0.2054 - val_accuracy: 0.9249\n",
      "Epoch 47/50\n",
      "110/110 [==============================] - 0s 3ms/step - loss: 0.1499 - accuracy: 0.9369 - val_loss: 0.2793 - val_accuracy: 0.8831\n",
      "Epoch 48/50\n",
      "110/110 [==============================] - 0s 2ms/step - loss: 0.1418 - accuracy: 0.9462 - val_loss: 0.1852 - val_accuracy: 0.9283\n",
      "Epoch 49/50\n",
      "110/110 [==============================] - 0s 3ms/step - loss: 0.1342 - accuracy: 0.9460 - val_loss: 0.1877 - val_accuracy: 0.9283\n",
      "Epoch 50/50\n",
      "110/110 [==============================] - 0s 3ms/step - loss: 0.1234 - accuracy: 0.9581 - val_loss: 0.2442 - val_accuracy: 0.8993\n"
     ]
    }
   ],
   "source": [
    "model.compile(optimizer='sgd',\n",
    "              loss='binary_crossentropy',\n",
    "              metrics=['accuracy'])\n",
    "\n",
    "histoire = model.fit(train_img,\n",
    "                     train_y,\n",
    "                     epochs=50,\n",
    "                     batch_size=32,\n",
    "                     validation_data=(val_img, val_y))"
   ]
  },
  {
   "cell_type": "code",
   "execution_count": 12,
   "id": "8b66cadc-bab7-4163-a338-03623629d5ad",
   "metadata": {},
   "outputs": [
    {
     "name": "stdout",
     "output_type": "stream",
     "text": [
      "110/110 [==============================] - 0s 2ms/step - loss: 0.1732 - accuracy: 0.9300\n"
     ]
    }
   ],
   "source": [
    "results_train = model.evaluate(train_img, train_y)"
   ]
  },
  {
   "cell_type": "code",
   "execution_count": 13,
   "id": "b2dc1768-3e76-479c-b01d-8780d402a803",
   "metadata": {},
   "outputs": [
    {
     "name": "stdout",
     "output_type": "stream",
     "text": [
      "37/37 [==============================] - 0s 1ms/step - loss: 0.2371 - accuracy: 0.9077\n"
     ]
    }
   ],
   "source": [
    "results_test = model.evaluate(test_img, test_y)"
   ]
  },
  {
   "cell_type": "code",
   "execution_count": 14,
   "id": "c77ddb25-317a-4ca9-84aa-5cc803f54117",
   "metadata": {},
   "outputs": [
    {
     "data": {
      "text/plain": [
       "[0.17318986356258392, 0.9299942851066589]"
      ]
     },
     "execution_count": 14,
     "metadata": {},
     "output_type": "execute_result"
    }
   ],
   "source": [
    "results_train"
   ]
  },
  {
   "cell_type": "code",
   "execution_count": 15,
   "id": "a751347c-b375-43ae-841f-6a4cf5f8ca46",
   "metadata": {},
   "outputs": [
    {
     "data": {
      "text/plain": [
       "[0.2370913028717041, 0.9076923131942749]"
      ]
     },
     "execution_count": 15,
     "metadata": {},
     "output_type": "execute_result"
    }
   ],
   "source": [
    "results_test"
   ]
  },
  {
   "cell_type": "markdown",
   "id": "ef87d1fc-59a0-4644-9119-8e4519db6e07",
   "metadata": {},
   "source": [
    "## Model 2: CNN"
   ]
  },
  {
   "cell_type": "code",
   "execution_count": 16,
   "id": "294e361f-439e-455c-be3c-aadc573c2000",
   "metadata": {},
   "outputs": [],
   "source": [
    "model = models.Sequential()\n",
    "model.add(layers.Conv2D(32, (3, 3), activation='relu',\n",
    "                        input_shape=(64 ,64,  3)))\n",
    "model.add(layers.MaxPooling2D((2, 2)))\n",
    "\n",
    "model.add(layers.Conv2D(32, (4, 4), activation='relu'))\n",
    "model.add(layers.MaxPooling2D((2, 2)))\n",
    "\n",
    "model.add(layers.Conv2D(64, (3, 3), activation='relu'))\n",
    "model.add(layers.MaxPooling2D((2, 2)))\n",
    "\n",
    "model.add(layers.Flatten())\n",
    "model.add(layers.Dense(64, activation='relu'))\n",
    "model.add(layers.Dense(1, activation='sigmoid'))\n",
    "\n",
    "model.compile(loss='binary_crossentropy',\n",
    "              optimizer=\"sgd\",\n",
    "              metrics=['acc'])"
   ]
  },
  {
   "cell_type": "code",
   "execution_count": 22,
   "id": "0e6f453f-bec4-4642-9112-670c330d6ff1",
   "metadata": {},
   "outputs": [
    {
     "name": "stdout",
     "output_type": "stream",
     "text": [
      "Epoch 1/30\n",
      "36/36 [==============================] - 8s 211ms/step - loss: 0.1222 - acc: 0.9533 - val_loss: 0.1546 - val_acc: 0.9411\n",
      "Epoch 2/30\n",
      "36/36 [==============================] - 7s 207ms/step - loss: 0.1220 - acc: 0.9542 - val_loss: 0.2114 - val_acc: 0.9224\n",
      "Epoch 3/30\n",
      "36/36 [==============================] - 8s 229ms/step - loss: 0.1207 - acc: 0.9553 - val_loss: 0.1670 - val_acc: 0.9326\n",
      "Epoch 4/30\n",
      "36/36 [==============================] - 7s 199ms/step - loss: 0.1179 - acc: 0.9559 - val_loss: 0.1537 - val_acc: 0.9445\n",
      "Epoch 5/30\n",
      "36/36 [==============================] - 7s 191ms/step - loss: 0.1181 - acc: 0.9562 - val_loss: 0.1750 - val_acc: 0.9369\n",
      "Epoch 6/30\n",
      "36/36 [==============================] - 7s 192ms/step - loss: 0.1170 - acc: 0.9536 - val_loss: 0.1962 - val_acc: 0.9283\n",
      "Epoch 7/30\n",
      "36/36 [==============================] - 7s 192ms/step - loss: 0.1175 - acc: 0.9562 - val_loss: 0.1518 - val_acc: 0.9437\n",
      "Epoch 8/30\n",
      "36/36 [==============================] - 7s 208ms/step - loss: 0.1187 - acc: 0.9545 - val_loss: 0.1574 - val_acc: 0.9462\n",
      "Epoch 9/30\n",
      "36/36 [==============================] - 7s 206ms/step - loss: 0.1174 - acc: 0.9562 - val_loss: 0.1700 - val_acc: 0.9403\n",
      "Epoch 10/30\n",
      "36/36 [==============================] - 7s 192ms/step - loss: 0.1167 - acc: 0.9585 - val_loss: 0.1521 - val_acc: 0.9437\n",
      "Epoch 11/30\n",
      "36/36 [==============================] - 7s 200ms/step - loss: 0.1148 - acc: 0.9570 - val_loss: 0.1908 - val_acc: 0.9198\n",
      "Epoch 12/30\n",
      "36/36 [==============================] - 7s 192ms/step - loss: 0.1172 - acc: 0.9579 - val_loss: 0.1803 - val_acc: 0.9292\n",
      "Epoch 13/30\n",
      "36/36 [==============================] - 7s 197ms/step - loss: 0.1139 - acc: 0.9573 - val_loss: 0.1890 - val_acc: 0.9189\n",
      "Epoch 14/30\n",
      "36/36 [==============================] - 7s 203ms/step - loss: 0.1167 - acc: 0.9582 - val_loss: 0.1573 - val_acc: 0.9454\n",
      "Epoch 15/30\n",
      "36/36 [==============================] - 8s 214ms/step - loss: 0.1124 - acc: 0.9556 - val_loss: 0.1487 - val_acc: 0.9480\n",
      "Epoch 16/30\n",
      "36/36 [==============================] - 8s 224ms/step - loss: 0.1110 - acc: 0.9604 - val_loss: 0.1514 - val_acc: 0.9480\n",
      "Epoch 17/30\n",
      "36/36 [==============================] - 9s 249ms/step - loss: 0.1124 - acc: 0.9585 - val_loss: 0.1665 - val_acc: 0.9309\n",
      "Epoch 18/30\n",
      "36/36 [==============================] - 10s 265ms/step - loss: 0.1112 - acc: 0.9593 - val_loss: 0.2024 - val_acc: 0.9155\n",
      "Epoch 19/30\n",
      "36/36 [==============================] - 10s 274ms/step - loss: 0.1122 - acc: 0.9582 - val_loss: 0.1519 - val_acc: 0.9420\n",
      "Epoch 20/30\n",
      "36/36 [==============================] - 10s 267ms/step - loss: 0.1082 - acc: 0.9624 - val_loss: 0.1484 - val_acc: 0.9488\n",
      "Epoch 21/30\n",
      "36/36 [==============================] - 9s 243ms/step - loss: 0.1099 - acc: 0.9596 - val_loss: 0.1619 - val_acc: 0.9411\n",
      "Epoch 22/30\n",
      "36/36 [==============================] - 10s 265ms/step - loss: 0.1091 - acc: 0.9604 - val_loss: 0.1636 - val_acc: 0.9352\n",
      "Epoch 23/30\n",
      "36/36 [==============================] - 9s 255ms/step - loss: 0.1064 - acc: 0.9610 - val_loss: 0.1734 - val_acc: 0.9258\n",
      "Epoch 24/30\n",
      "36/36 [==============================] - 8s 236ms/step - loss: 0.1047 - acc: 0.9622 - val_loss: 0.1844 - val_acc: 0.9360\n",
      "Epoch 25/30\n",
      "36/36 [==============================] - 9s 238ms/step - loss: 0.1081 - acc: 0.9607 - val_loss: 0.1515 - val_acc: 0.9445\n",
      "Epoch 26/30\n",
      "36/36 [==============================] - 9s 256ms/step - loss: 0.1055 - acc: 0.9610 - val_loss: 0.1756 - val_acc: 0.9377\n",
      "Epoch 27/30\n",
      "36/36 [==============================] - 10s 272ms/step - loss: 0.1109 - acc: 0.9604 - val_loss: 1.3889 - val_acc: 0.7355\n",
      "Epoch 28/30\n",
      "36/36 [==============================] - 9s 258ms/step - loss: 0.1443 - acc: 0.9545 - val_loss: 0.1460 - val_acc: 0.9488\n",
      "Epoch 29/30\n",
      "36/36 [==============================] - 9s 256ms/step - loss: 0.1065 - acc: 0.9641 - val_loss: 0.1483 - val_acc: 0.9471\n",
      "Epoch 30/30\n",
      "36/36 [==============================] - 10s 266ms/step - loss: 0.1038 - acc: 0.9607 - val_loss: 0.1665 - val_acc: 0.9386\n"
     ]
    }
   ],
   "source": [
    "history = model.fit(train_images,\n",
    "                    train_y,\n",
    "                    epochs=30,\n",
    "                    batch_size=100,\n",
    "                    validation_data=(val_images, val_y))"
   ]
  },
  {
   "cell_type": "code",
   "execution_count": 18,
   "id": "94c11ac8-e4eb-40a5-920c-c1dd9ba99b41",
   "metadata": {},
   "outputs": [
    {
     "name": "stdout",
     "output_type": "stream",
     "text": [
      "110/110 [==============================] - 2s 17ms/step - loss: 0.1570 - acc: 0.9388\n"
     ]
    }
   ],
   "source": [
    "results_train = model.evaluate(train_images, train_y)"
   ]
  },
  {
   "cell_type": "code",
   "execution_count": 19,
   "id": "7df2a36e-6e62-4cc1-bd39-ac170d2376d6",
   "metadata": {},
   "outputs": [
    {
     "name": "stdout",
     "output_type": "stream",
     "text": [
      "37/37 [==============================] - 1s 17ms/step - loss: 0.1933 - acc: 0.9325\n"
     ]
    }
   ],
   "source": [
    "results_test = model.evaluate(test_images, test_y)"
   ]
  },
  {
   "cell_type": "code",
   "execution_count": 20,
   "id": "bb4159de-9d64-48a7-9715-d3e96dbea26f",
   "metadata": {},
   "outputs": [
    {
     "data": {
      "text/plain": [
       "[0.156983882188797, 0.9388161897659302]"
      ]
     },
     "execution_count": 20,
     "metadata": {},
     "output_type": "execute_result"
    }
   ],
   "source": [
    "results_train"
   ]
  },
  {
   "cell_type": "code",
   "execution_count": 21,
   "id": "ef5f91e0-ed52-48b2-9735-707d5fd6db82",
   "metadata": {},
   "outputs": [
    {
     "data": {
      "text/plain": [
       "[0.1932610422372818, 0.9324786067008972]"
      ]
     },
     "execution_count": 21,
     "metadata": {},
     "output_type": "execute_result"
    }
   ],
   "source": [
    "results_test"
   ]
  },
  {
   "cell_type": "markdown",
   "id": "4485334a-3348-4e17-8106-28dd1cffc0f3",
   "metadata": {},
   "source": [
    "## Overampling"
   ]
  },
  {
   "cell_type": "code",
   "execution_count": null,
   "id": "a546ef5a-5898-4366-b4fa-b8c5f142a3eb",
   "metadata": {},
   "outputs": [],
   "source": []
  }
 ],
 "metadata": {
  "kernelspec": {
   "display_name": "main_env",
   "language": "python",
   "name": "main_env"
  },
  "language_info": {
   "codemirror_mode": {
    "name": "ipython",
    "version": 3
   },
   "file_extension": ".py",
   "mimetype": "text/x-python",
   "name": "python",
   "nbconvert_exporter": "python",
   "pygments_lexer": "ipython3",
   "version": "3.8.11"
  }
 },
 "nbformat": 4,
 "nbformat_minor": 5
}
