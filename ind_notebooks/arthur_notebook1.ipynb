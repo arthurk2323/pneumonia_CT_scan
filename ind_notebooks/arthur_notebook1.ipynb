{
 "cells": [
  {
   "cell_type": "markdown",
   "id": "ba91d8e2-1190-40c1-b88f-2d22739aefc1",
   "metadata": {
    "tags": []
   },
   "source": [
    "# [Insert Title]"
   ]
  },
  {
   "cell_type": "markdown",
   "id": "dd137463-018a-42bc-9cca-d1d5cabb8aeb",
   "metadata": {
    "tags": []
   },
   "source": [
    "### Authors"
   ]
  },
  {
   "cell_type": "markdown",
   "id": "5ed92634-82ca-4a00-bcaf-273cdabf4f0d",
   "metadata": {},
   "source": [
    "* Mia Fryer\n",
    "* Arthur Kim\n",
    "* Ian Sharff"
   ]
  },
  {
   "cell_type": "markdown",
   "id": "94d6b791-9fe5-4837-b6e8-b8b3dc495add",
   "metadata": {
    "jp-MarkdownHeadingCollapsed": true,
    "tags": []
   },
   "source": [
    "## Overview"
   ]
  },
  {
   "cell_type": "markdown",
   "id": "49cf3a60-2f5f-46fe-88ea-51f4a1a79fa9",
   "metadata": {
    "tags": []
   },
   "source": [
    "## Business Problem"
   ]
  },
  {
   "cell_type": "markdown",
   "id": "4070f4d1-3112-4748-8814-df38a61a2e45",
   "metadata": {
    "tags": []
   },
   "source": [
    "## Data Understanding"
   ]
  },
  {
   "cell_type": "code",
   "execution_count": 1,
   "id": "2ae63741-f6f3-4f08-96f4-50b266b61e78",
   "metadata": {},
   "outputs": [
    {
     "data": {
      "text/plain": [
       "'/Users/arthur/Documents/Flatiron/phase_4/Project/pneumonia_CT_scan/ind_notebooks'"
      ]
     },
     "execution_count": 1,
     "metadata": {},
     "output_type": "execute_result"
    }
   ],
   "source": [
    "pwd"
   ]
  },
  {
   "cell_type": "code",
   "execution_count": 2,
   "id": "ee9f4682-91d8-498d-b442-a2a2d13ccafb",
   "metadata": {},
   "outputs": [
    {
     "name": "stdout",
     "output_type": "stream",
     "text": [
      "/Users/arthur/Documents/Flatiron/phase_4/Project/pneumonia_CT_scan\n"
     ]
    }
   ],
   "source": [
    "cd .."
   ]
  },
  {
   "cell_type": "markdown",
   "id": "bed73376-2713-418c-be67-3f210b1e7d81",
   "metadata": {
    "tags": []
   },
   "source": [
    "## Import"
   ]
  },
  {
   "cell_type": "code",
   "execution_count": 3,
   "id": "a59944b6-1e85-47b5-9460-6a62395eb02a",
   "metadata": {},
   "outputs": [],
   "source": [
    "import pandas as pd\n",
    "import os, shutil, random"
   ]
  },
  {
   "cell_type": "code",
   "execution_count": 4,
   "id": "deaa1aaf-7c34-48a4-b0ac-5888e94debbc",
   "metadata": {},
   "outputs": [],
   "source": [
    "imgs_pneu = [file for file in os.listdir('data/PNEUMONIA') if file.endswith('.jpeg')]\n",
    "imgs_non_pneu = [file for file in os.listdir('data/NORMAL') if file.endswith('.jpeg')]"
   ]
  },
  {
   "cell_type": "code",
   "execution_count": 5,
   "id": "598b2b48-bf2c-44e5-af7c-f50336f33086",
   "metadata": {},
   "outputs": [
    {
     "name": "stdout",
     "output_type": "stream",
     "text": [
      "There are 4273 pneumonia positive images\n",
      "There are 1583 pneumonia negative images\n"
     ]
    }
   ],
   "source": [
    "print('There are', len(imgs_pneu), 'pneumonia positive images')\n",
    "print('There are', len(imgs_non_pneu), 'pneumonia negative images')"
   ]
  },
  {
   "cell_type": "code",
   "execution_count": 6,
   "id": "c3098110-f6a9-4699-9053-71840393bc52",
   "metadata": {},
   "outputs": [
    {
     "name": "stdout",
     "output_type": "stream",
     "text": [
      "Proportion of images that are COVID-19 Positve Images: 0.73\n",
      "Proportion of images that are COVID-19 Negative Images: 0.27\n"
     ]
    }
   ],
   "source": [
    "print('Proportion of images that are COVID-19 Positve Images:', round(len(imgs_pneu)/(len(imgs_pneu)+len(imgs_non_pneu)),2))\n",
    "print('Proportion of images that are COVID-19 Negative Images:', round(len(imgs_non_pneu)/(len(imgs_pneu)+len(imgs_non_pneu)),2))"
   ]
  },
  {
   "cell_type": "code",
   "execution_count": 7,
   "id": "ac833ecc-ceea-4ebf-9933-a2df80a16406",
   "metadata": {},
   "outputs": [
    {
     "data": {
      "text/plain": [
       "2.7"
      ]
     },
     "execution_count": 7,
     "metadata": {},
     "output_type": "execute_result"
    }
   ],
   "source": [
    "round(len(imgs_pneu)/len(imgs_non_pneu),1)"
   ]
  },
  {
   "cell_type": "code",
   "execution_count": 22,
   "id": "bf6722a9-f0c8-4a0b-9d7b-4f9cf4c2fbf4",
   "metadata": {},
   "outputs": [],
   "source": [
    "new_dir = 'data/split/'\n",
    "org_pneu = 'data/PNEUMONIA/'\n",
    "org_norm = 'data/NORMAL/'"
   ]
  },
  {
   "cell_type": "code",
   "execution_count": 11,
   "id": "74b6a52a-d9f7-4ccb-a4d5-2d2469d6c17d",
   "metadata": {},
   "outputs": [],
   "source": [
    "os.mkdir(new_dir)"
   ]
  },
  {
   "cell_type": "code",
   "execution_count": 19,
   "id": "f18d0fa2-14d4-4032-8e5d-53b423d2cc8b",
   "metadata": {},
   "outputs": [],
   "source": [
    "train_folder = os.path.join(new_dir, 'train')\n",
    "train_pneu = os.path.join(train_folder, 'PNEUMONIA')\n",
    "train_non_pneu = os.path.join(train_folder, 'NORMAL')\n",
    "\n",
    "test_folder = os.path.join(new_dir, 'test')\n",
    "test_pneu = os.path.join(test_folder, 'PNEUMONIA')\n",
    "test_non_pneu = os.path.join(test_folder, 'NORMAL')\n",
    "\n",
    "val_folder = os.path.join(new_dir, 'val')\n",
    "val_pneu = os.path.join(val_folder, 'PNEUMONIA')\n",
    "val_non_pneu = os.path.join(val_folder, 'NORMAL')"
   ]
  },
  {
   "cell_type": "code",
   "execution_count": 13,
   "id": "4243830b-0ef4-44c4-8097-2fccf7a72631",
   "metadata": {},
   "outputs": [],
   "source": [
    "os.mkdir(train_folder)\n",
    "os.mkdir(train_pneu)\n",
    "os.mkdir(train_non_pneu)\n",
    "\n",
    "os.mkdir(val_folder)\n",
    "os.mkdir(val_pneu)\n",
    "os.mkdir(val_non_pneu)\n",
    "\n",
    "os.mkdir(test_folder)\n",
    "os.mkdir(test_pneu)\n",
    "os.mkdir(test_non_pneu)"
   ]
  },
  {
   "cell_type": "code",
   "execution_count": 14,
   "id": "eca2f973-77be-4957-93e4-90a1047a8438",
   "metadata": {},
   "outputs": [],
   "source": [
    "random.shuffle(imgs_pneu)\n",
    "random.shuffle(imgs_non_pneu)"
   ]
  },
  {
   "cell_type": "code",
   "execution_count": 20,
   "id": "6042069d-4566-435b-8cf6-192fc76c7df1",
   "metadata": {},
   "outputs": [
    {
     "name": "stdout",
     "output_type": "stream",
     "text": [
      "Train pneumonia should have 2564 images\n",
      "Validation pneumonia should have 855 images\n",
      "Test pneumonia should have 855 images\n",
      "Train pneumonia should have 950 images\n",
      "Validation pneumonia should have 317 images\n",
      "Test pneumonia should have 317 images\n"
     ]
    }
   ],
   "source": [
    "print(\"Train pneumonia should have\", round(len(imgs_pneu)*0.6),\"images\")\n",
    "print(\"Validation pneumonia should have\", round(len(imgs_pneu)*0.2),\"images\")\n",
    "print(\"Test pneumonia should have\", round(len(imgs_pneu)*0.2),\"images\")\n",
    "print(\"Train pneumonia should have\", round(len(imgs_non_pneu)*0.6),\"images\")\n",
    "print(\"Validation pneumonia should have\", round(len(imgs_non_pneu)*0.2),\"images\")\n",
    "print(\"Test pneumonia should have\", round(len(imgs_non_pneu)*0.2),\"images\")"
   ]
  },
  {
   "cell_type": "code",
   "execution_count": 23,
   "id": "33977cb6-6d1c-41be-9b25-f9a8d39de3dd",
   "metadata": {},
   "outputs": [],
   "source": [
    "# train pneumonia\n",
    "imgs = imgs_pneu[:2564]\n",
    "for img in imgs:\n",
    "    origin = os.path.join(org_pneu, img)\n",
    "    destination = os.path.join(train_pneu, img)\n",
    "    shutil.copyfile(origin, destination)\n",
    "    \n",
    "# validation pneumonia\n",
    "imgs = imgs_pneu[2564:3419]\n",
    "for img in imgs:\n",
    "    origin = os.path.join(org_pneu, img)\n",
    "    destination = os.path.join(val_pneu, img)\n",
    "    shutil.copyfile(origin, destination)\n",
    "\n",
    "# test pneumonia\n",
    "imgs = imgs_pneu[3419:]\n",
    "for img in imgs:\n",
    "    origin = os.path.join(org_pneu, img)\n",
    "    destination = os.path.join(test_pneu, img)\n",
    "    shutil.copyfile(origin, destination)"
   ]
  },
  {
   "cell_type": "code",
   "execution_count": 24,
   "id": "8e689245-2d8e-416d-8a70-691dcad8b402",
   "metadata": {},
   "outputs": [],
   "source": [
    "# train non-pneumonia\n",
    "imgs = imgs_non_pneu[:950]\n",
    "for img in imgs:\n",
    "    origin = os.path.join(org_norm, img)\n",
    "    destination = os.path.join(train_non_pneu, img)\n",
    "    shutil.copyfile(origin, destination)\n",
    "    \n",
    "# validation non-pneumonia\n",
    "imgs = imgs_non_pneu[950:1267]\n",
    "for img in imgs:\n",
    "    origin = os.path.join(org_norm, img)\n",
    "    destination = os.path.join(val_non_pneu, img)\n",
    "    shutil.copyfile(origin, destination)\n",
    "    \n",
    "# test non-pneumonia\n",
    "imgs = imgs_non_pneu[1267:]\n",
    "for img in imgs:\n",
    "    origin = os.path.join(org_norm, img)\n",
    "    destination = os.path.join(test_non_pneu, img)\n",
    "    shutil.copyfile(origin, destination)"
   ]
  },
  {
   "cell_type": "code",
   "execution_count": 25,
   "id": "d03067ef-bf0c-4a94-8cb9-8841519ef834",
   "metadata": {},
   "outputs": [
    {
     "name": "stdout",
     "output_type": "stream",
     "text": [
      "There are 2564 pneumonia images in the training set\n",
      "There are 855 pneumonia images in the validation set\n",
      "There are 854 pneumonia images in the testing set\n",
      "There are 950 non-pneumonia images in the training set\n",
      "There are 317 non-pneumonia images in the validation set\n",
      "There are 316 non-pneumonia images in the testing set\n"
     ]
    }
   ],
   "source": [
    "print('There are', len(os.listdir(train_pneu)), 'pneumonia images in the training set')\n",
    "print('There are', len(os.listdir(val_pneu)), 'pneumonia images in the validation set')\n",
    "print('There are', len(os.listdir(test_pneu)), 'pneumonia images in the testing set')\n",
    "print('There are', len(os.listdir(train_non_pneu)), 'non-pneumonia images in the training set')\n",
    "print('There are', len(os.listdir(val_non_pneu)), 'non-pneumonia images in the validation set')\n",
    "print('There are', len(os.listdir(test_non_pneu)), 'non-pneumonia images in the testing set')"
   ]
  }
 ],
 "metadata": {
  "kernelspec": {
   "display_name": "main_env",
   "language": "python",
   "name": "main_env"
  },
  "language_info": {
   "codemirror_mode": {
    "name": "ipython",
    "version": 3
   },
   "file_extension": ".py",
   "mimetype": "text/x-python",
   "name": "python",
   "nbconvert_exporter": "python",
   "pygments_lexer": "ipython3",
   "version": "3.8.11"
  }
 },
 "nbformat": 4,
 "nbformat_minor": 5
}
