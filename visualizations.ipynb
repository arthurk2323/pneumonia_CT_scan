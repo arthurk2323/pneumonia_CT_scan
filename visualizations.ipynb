{
 "cells": [
  {
   "cell_type": "code",
   "execution_count": 1,
   "id": "4d30d481-615a-4798-b66f-9e8ec274e46e",
   "metadata": {},
   "outputs": [],
   "source": [
    "import os\n",
    "import sys\n",
    "import pickle\n",
    "import PIL\n",
    "from PIL import Image\n",
    "import io\n",
    "from io import BytesIO\n",
    "\n",
    "import numpy as np\n",
    "import pandas as pd\n",
    "import matplotlib as mpl\n",
    "import matplotlib.pyplot as plt\n",
    "import seaborn as sns\n",
    "\n",
    "from sklearn.utils import class_weight\n",
    "from sklearn.metrics import confusion_matrix, classification_report, accuracy_score, recall_score\n",
    "\n",
    "import tensorflow as tf\n",
    "from tensorflow.keras import models, layers\n",
    "from tensorflow.keras.preprocessing.image import ImageDataGenerator,\\\n",
    "array_to_img,\\\n",
    "img_to_array,\\\n",
    "load_img\n",
    "\n",
    "from tensorflow.keras.models import load_model\n",
    "\n",
    "import tools.visualizations as vis\n",
    "import tools.misc as misc"
   ]
  },
  {
   "cell_type": "code",
   "execution_count": 2,
   "id": "1ea002ef-0338-47ae-9730-1469de1bb1eb",
   "metadata": {},
   "outputs": [],
   "source": [
    "# Downloaded imports\n",
    "\n",
    "# pip install focal-loss\n",
    "from focal_loss import BinaryFocalLoss"
   ]
  },
  {
   "cell_type": "code",
   "execution_count": 3,
   "id": "710c96cb-8620-4616-a62c-6d44671c0d76",
   "metadata": {},
   "outputs": [],
   "source": [
    "# Path Constants\n",
    "TRAIN_PATH = 'data/split/train'\n",
    "VAL_PATH = 'data/split/val'\n",
    "TEST_PATH = 'data/split/test'\n",
    "\n",
    "# Image Processing Constants\n",
    "BATCH_SIZE = 32\n",
    "IMAGE_HEIGHT, IMAGE_WIDTH = 64, 64\n",
    "\n",
    "# Change for test runs\n",
    "EPOCHS = 30"
   ]
  },
  {
   "cell_type": "code",
   "execution_count": 4,
   "id": "5bba4160-2cd9-4d3b-9572-f009f79c6e2a",
   "metadata": {
    "tags": []
   },
   "outputs": [
    {
     "name": "stdout",
     "output_type": "stream",
     "text": [
      "TRAIN\n",
      "-------------------------\n",
      "\tPNEUMONIA: 2564\n",
      "\tNORMAL: 950\n",
      "\n",
      "\tSUBTOTAL: 3514\n",
      "VAL\n",
      "-------------------------\n",
      "\tPNEUMONIA: 855\n",
      "\tNORMAL: 317\n",
      "\n",
      "\tSUBTOTAL: 1172\n",
      "TEST\n",
      "-------------------------\n",
      "\tPNEUMONIA: 854\n",
      "\tNORMAL: 316\n",
      "\n",
      "\tSUBTOTAL: 1170\n",
      "-------------------------\n",
      "TOTAL: 5856 files\n",
      "\n",
      " {'train': 3514, 'val': 1172, 'test': 1170}\n"
     ]
    }
   ],
   "source": [
    "# Call function to display counts and return dict of subtotals\n",
    "counts = misc.count_files([TRAIN_PATH, VAL_PATH, TEST_PATH])\n",
    "print('\\n',counts)"
   ]
  },
  {
   "cell_type": "code",
   "execution_count": 5,
   "id": "c46395ae-782d-4963-b997-013114364b6a",
   "metadata": {},
   "outputs": [],
   "source": [
    "# DirectoryIterator parameters for flow_from_directory\n",
    "gen_params = {\n",
    "    'target_size': (IMAGE_HEIGHT, IMAGE_WIDTH),\n",
    "    'color_mode': 'grayscale',\n",
    "    'class_mode': 'binary',\n",
    "}"
   ]
  },
  {
   "cell_type": "code",
   "execution_count": 6,
   "id": "243cca58-f8bb-4e32-ad46-80cffbb87871",
   "metadata": {},
   "outputs": [
    {
     "name": "stdout",
     "output_type": "stream",
     "text": [
      "Found 3514 images belonging to 2 classes.\n",
      "Found 1172 images belonging to 2 classes.\n",
      "Found 1170 images belonging to 2 classes.\n"
     ]
    }
   ],
   "source": [
    "# Load data as was done in the modeling notebok\n",
    "train_generator = ImageDataGenerator(rescale=1./255).flow_from_directory(\n",
    "    TRAIN_PATH, \n",
    "    batch_size=counts['train'],\n",
    "    **gen_params\n",
    ")\n",
    "\n",
    "val_generator = ImageDataGenerator(rescale=1./255).flow_from_directory(\n",
    "    VAL_PATH, \n",
    "    batch_size=counts['val'],\n",
    "    **gen_params\n",
    ")\n",
    "\n",
    "# Get all the data in the directory data/test (854+316 images), and reshape them\n",
    "test_generator = ImageDataGenerator(rescale=1./255).flow_from_directory(\n",
    "    TEST_PATH,\n",
    "    batch_size=counts['test'],\n",
    "    **gen_params\n",
    ")"
   ]
  },
  {
   "cell_type": "code",
   "execution_count": null,
   "id": "e795d923-81d4-4590-946b-e16a677d18cf",
   "metadata": {},
   "outputs": [],
   "source": [
    "# Create the datasets\n",
    "train_images, train_labels = next(train_generator)\n",
    "val_images, val_labels = next(val_generator)\n",
    "test_images, test_labels = next(test_generator)"
   ]
  },
  {
   "cell_type": "code",
   "execution_count": null,
   "id": "1ad8aa58-1d6e-4087-9156-d500556679cb",
   "metadata": {},
   "outputs": [],
   "source": [
    "# Load models and their histories\n",
    "model1 = load_model('models/model1.h5')\n",
    "model2 = load_model('models/model2.h5')\n",
    "model3 = load_model('models/model3.h5')\n",
    "model4 = load_model('models/model4.h5')\n",
    "model4_1 = load_model('models/model4_1.h5')\n",
    "model5 = load_model('models/model5.h5')\n",
    "\n",
    "hist1 = misc.unpickle_history('models/model1_hist.pkl')\n",
    "hist2 = misc.unpickle_history('models/model2_hist.pkl')\n",
    "hist3 = misc.unpickle_history('models/model3_hist.pkl')\n",
    "hist4 = misc.unpickle_history('models/model4_hist.pkl')\n",
    "hist4_1 = misc.unpickle_history('models/model4_1_hist.pkl')\n",
    "hist5 = misc.unpickle_history('models/model5_hist.pkl')"
   ]
  },
  {
   "cell_type": "code",
   "execution_count": null,
   "id": "1d7264f8-28e7-4326-a793-5ef5118fb7ea",
   "metadata": {},
   "outputs": [],
   "source": [
    "# Define lists of models, their names, and their histories\n",
    "names = [\n",
    "    'Model 1',\n",
    "    'Model 2',\n",
    "    'Model 3',\n",
    "    'Model 4',\n",
    "    'Model 5',\n",
    "    'Model 6'\n",
    "]\n",
    "\n",
    "models = [\n",
    "    model1,\n",
    "    model2,\n",
    "    model3,\n",
    "    model4,\n",
    "    model4_1,\n",
    "    model5\n",
    "]\n",
    "\n",
    "histories = [\n",
    "    hist1,\n",
    "    hist2,\n",
    "    hist3,\n",
    "    hist4,\n",
    "    hist4_1,\n",
    "    hist5\n",
    "]"
   ]
  },
  {
   "cell_type": "code",
   "execution_count": null,
   "id": "0c1bc3ca-2441-410f-8e92-1cf517a473ba",
   "metadata": {},
   "outputs": [],
   "source": [
    "# Create lists of accuracies\n",
    "accs = [hist['acc'][-1] for hist in histories]\n",
    "val_accs = [hist['val_acc'][-1] for hist in histories]\n",
    "test_accs = [model.evaluate(test_images, test_labels)[1] for model in models]"
   ]
  },
  {
   "cell_type": "code",
   "execution_count": null,
   "id": "110053e7-8caa-49ff-a8e2-dc3e4a3a126e",
   "metadata": {},
   "outputs": [],
   "source": [
    "recs = []\n",
    "val_recs = []\n",
    "test_recs = []\n",
    "for model in models:\n",
    "    train_preds = (model.predict(train_images) > 0.5).astype('int32')\n",
    "    val_preds = (model.predict(val_images) > 0.5).astype('int32')\n",
    "    test_preds = (model.predict(test_images) > 0.5).astype('int32')\n",
    "\n",
    "    rec = recall_score(train_labels, train_preds)\n",
    "    val_rec = recall_score(val_labels, val_preds)\n",
    "    test_rec = recall_score(test_labels, test_preds)\n",
    "\n",
    "    recs.append(recall_score(train_labels, train_preds))\n",
    "    val_recs.append(recall_score(val_labels, val_preds))\n",
    "    test_recs.append(recall_score(test_labels, test_preds))"
   ]
  },
  {
   "cell_type": "code",
   "execution_count": null,
   "id": "fd3c0486-0300-4845-a45a-ba67193e0281",
   "metadata": {},
   "outputs": [],
   "source": [
    "# Create DataFrame for easier plotting\n",
    "acc_data = {\n",
    "    'Model': names,\n",
    "    'Training Accuracy': accs,\n",
    "    'Validation Accuracy': val_accs,\n",
    "    'Testing Accuracy': test_accs,\n",
    "}\n",
    "rec_data = {\n",
    "    'Model': names,\n",
    "    'Training Recall': recs,\n",
    "    'Validation Recall': val_recs,\n",
    "    'Testing Recall': test_recs\n",
    "}\n",
    "acc_df = pd.DataFrame(acc_data)\n",
    "rec_df = pd.DataFrame(rec_data)\n",
    "\n",
    "display(acc_df, rec_df)"
   ]
  },
  {
   "cell_type": "code",
   "execution_count": null,
   "id": "7b557909-28fd-43f3-bd2b-bf5701e1f623",
   "metadata": {},
   "outputs": [],
   "source": [
    "# Plot bar chart with training, validation, and testing accuracies for each model\n",
    "with plt.style.context('images/presentation.mplstyle'):\n",
    "    acc_df.set_index('Model').plot.bar(color=['teal', 'cadetblue', 'lightblue'])\n",
    "    \n",
    "    # Baseline 73 % accuracy\n",
    "    plt.hlines(y=.73, xmin=-1, xmax=10, linestyles='dashed', colors='black')\n",
    "    plt.text(4, 0.74, 'Baseline Accuracy', fontsize=15, fontweight='bold')\n",
    "    plt.ylim(0.65, 1.0)\n",
    "    plt.xticks(rotation=45)\n",
    "    plt.title('Model Accuracies')\n",
    "    plt.xlabel('Model Number')\n",
    "    plt.ylabel('Accuracy')\n",
    "    plt.savefig('images/acc_barplot.png')\n",
    "    plt.show()"
   ]
  },
  {
   "cell_type": "code",
   "execution_count": null,
   "id": "71566a1f-b790-4712-b56e-ec653c00e7ff",
   "metadata": {},
   "outputs": [],
   "source": [
    "with plt.style.context('images/presentation.mplstyle'):\n",
    "    rec_df.set_index('Model').plot.bar(y='Testing Recall', color='cadetblue')\n",
    "    plt.ylim(0.8, 1.0)\n",
    "    plt.xticks(rotation=45)\n",
    "    plt.title('Testing Recall Scores')\n",
    "    plt.xlabel('Model Number')\n",
    "    plt.ylabel('Recall')\n",
    "    \n",
    "    rects = ax.patches\n",
    "    labels = [f'{test_rec:.1%}' for test_rec in test_recs]\n",
    "    \n",
    "    for rect, label in zip(rects, labels):\n",
    "        height = rect.get_height()\n",
    "        plt.text(\n",
    "            rect.get_x() + rect.get_width() / 2, height, label, ha=\"center\", va=\"bottom\"\n",
    "        )\n",
    "    \n",
    "    plt.savefig('images/recall_barplot.png')\n",
    "    plt.show();"
   ]
  },
  {
   "cell_type": "code",
   "execution_count": null,
   "id": "5afd149e-b452-487f-ab5a-69aec5d1b6fd",
   "metadata": {},
   "outputs": [],
   "source": []
  }
 ],
 "metadata": {
  "kernelspec": {
   "display_name": "general",
   "language": "python",
   "name": "general"
  },
  "language_info": {
   "codemirror_mode": {
    "name": "ipython",
    "version": 3
   },
   "file_extension": ".py",
   "mimetype": "text/x-python",
   "name": "python",
   "nbconvert_exporter": "python",
   "pygments_lexer": "ipython3",
   "version": "3.8.11"
  }
 },
 "nbformat": 4,
 "nbformat_minor": 5
}
