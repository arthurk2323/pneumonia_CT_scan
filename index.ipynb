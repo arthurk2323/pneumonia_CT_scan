{
 "cells": [
  {
   "cell_type": "markdown",
   "id": "6de62a13-6b89-4264-87c4-a0e4d8f94740",
   "metadata": {},
   "source": [
    "# Pneumonia X-Ray Image Classification: Modeling"
   ]
  },
  {
   "cell_type": "markdown",
   "id": "500efe7a-6d32-49b8-bd9a-8db1f4183834",
   "metadata": {},
   "source": [
    "Authors:\n",
    "- Arthur Kim\n",
    "    - Github: arthurk2323\n",
    "- Mia Fryer\n",
    "    - Github: miazfryer\n",
    "- Ian Sharff\n",
    "    - Github: iansharff\n",
    "___"
   ]
  },
  {
   "cell_type": "markdown",
   "id": "9a0e6f87-25df-42d3-b5fc-759fda97cca2",
   "metadata": {},
   "source": [
    "## Business Understanding"
   ]
  },
  {
   "cell_type": "code",
   "execution_count": null,
   "id": "681c715f-7b4d-4dc4-9406-cb1341d74f25",
   "metadata": {},
   "outputs": [],
   "source": []
  },
  {
   "cell_type": "markdown",
   "id": "534b819f-a810-4523-a76a-940d0cefa179",
   "metadata": {},
   "source": [
    "## Data Understanding and Exploration"
   ]
  },
  {
   "cell_type": "code",
   "execution_count": 1,
   "id": "a7d887ff-9200-4b1b-85a3-ae89d1d31008",
   "metadata": {
    "tags": []
   },
   "outputs": [],
   "source": [
    "import os\n",
    "import sys\n",
    "import pickle\n",
    "import PIL\n",
    "from PIL import Image\n",
    "import io\n",
    "from io import BytesIO\n",
    "\n",
    "import numpy as np\n",
    "import pandas as pd\n",
    "import matplotlib as mpl\n",
    "import matplotlib.pyplot as plt\n",
    "\n",
    "import tensorflow as tf\n",
    "from tensorflow.keras import models, layers\n",
    "from tensorflow.keras.preprocessing.image import ImageDataGenerator, array_to_img, img_to_array, load_img\n",
    "from tensorflow.keras.models import load_model\n",
    "\n",
    "import tools.visualizations as vis\n",
    "import tools.misc as misc"
   ]
  },
  {
   "cell_type": "code",
   "execution_count": 2,
   "id": "9a0955fe-3daa-4f49-83b9-bfa7fc28087e",
   "metadata": {},
   "outputs": [],
   "source": [
    "TRAIN_PATH = 'data/split/train'\n",
    "VAL_PATH = 'data/split/val'\n",
    "TEST_PATH = 'data/split/test'\n",
    "\n",
    "BATCH_SIZE = 32\n",
    "IMAGE_HEIGHT, IMAGE_WIDTH = 64, 64"
   ]
  },
  {
   "cell_type": "code",
   "execution_count": 3,
   "id": "619b7499-f9c8-4a2f-a598-7966dc6b7cff",
   "metadata": {
    "tags": []
   },
   "outputs": [
    {
     "name": "stdout",
     "output_type": "stream",
     "text": [
      "TRAIN\n",
      "-------------------------\n",
      "\tPNEUMONIA: 2564\n",
      "\tNORMAL: 950\n",
      "\n",
      "\tSUBTOTAL: 3514\n",
      "VAL\n",
      "-------------------------\n",
      "\tPNEUMONIA: 855\n",
      "\tNORMAL: 317\n",
      "\n",
      "\tSUBTOTAL: 1172\n",
      "TEST\n",
      "-------------------------\n",
      "\tPNEUMONIA: 854\n",
      "\tNORMAL: 316\n",
      "\n",
      "\tSUBTOTAL: 1170\n",
      "-------------------------\n",
      "TOTAL: 5856 files\n"
     ]
    }
   ],
   "source": [
    "counts = misc.count_files([TRAIN_PATH, VAL_PATH, TEST_PATH])\n"
   ]
  },
  {
   "cell_type": "code",
   "execution_count": 4,
   "id": "20038fa3-8915-46f3-82ea-94edba031944",
   "metadata": {},
   "outputs": [
    {
     "data": {
      "text/plain": [
       "{'train': 3514, 'val': 1172, 'test': 1170}"
      ]
     },
     "execution_count": 4,
     "metadata": {},
     "output_type": "execute_result"
    }
   ],
   "source": [
    "counts"
   ]
  },
  {
   "cell_type": "code",
   "execution_count": 6,
   "id": "e604c67b-4ff9-410b-ba3a-080f2058eeea",
   "metadata": {},
   "outputs": [],
   "source": [
    "gen_params = {\n",
    "    'target_size': (64, 64),\n",
    "    'color_mode': 'grayscale',\n",
    "    'class_mode': 'binary',\n",
    "}"
   ]
  },
  {
   "cell_type": "code",
   "execution_count": 8,
   "id": "8cba4141-5ea7-4fec-b04d-dbdb134b41b6",
   "metadata": {},
   "outputs": [
    {
     "name": "stdout",
     "output_type": "stream",
     "text": [
      "Found 3514 images belonging to 2 classes.\n",
      "Found 1172 images belonging to 2 classes.\n",
      "Found 1170 images belonging to 2 classes.\n"
     ]
    }
   ],
   "source": [
    "# Get all the data in the directory data/train (2564+950 images), and reshape them\n",
    "train_generator = ImageDataGenerator(rescale=1./255).flow_from_directory(\n",
    "    TRAIN_PATH, \n",
    "    batch_size=counts['train'],\n",
    "    **gen_params\n",
    ")\n",
    "\n",
    "# Get all the data in the directory data/val (855+317 images), and reshape them\n",
    "val_generator = ImageDataGenerator(rescale=1./255).flow_from_directory(\n",
    "    VAL_PATH, \n",
    "    batch_size=counts['val'],\n",
    "    **gen_params\n",
    ")\n",
    "\n",
    "# Get all the data in the directory data/test (854+316 images), and reshape them\n",
    "test_generator = ImageDataGenerator(rescale=1./255).flow_from_directory(\n",
    "    TEST_PATH,\n",
    "    batch_size=counts['test'],\n",
    "    **gen_params\n",
    ")\n",
    "\n",
    "# Create the datasets\n",
    "train_images, train_labels = next(train_generator)\n",
    "val_images, val_labels = next(val_generator)\n",
    "test_images, test_labels = next(test_generator)"
   ]
  },
  {
   "cell_type": "code",
   "execution_count": 9,
   "id": "6455cf08-d3db-4086-979f-97111b9e5f66",
   "metadata": {},
   "outputs": [
    {
     "name": "stdout",
     "output_type": "stream",
     "text": [
      "TRAIN\n",
      "--------------------------------------------------\n",
      "\ttrain_images shape: (3514, 64, 64, 1)\n",
      "\ttrain_labels shape: (3514,)\n",
      "\n",
      "VALIDATION\n",
      "--------------------------------------------------\n",
      "\tval_images shape: (1172, 64, 64, 1)\n",
      "\tval_labels shape: (1172,)\n",
      "\n",
      "TEST\n",
      "--------------------------------------------------\n",
      "\ttest_images shape: (1170, 64, 64, 1)\n",
      "\ttest_labels shape: (1170,)\n"
     ]
    }
   ],
   "source": [
    "# Display the shape of the image and label arrays (this cell may take a while to load)\n",
    "print('TRAIN\\n' + '-'*50)\n",
    "print(f'\\ttrain_images shape: {train_images.shape}')\n",
    "print(f'\\ttrain_labels shape: {train_labels.shape}')\n",
    "print('\\nVALIDATION\\n' + '-'*50)\n",
    "print(f'\\tval_images shape: {val_images.shape}')\n",
    "print(f'\\tval_labels shape: {val_labels.shape}')\n",
    "print('\\nTEST\\n' + '-'*50)\n",
    "print(f'\\ttest_images shape: {test_images.shape}')\n",
    "print(f'\\ttest_labels shape: {test_labels.shape}')\n",
    "    "
   ]
  },
  {
   "cell_type": "code",
   "execution_count": 3,
   "id": "e570ec56-532b-4a28-afd2-6acf8f14b2bd",
   "metadata": {
    "collapsed": true,
    "jupyter": {
     "outputs_hidden": true,
     "source_hidden": true
    },
    "tags": []
   },
   "outputs": [
    {
     "name": "stdout",
     "output_type": "stream",
     "text": [
      "Found 3514 files belonging to 2 classes.\n",
      "Found 1172 files belonging to 2 classes.\n",
      "Found 1170 files belonging to 2 classes.\n"
     ]
    }
   ],
   "source": [
    "# train_ds = tf.keras.preprocessing.image_dataset_from_directory(\n",
    "#     TRAIN_PATH,\n",
    "#     seed=123,\n",
    "#     color_mode='grayscale',\n",
    "#     label_mode='binary',\n",
    "#     image_size=(IMAGE_HEIGHT, IMAGE_WIDTH),\n",
    "#     batch_size=BATCH_SIZE\n",
    "# )\n",
    "\n",
    "# val_ds = tf.keras.preprocessing.image_dataset_from_directory(\n",
    "#     VAL_PATH,\n",
    "#     seed=123,\n",
    "#     color_mode='grayscale',\n",
    "#     label_mode='binary',\n",
    "#     image_size=(IMAGE_HEIGHT, IMAGE_WIDTH),\n",
    "#     batch_size=BATCH_SIZE\n",
    "# )\n",
    "\n",
    "# test_ds = tf.keras.preprocessing.image_dataset_from_directory(\n",
    "#     TEST_PATH,\n",
    "#     seed=123,\n",
    "#     color_mode='grayscale',\n",
    "#     label_mode='binary',\n",
    "#     image_size=(IMAGE_HEIGHT, IMAGE_WIDTH),\n",
    "#     batch_size=BATCH_SIZE\n",
    "# )"
   ]
  },
  {
   "cell_type": "code",
   "execution_count": 37,
   "id": "468c6d35-ba68-4c2c-aea1-111cc87ceaa9",
   "metadata": {},
   "outputs": [
    {
     "data": {
      "image/png": "[encoded data removed]",
      "text/plain": [
       "<Figure size 640x480 with 1 Axes>"
      ]
     },
     "metadata": {},
     "output_type": "display_data"
    }
   ],
   "source": [
    "train_images"
   ]
  },
  {
   "cell_type": "code",
   "execution_count": 18,
   "id": "66626cd0-cfc5-40e2-a3b9-589b9feff825",
   "metadata": {},
   "outputs": [
    {
     "name": "stdout",
     "output_type": "stream",
     "text": [
      "{0: 'NORMAL', 1: 'PNEUMONIA'}\n"
     ]
    }
   ],
   "source": [
    "class_names = {v: k for k, v in train_generator.class_indices.items()}\n",
    "print(class_names)"
   ]
  },
  {
   "cell_type": "code",
   "execution_count": 10,
   "id": "1a289614-d0cd-45b5-b451-34ba32f75c7e",
   "metadata": {},
   "outputs": [
    {
     "ename": "NameError",
     "evalue": "name 'class_names' is not defined",
     "output_type": "error",
     "traceback": [
      "\u001b[0;31m---------------------------------------------------------------------------\u001b[0m",
      "\u001b[0;31mNameError\u001b[0m                                 Traceback (most recent call last)",
      "\u001b[0;32m<ipython-input-10-8e1f0d8d6e4d>\u001b[0m in \u001b[0;36m<module>\u001b[0;34m\u001b[0m\n\u001b[1;32m      9\u001b[0m         \u001b[0mlabel\u001b[0m \u001b[0;34m=\u001b[0m \u001b[0mtrain_labels\u001b[0m\u001b[0;34m[\u001b[0m\u001b[0;36m0\u001b[0m\u001b[0;34m]\u001b[0m\u001b[0;34m\u001b[0m\u001b[0;34m\u001b[0m\u001b[0m\n\u001b[1;32m     10\u001b[0m         \u001b[0mcolor\u001b[0m \u001b[0;34m=\u001b[0m \u001b[0;34m'black'\u001b[0m \u001b[0;32mif\u001b[0m \u001b[0mlabel\u001b[0m \u001b[0;34m==\u001b[0m \u001b[0;36m0\u001b[0m \u001b[0;32melse\u001b[0m \u001b[0;34m'darkred'\u001b[0m\u001b[0;34m\u001b[0m\u001b[0;34m\u001b[0m\u001b[0m\n\u001b[0;32m---> 11\u001b[0;31m         \u001b[0max\u001b[0m\u001b[0;34m.\u001b[0m\u001b[0mset_title\u001b[0m\u001b[0;34m(\u001b[0m\u001b[0mclass_names\u001b[0m\u001b[0;34m[\u001b[0m\u001b[0mlabel\u001b[0m\u001b[0;34m]\u001b[0m\u001b[0;34m,\u001b[0m \u001b[0mcolor\u001b[0m\u001b[0;34m=\u001b[0m\u001b[0mcolor\u001b[0m\u001b[0;34m)\u001b[0m\u001b[0;34m\u001b[0m\u001b[0;34m\u001b[0m\u001b[0m\n\u001b[0m\u001b[1;32m     12\u001b[0m \u001b[0;34m\u001b[0m\u001b[0m\n\u001b[1;32m     13\u001b[0m     \u001b[0mfig\u001b[0m\u001b[0;34m.\u001b[0m\u001b[0mtight_layout\u001b[0m\u001b[0;34m(\u001b[0m\u001b[0;34m)\u001b[0m\u001b[0;34m\u001b[0m\u001b[0;34m\u001b[0m\u001b[0m\n",
      "\u001b[0;31mNameError\u001b[0m: name 'class_names' is not defined"
     ]
    }
   ],
   "source": [
    "norm_samples = []\n",
    "pneu_samples = []\n",
    "i = 0\n",
    "while len(norm_samples) < 3 and len(pneu_samples) < 3:\n",
    "    img = train_images[i]\n",
    "    lab = train_labels[i]\n",
    "    if len(norm_samples) != 3 and lab == 0:\n",
    "        norm_samples.append(img)\n",
    "        i += 1\n",
    "    elif len(pneu_samples) != 3 and lab == 1:\n",
    "        pneu_samples.append(img)\n",
    "        i += 1\n",
    "\n",
    "# FIX THIS\n",
    "with plt.style.context('images/presentation.mplstyle'):\n",
    "    fig, axes = plt.subplots(2, 3, figsize=(10, 10))\n",
    "    for ax in axes[0:3]\n",
    "    ax.imshow(train_images[i], cmap=plt.cm.binary)\n",
    "    ax.set_xticks([])\n",
    "    ax.set_yticks([])\n",
    "\n",
    "    label = train_labels[i]\n",
    "    color = 'black' if label == 0 else 'darkred'\n",
    "    ax.set_title(class_names[label], color=color)\n",
    "\n",
    "    fig.tight_layout()\n",
    "\n",
    "    plt.axis('off')\n",
    "    plt.show()"
   ]
  },
  {
   "cell_type": "markdown",
   "id": "8e0d4967-db27-403a-a6e6-a12b46b3b2ce",
   "metadata": {},
   "source": [
    "## Model Building and Evaluation"
   ]
  },
  {
   "cell_type": "code",
   "execution_count": null,
   "id": "f0506ec8-519c-4b1d-a7a0-84dfff54fb19",
   "metadata": {},
   "outputs": [],
   "source": []
  },
  {
   "cell_type": "markdown",
   "id": "41823f2f-617c-4f6f-91e1-4c6078c312b7",
   "metadata": {
    "tags": []
   },
   "source": [
    "### Dummy Model"
   ]
  },
  {
   "cell_type": "code",
   "execution_count": 16,
   "id": "a532cf1f-89b5-46d2-8621-cce5a8600e00",
   "metadata": {},
   "outputs": [
    {
     "ename": "TypeError",
     "evalue": "fit() missing 1 required positional argument: 'y'",
     "output_type": "error",
     "traceback": [
      "\u001b[0;31m---------------------------------------------------------------------------\u001b[0m",
      "\u001b[0;31mTypeError\u001b[0m                                 Traceback (most recent call last)",
      "\u001b[0;32m<ipython-input-16-847ef41c40eb>\u001b[0m in \u001b[0;36m<module>\u001b[0;34m\u001b[0m\n\u001b[1;32m      2\u001b[0m \u001b[0;34m\u001b[0m\u001b[0m\n\u001b[1;32m      3\u001b[0m \u001b[0mdummy_clf\u001b[0m \u001b[0;34m=\u001b[0m \u001b[0mDummyClassifier\u001b[0m\u001b[0;34m(\u001b[0m\u001b[0mstrategy\u001b[0m\u001b[0;34m=\u001b[0m\u001b[0;34m'most_frequent'\u001b[0m\u001b[0;34m)\u001b[0m\u001b[0;34m\u001b[0m\u001b[0;34m\u001b[0m\u001b[0m\n\u001b[0;32m----> 4\u001b[0;31m \u001b[0mdummy_clf\u001b[0m\u001b[0;34m.\u001b[0m\u001b[0mfit\u001b[0m\u001b[0;34m(\u001b[0m\u001b[0mtrain_ds\u001b[0m\u001b[0;34m.\u001b[0m\u001b[0mas_numpy_iterator\u001b[0m\u001b[0;34m(\u001b[0m\u001b[0;34m)\u001b[0m\u001b[0;34m)\u001b[0m\u001b[0;34m\u001b[0m\u001b[0;34m\u001b[0m\u001b[0m\n\u001b[0m",
      "\u001b[0;31mTypeError\u001b[0m: fit() missing 1 required positional argument: 'y'"
     ]
    }
   ],
   "source": [
    "from sklearn.dummy import DummyClassifier\n",
    "\n",
    "dummy_clf = DummyClassifier(strategy='most_frequent')\n",
    "dummy_clf.fit()"
   ]
  },
  {
   "cell_type": "code",
   "execution_count": 12,
   "id": "8f8e6a41-f55e-42b8-9cee-e2b5255092b5",
   "metadata": {},
   "outputs": [
    {
     "data": {
      "text/plain": [
       "0.78125"
      ]
     },
     "execution_count": 12,
     "metadata": {},
     "output_type": "execute_result"
    }
   ],
   "source": [
    "dummy_clf.score(image_batch, label_batch)"
   ]
  },
  {
   "cell_type": "code",
   "execution_count": 13,
   "id": "943002c6-a5b6-4af9-91ef-54ebbe84f9ae",
   "metadata": {},
   "outputs": [
    {
     "ename": "NameError",
     "evalue": "name 'val_images' is not defined",
     "output_type": "error",
     "traceback": [
      "\u001b[0;31m---------------------------------------------------------------------------\u001b[0m",
      "\u001b[0;31mNameError\u001b[0m                                 Traceback (most recent call last)",
      "\u001b[0;32m<ipython-input-13-7542f425455e>\u001b[0m in \u001b[0;36m<module>\u001b[0;34m\u001b[0m\n\u001b[0;32m----> 1\u001b[0;31m \u001b[0mdummy_clf\u001b[0m\u001b[0;34m.\u001b[0m\u001b[0mscore\u001b[0m\u001b[0;34m(\u001b[0m\u001b[0mval_images\u001b[0m\u001b[0;34m,\u001b[0m\u001b[0mval_labels\u001b[0m\u001b[0;34m)\u001b[0m\u001b[0;34m\u001b[0m\u001b[0;34m\u001b[0m\u001b[0m\n\u001b[0m",
      "\u001b[0;31mNameError\u001b[0m: name 'val_images' is not defined"
     ]
    }
   ],
   "source": [
    "dummy_clf.score(val_images,val_labels)"
   ]
  },
  {
   "cell_type": "code",
   "execution_count": 13,
   "id": "e92b18fc-cba4-4714-9201-f0d039bcbde2",
   "metadata": {},
   "outputs": [
    {
     "data": {
      "text/plain": [
       "0.75"
      ]
     },
     "execution_count": 13,
     "metadata": {},
     "output_type": "execute_result"
    }
   ],
   "source": [
    "dummy_clf.score(test_images,test_labels)"
   ]
  },
  {
   "cell_type": "markdown",
   "id": "b8238b9d-dc1b-4062-b498-18dd7cbcd938",
   "metadata": {},
   "source": [
    "### Model 1: Baseline Neural Network"
   ]
  },
  {
   "cell_type": "code",
   "execution_count": null,
   "id": "d9eee295-61da-4792-aa65-bfb5bdaa4d08",
   "metadata": {},
   "outputs": [],
   "source": [
    "np.random.seed(123)\n",
    "model1 = models.Sequential()\n",
    "model1.add(layers.Dense(2, activation='relu', input_shape=(12288,)))"
   ]
  },
  {
   "cell_type": "code",
   "execution_count": null,
   "id": "8cd42c00-d17e-48b7-a681-84bb3f964e1c",
   "metadata": {},
   "outputs": [],
   "source": [
    "model1.compile(optimizer='sgd',\n",
    "              loss='binary_crossentropy',\n",
    "              metrics=['accuracy'])\n",
    "\n",
    "history1 = model1.fit(train_img,\n",
    "                     train_y,\n",
    "                     epochs=50,\n",
    "                     batch_size=32,\n",
    "                     validation_data=(val_img, val_y))"
   ]
  },
  {
   "cell_type": "code",
   "execution_count": null,
   "id": "5db9407c-8cde-4e0c-8e8a-5e0ca1f7540e",
   "metadata": {},
   "outputs": [],
   "source": [
    "results_train = model1.evaluate(train_img, train_y)"
   ]
  },
  {
   "cell_type": "code",
   "execution_count": null,
   "id": "30f8f41a-7be1-4282-8aa7-a0fedfd36466",
   "metadata": {},
   "outputs": [],
   "source": [
    "results_test = model1.evaluate(test_img, test_y)"
   ]
  },
  {
   "cell_type": "code",
   "execution_count": null,
   "id": "147574a7-1771-4c38-9c1f-1dff63280f43",
   "metadata": {},
   "outputs": [],
   "source": [
    "results_train"
   ]
  },
  {
   "cell_type": "code",
   "execution_count": null,
   "id": "c8da52e1-b3cb-4647-a600-3604583c446b",
   "metadata": {},
   "outputs": [],
   "source": [
    "results_test"
   ]
  },
  {
   "cell_type": "markdown",
   "id": "a178fa78-e80f-4864-aa1e-16d5004d4030",
   "metadata": {},
   "source": [
    "### Model 2: Neural Network with Dense Layers"
   ]
  },
  {
   "cell_type": "code",
   "execution_count": null,
   "id": "6701f1ea-21fa-433b-ad2b-3408c2a0c6a8",
   "metadata": {},
   "outputs": [],
   "source": [
    "np.random.seed(123)\n",
    "model2 = models.Sequential()\n",
    "model2.add(layers.Dense(200, activation='relu', input_shape=(12288,)))\n",
    "model2.add(layers.Dense(100, activation='relu'))\n",
    "model2.add(layers.Dense(50, activation='relu'))\n",
    "model2.add(layers.Dense(25, activation='relu'))\n",
    "model2.add(layers.Dense(7, activation='relu'))\n",
    "model2.add(layers.Dense(5, activation='relu'))\n",
    "model2.add(layers.Dense(1, activation='sigmoid'))"
   ]
  },
  {
   "cell_type": "code",
   "execution_count": null,
   "id": "32036260-0355-4c6f-bf10-5263a5b7d188",
   "metadata": {},
   "outputs": [],
   "source": [
    "model2.compile(optimizer='sgd',\n",
    "              loss='binary_crossentropy',\n",
    "              metrics=['accuracy'])\n",
    "\n",
    "history2 = model2.fit(train_img,\n",
    "                     train_y,\n",
    "                     epochs=50,\n",
    "                     batch_size=32,\n",
    "                     validation_data=(val_img, val_y))"
   ]
  },
  {
   "cell_type": "code",
   "execution_count": null,
   "id": "1e0a54e0-08c1-4408-b6bb-ea3956b831ec",
   "metadata": {},
   "outputs": [],
   "source": [
    "results_train = model2.evaluate(train_img, train_y)"
   ]
  },
  {
   "cell_type": "code",
   "execution_count": null,
   "id": "c31197d0-5c5a-4c22-9ccd-bc3ad473e783",
   "metadata": {},
   "outputs": [],
   "source": [
    "results_test = model2.evaluate(test_img, test_y)"
   ]
  },
  {
   "cell_type": "code",
   "execution_count": null,
   "id": "b61e2826-3a1a-426a-b725-21d7e282592a",
   "metadata": {},
   "outputs": [],
   "source": [
    "results_train"
   ]
  },
  {
   "cell_type": "code",
   "execution_count": null,
   "id": "fa31638f-1c36-4d69-8cde-8e5b95cbd51a",
   "metadata": {},
   "outputs": [],
   "source": [
    "results_test"
   ]
  },
  {
   "cell_type": "markdown",
   "id": "3047df71-9d03-4e42-b23a-5e3e7dca7bb0",
   "metadata": {
    "tags": []
   },
   "source": [
    "### Model 3: Neural Network with Dense and Drop Layers"
   ]
  },
  {
   "cell_type": "code",
   "execution_count": null,
   "id": "33973bba-4931-4572-915e-5806af9517c6",
   "metadata": {},
   "outputs": [],
   "source": [
    "np.random.seed(123)\n",
    "model3 = models.Sequential()\n",
    "model3.add(layers.Dense(200, activation='relu', input_shape=(12288,)))\n",
    "model3.add(layers.Dense(100, activation='relu'))\n",
    "model3.add(layers.Dropout(0.3))\n",
    "model3.add(layers.Dense(50, activation='relu'))\n",
    "model3.add(layers.Dense(25, activation='relu'))\n",
    "model3.add(layers.Dropout(0.3))\n",
    "model3.add(layers.Dense(7, activation='relu'))\n",
    "model3.add(layers.Dense(5, activation='relu'))\n",
    "model3.add(layers.Dense(1, activation='sigmoid'))"
   ]
  },
  {
   "cell_type": "code",
   "execution_count": null,
   "id": "2128f832-1dd7-484d-8528-d75abe73f27a",
   "metadata": {},
   "outputs": [],
   "source": [
    "model3.compile(optimizer='sgd',\n",
    "              loss='binary_crossentropy',\n",
    "              metrics=['accuracy'])\n",
    "\n",
    "history3 = model3.fit(train_img,\n",
    "                     train_y,\n",
    "                     epochs=50,\n",
    "                     batch_size=32,\n",
    "                     validation_data=(val_img, val_y))"
   ]
  },
  {
   "cell_type": "code",
   "execution_count": null,
   "id": "502365b8-a091-4559-97ec-56fb99a1d638",
   "metadata": {},
   "outputs": [],
   "source": [
    "results_train = model3.evaluate(train_img, train_y)"
   ]
  },
  {
   "cell_type": "code",
   "execution_count": null,
   "id": "fe923227-c23c-45d0-a9dc-277ae88df7c0",
   "metadata": {},
   "outputs": [],
   "source": [
    "results_test = model3.evaluate(test_img, test_y)"
   ]
  },
  {
   "cell_type": "code",
   "execution_count": null,
   "id": "f83f049b-a950-48d9-9133-d77cd01e5633",
   "metadata": {},
   "outputs": [],
   "source": [
    "results_train"
   ]
  },
  {
   "cell_type": "code",
   "execution_count": null,
   "id": "e18ddd7d-bfd7-4d79-8d1d-b45d405c61b2",
   "metadata": {},
   "outputs": [],
   "source": [
    "results_test"
   ]
  },
  {
   "cell_type": "markdown",
   "id": "e850ab0e-192d-43ba-b20b-94c37decffc1",
   "metadata": {},
   "source": [
    "### Model 4: Convolutional Neural Network (CNN)"
   ]
  },
  {
   "cell_type": "code",
   "execution_count": 24,
   "id": "ac2b401c-f87b-49c2-9b2a-ffafbf60ce1d",
   "metadata": {},
   "outputs": [],
   "source": [
    "model4 = models.Sequential()\n",
    "model4.add(layers.Conv2D(32, (3, 3), activation='relu',\n",
    "                        input_shape=(64 ,64, 1)))\n",
    "model4.add(layers.MaxPooling2D((2, 2)))\n",
    "\n",
    "model4.add(layers.Conv2D(32, (4, 4), activation='relu'))\n",
    "model4.add(layers.MaxPooling2D((2, 2)))\n",
    "\n",
    "model4.add(layers.Conv2D(64, (3, 3), activation='relu'))\n",
    "model4.add(layers.MaxPooling2D((2, 2)))\n",
    "\n",
    "model4.add(layers.Flatten())\n",
    "model4.add(layers.Dense(64, activation='relu'))\n",
    "model4.add(layers.Dense(1, activation='sigmoid'))\n",
    "\n",
    "model4.compile(loss='binary_crossentropy',\n",
    "              optimizer=\"sgd\",\n",
    "              metrics=['acc'])"
   ]
  },
  {
   "cell_type": "code",
   "execution_count": 27,
   "id": "18b2dfcf-d90f-4f09-891d-a7e72b6dc342",
   "metadata": {},
   "outputs": [
    {
     "name": "stdout",
     "output_type": "stream",
     "text": [
      "Epoch 1/10\n",
      "18/18 [==============================] - 8s 427ms/step - loss: 0.5061 - acc: 0.7297 - val_loss: 0.4942 - val_acc: 0.7304\n",
      "Epoch 2/10\n",
      "18/18 [==============================] - 9s 477ms/step - loss: 0.4881 - acc: 0.7331 - val_loss: 0.4755 - val_acc: 0.7346\n",
      "Epoch 3/10\n",
      "18/18 [==============================] - 8s 470ms/step - loss: 0.4698 - acc: 0.7436 - val_loss: 0.4592 - val_acc: 0.8020\n",
      "Epoch 4/10\n",
      "18/18 [==============================] - 9s 527ms/step - loss: 0.4458 - acc: 0.7769 - val_loss: 0.4286 - val_acc: 0.8131\n",
      "Epoch 5/10\n",
      "18/18 [==============================] - 8s 468ms/step - loss: 0.4327 - acc: 0.8051 - val_loss: 0.4168 - val_acc: 0.8729\n",
      "Epoch 6/10\n",
      "18/18 [==============================] - 8s 435ms/step - loss: 0.4097 - acc: 0.8219 - val_loss: 0.4642 - val_acc: 0.8242\n",
      "Epoch 7/10\n",
      "18/18 [==============================] - 8s 426ms/step - loss: 0.4440 - acc: 0.8102 - val_loss: 0.5143 - val_acc: 0.7713\n",
      "Epoch 8/10\n",
      "18/18 [==============================] - 8s 460ms/step - loss: 0.3991 - acc: 0.8295 - val_loss: 0.4667 - val_acc: 0.7944\n",
      "Epoch 9/10\n",
      "18/18 [==============================] - 8s 432ms/step - loss: 0.4014 - acc: 0.8290 - val_loss: 0.3364 - val_acc: 0.8720\n",
      "Epoch 10/10\n",
      "18/18 [==============================] - 7s 413ms/step - loss: 0.3896 - acc: 0.8341 - val_loss: 0.3264 - val_acc: 0.8729\n"
     ]
    }
   ],
   "source": [
    "history4 = model4.fit(train_images,\n",
    "                    train_labels,\n",
    "                    epochs=10,\n",
    "                    batch_size=200,\n",
    "                    validation_data=(val_images, val_labels))"
   ]
  },
  {
   "cell_type": "code",
   "execution_count": 30,
   "id": "26da0d77-f74e-45bb-a851-2cbe470f4c73",
   "metadata": {},
   "outputs": [
    {
     "data": {
      "image/png": "[encoded data removed]",
      "text/plain": [
       "<Figure size 1500x800 with 2 Axes>"
      ]
     },
     "metadata": {},
     "output_type": "display_data"
    }
   ],
   "source": [
    "vis.plot_loss_accuracy(history4)\n",
    "plt.show()"
   ]
  },
  {
   "cell_type": "code",
   "execution_count": null,
   "id": "93da0878-a6cb-4278-8de0-13a2d5e03872",
   "metadata": {},
   "outputs": [],
   "source": [
    "results_train = model.evaluate(train_images, train_y)"
   ]
  },
  {
   "cell_type": "code",
   "execution_count": null,
   "id": "afad83c1-f528-4d91-9ebc-bd0520aad077",
   "metadata": {},
   "outputs": [],
   "source": [
    "results_test = model.evaluate(test_images, test_y)"
   ]
  },
  {
   "cell_type": "code",
   "execution_count": null,
   "id": "5ec080af-a30e-40b5-9d74-edc448fc55ba",
   "metadata": {},
   "outputs": [],
   "source": [
    "results_train"
   ]
  },
  {
   "cell_type": "code",
   "execution_count": null,
   "id": "39796bb7-ec67-4309-8afa-2a53541d88a6",
   "metadata": {},
   "outputs": [],
   "source": [
    "results_test"
   ]
  },
  {
   "cell_type": "markdown",
   "id": "f8e118e8-4222-4118-83bc-36793cb7487c",
   "metadata": {
    "tags": []
   },
   "source": [
    "### Model 5: Base CNN with Focal Loss to solve class imbalancement "
   ]
  },
  {
   "cell_type": "code",
   "execution_count": null,
   "id": "75e63c26-30b1-4402-9bbd-99186f1da52b",
   "metadata": {},
   "outputs": [],
   "source": [
    "#pip install focal-loss"
   ]
  },
  {
   "cell_type": "code",
   "execution_count": 38,
   "id": "66bd8220-01af-47a0-9beb-42eccffe6d15",
   "metadata": {},
   "outputs": [],
   "source": [
    "from focal_loss import BinaryFocalLoss"
   ]
  },
  {
   "cell_type": "code",
   "execution_count": 40,
   "id": "94001d1e-9cf9-466f-b9f4-03d5975b68ad",
   "metadata": {},
   "outputs": [],
   "source": [
    "model_fl = models.Sequential()\n",
    "model_fl.add(layers.Conv2D(32, (3, 3), activation='relu',\n",
    "                        input_shape=(64 ,64, 1)))\n",
    "model_fl.add(layers.MaxPooling2D((2, 2)))\n",
    "\n",
    "model_fl.add(layers.Conv2D(32, (4, 4), activation='relu'))\n",
    "model_fl.add(layers.MaxPooling2D((2, 2)))\n",
    "\n",
    "model_fl.add(layers.Conv2D(64, (3, 3), activation='relu'))\n",
    "model_fl.add(layers.MaxPooling2D((2, 2)))\n",
    "\n",
    "model_fl.add(layers.Flatten())\n",
    "model_fl.add(layers.Dense(64, activation='relu'))\n",
    "model_fl.add(layers.Dense(1, activation='sigmoid'))\n",
    "\n",
    "model_fl.compile(loss=BinaryFocalLoss(gamma=2),\n",
    "              optimizer= 'sgd',\n",
    "              metrics=['acc'])"
   ]
  },
  {
   "cell_type": "code",
   "execution_count": 19,
   "id": "864110dd-8903-4cb8-ba84-31a0b9306a7d",
   "metadata": {},
   "outputs": [
    {
     "name": "stdout",
     "output_type": "stream",
     "text": [
      "Epoch 1/10\n",
      "20/20 [==============================] - 33s 2s/step - loss: 0.5296 - acc: 0.7297 - val_loss: 0.5197 - val_acc: 0.7295\n",
      "Epoch 2/10\n",
      "20/20 [==============================] - 31s 2s/step - loss: 0.5134 - acc: 0.7297 - val_loss: 0.5062 - val_acc: 0.7372\n",
      "Epoch 3/10\n",
      "20/20 [==============================] - 31s 2s/step - loss: 0.4953 - acc: 0.7362 - val_loss: 0.4761 - val_acc: 0.7321\n",
      "Epoch 4/10\n",
      "20/20 [==============================] - 30s 1s/step - loss: 0.4731 - acc: 0.7587 - val_loss: 0.4656 - val_acc: 0.8575\n",
      "Epoch 5/10\n",
      "20/20 [==============================] - 30s 1s/step - loss: 0.4701 - acc: 0.8045 - val_loss: 0.4242 - val_acc: 0.8370\n",
      "Epoch 6/10\n",
      "20/20 [==============================] - 32s 2s/step - loss: 0.4779 - acc: 0.7917 - val_loss: 0.4618 - val_acc: 0.8797\n",
      "Epoch 7/10\n",
      "20/20 [==============================] - 32s 2s/step - loss: 0.4653 - acc: 0.7994 - val_loss: 0.4085 - val_acc: 0.8874\n",
      "Epoch 8/10\n",
      "20/20 [==============================] - 32s 2s/step - loss: 0.4298 - acc: 0.8179 - val_loss: 0.4043 - val_acc: 0.7611\n",
      "Epoch 9/10\n",
      "20/20 [==============================] - 32s 2s/step - loss: 0.4441 - acc: 0.8082 - val_loss: 0.5041 - val_acc: 0.7355\n",
      "Epoch 10/10\n",
      "20/20 [==============================] - 32s 2s/step - loss: 0.3776 - acc: 0.8458 - val_loss: 0.3502 - val_acc: 0.8208\n"
     ]
    }
   ],
   "source": [
    "history_base_fl = model.fit(train_images, \n",
    "                                epochs=10, \n",
    "                                validation_data=val_generator\n",
    ")"
   ]
  },
  {
   "cell_type": "code",
   "execution_count": 28,
   "id": "a2a76f2b-1bce-4bfa-ba71-a5c6a3a3ecf3",
   "metadata": {},
   "outputs": [],
   "source": [
    "test_x_fl, test_y_fl = next(test_generator)"
   ]
  },
  {
   "cell_type": "code",
   "execution_count": 29,
   "id": "26e4044d-6c46-4039-bf86-073c8d3729e4",
   "metadata": {},
   "outputs": [
    {
     "name": "stdout",
     "output_type": "stream",
     "text": [
      "6/6 [==============================] - 0s 17ms/step - loss: 0.1738 - acc: 0.4389\n"
     ]
    }
   ],
   "source": [
    "results_test = model_fl.evaluate(test_x_fl, test_y_fl)"
   ]
  },
  {
   "cell_type": "code",
   "execution_count": 30,
   "id": "25ac9c99-9059-4f90-bdbc-0f7bfa171562",
   "metadata": {},
   "outputs": [
    {
     "name": "stdout",
     "output_type": "stream",
     "text": [
      "Model: \"sequential_1\"\n",
      "_________________________________________________________________\n",
      "Layer (type)                 Output Shape              Param #   \n",
      "=================================================================\n",
      "conv2d_3 (Conv2D)            (None, 62, 62, 32)        896       \n",
      "_________________________________________________________________\n",
      "max_pooling2d_3 (MaxPooling2 (None, 31, 31, 32)        0         \n",
      "_________________________________________________________________\n",
      "conv2d_4 (Conv2D)            (None, 28, 28, 32)        16416     \n",
      "_________________________________________________________________\n",
      "max_pooling2d_4 (MaxPooling2 (None, 14, 14, 32)        0         \n",
      "_________________________________________________________________\n",
      "conv2d_5 (Conv2D)            (None, 12, 12, 64)        18496     \n",
      "_________________________________________________________________\n",
      "max_pooling2d_5 (MaxPooling2 (None, 6, 6, 64)          0         \n",
      "_________________________________________________________________\n",
      "flatten_1 (Flatten)          (None, 2304)              0         \n",
      "_________________________________________________________________\n",
      "dense_2 (Dense)              (None, 64)                147520    \n",
      "_________________________________________________________________\n",
      "dense_3 (Dense)              (None, 1)                 65        \n",
      "=================================================================\n",
      "Total params: 183,393\n",
      "Trainable params: 183,393\n",
      "Non-trainable params: 0\n",
      "_________________________________________________________________\n"
     ]
    }
   ],
   "source": [
    "model_fl.summary()  "
   ]
  },
  {
   "cell_type": "code",
   "execution_count": null,
   "id": "34850e8c-74e3-43a2-88f5-d7a943def78a",
   "metadata": {},
   "outputs": [],
   "source": [
    "from sklearn.utils import class_weight\n",
    "class_weights = dict(zip(np.unique(y_train), class_weight.compute_class_weight('balanced',np.unique(y_train),y_train)))"
   ]
  },
  {
   "cell_type": "markdown",
   "id": "b2e90050-e088-4b9a-b1be-81b7a2a2398e",
   "metadata": {},
   "source": [
    "### Model 6: Transfer Learning - ResNet50V2"
   ]
  },
  {
   "cell_type": "code",
   "execution_count": null,
   "id": "93c69514-e838-4fac-8ee8-c43b9e89d8ef",
   "metadata": {},
   "outputs": [],
   "source": [
    "resnet50 = ResNet50V2(weights = \"imagenet\", input_shape = (220,220,3), include_top = False)"
   ]
  },
  {
   "cell_type": "code",
   "execution_count": null,
   "id": "09133085-7419-4365-924f-a07b48dd988a",
   "metadata": {},
   "outputs": [],
   "source": [
    "model2 = Sequential()\n",
    "\n",
    "model2.add(resnet50)    \n",
    "model2.add(Flatten())\n",
    "model2.add(Dense(units = 128, activation = \"relu\"))\n",
    "model2.add(Dropout(0.5))\n",
    "\n",
    "model2.add(Dense(units = 1, activation = \"sigmoid\"))"
   ]
  },
  {
   "cell_type": "code",
   "execution_count": null,
   "id": "b633cb2b-79c4-4f93-9011-cbc2f57c0f88",
   "metadata": {},
   "outputs": [],
   "source": [
    "resnet50.trainable = False\n",
    "\n",
    "# You can check whether a layer is trainable (or alter its setting) through the layer.trainable attribute\n",
    "for layer in model2.layers:\n",
    "    print(layer.name, layer.trainable)\n",
    "    \n",
    "# Similarly, we can check how many trainable weights are in the model \n",
    "print(len(model2.trainable_weights))"
   ]
  },
  {
   "cell_type": "code",
   "execution_count": null,
   "id": "725e2325-43d6-416d-b9fb-4331b520fe02",
   "metadata": {},
   "outputs": [],
   "source": [
    "model2.compile(optimizer = \"adam\", loss = \"binary_crossentropy\", metrics = [\"accuracy\"])"
   ]
  },
  {
   "cell_type": "code",
   "execution_count": null,
   "id": "eb36a00d-0841-45b2-98f2-1659cd4b5770",
   "metadata": {},
   "outputs": [],
   "source": [
    "hist2 = model2.fit(train2,validation_data=val2,epochs=5)"
   ]
  },
  {
   "cell_type": "code",
   "execution_count": null,
   "id": "268ae665-4bde-4db3-92df-f21c09a28e1b",
   "metadata": {},
   "outputs": [],
   "source": [
    "test_results2 = model2.evaluate(test2)"
   ]
  },
  {
   "cell_type": "code",
   "execution_count": null,
   "id": "3d15deb3-32bd-4cc4-a4a5-150694f14f3a",
   "metadata": {},
   "outputs": [],
   "source": [
    "model2.summary()"
   ]
  },
  {
   "cell_type": "markdown",
   "id": "7e5e4306-d4b0-4d9a-8146-7e1565a2461a",
   "metadata": {
    "tags": []
   },
   "source": [
    "### Model 7: CNN with Image Augumentation "
   ]
  },
  {
   "cell_type": "code",
   "execution_count": 52,
   "id": "7592bcac-a44c-483a-b5b9-1b3ba5687dea",
   "metadata": {},
   "outputs": [],
   "source": [
    "train_datagen_aug = ImageDataGenerator(rescale=1./255, \n",
    "                                   rotation_range=40, \n",
    "                                   width_shift_range=0.2, \n",
    "                                   height_shift_range=0.2, \n",
    "                                   shear_range=0.3, \n",
    "                                   zoom_range=0.1, \n",
    "                                   horizontal_flip=False)"
   ]
  },
  {
   "cell_type": "code",
   "execution_count": 58,
   "id": "fc3a2192-ca85-405f-8db4-ded91e73bccc",
   "metadata": {
    "tags": []
   },
   "outputs": [
    {
     "name": "stdout",
     "output_type": "stream",
     "text": [
      "Found 3514 images belonging to 2 classes.\n",
      "Found 1170 images belonging to 2 classes.\n",
      "Found 1172 images belonging to 2 classes.\n"
     ]
    }
   ],
   "source": [
    "train_aug = train_datagen_aug.flow_from_directory(train_path,\n",
    "                                               batch_size=128,\n",
    "                                               target_size=(64,64),\n",
    "                                               color_mode=\"rgb\",\n",
    "                                               class_mode=\"binary\",\n",
    "                                               shuffle=True,\n",
    "                                               seed=42,\n",
    "                                               subset=\"training\")\n",
    "\n",
    "test_aug = ImageDataGenerator(rescale=1./255).flow_from_directory(\n",
    "        test_path, \n",
    "        target_size=(64, 64), \n",
    "        batch_size = 180,\n",
    "        # Since we use binary_crossentropy loss, we need binary labels\n",
    "        class_mode='binary') \n",
    "\n",
    "# get all the data in the directory split/validation (200 images), and reshape them\n",
    "val_aug = ImageDataGenerator(rescale=1./255).flow_from_directory(\n",
    "        val_path, \n",
    "        target_size=(64, 64),\n",
    "        batch_size = 32,\n",
    "        class_mode='binary')"
   ]
  },
  {
   "cell_type": "code",
   "execution_count": 59,
   "id": "0776494a-4fce-412c-b62c-298656379218",
   "metadata": {},
   "outputs": [],
   "source": [
    "model_aug = models.Sequential()\n",
    "model_aug.add(layers.Conv2D(32, (3, 3), activation='relu',\n",
    "                        input_shape=(64 ,64,  3)))\n",
    "model_aug.add(layers.MaxPooling2D((2, 2)))\n",
    "\n",
    "model_aug.add(layers.Conv2D(32, (4, 4), activation='relu'))\n",
    "model_aug.add(layers.MaxPooling2D((2, 2)))\n",
    "\n",
    "model_aug.add(layers.Conv2D(64, (3, 3), activation='relu'))\n",
    "model_aug.add(layers.MaxPooling2D((2, 2)))\n",
    "\n",
    "model_aug.add(layers.Flatten())\n",
    "model_aug.add(layers.Dense(64, activation='relu'))\n",
    "model_aug.add(layers.Dense(1, activation='sigmoid'))\n",
    "\n",
    "model_aug.compile(loss=BinaryFocalLoss(gamma=2),\n",
    "              optimizer= 'sgd',\n",
    "              metrics=['acc'])"
   ]
  },
  {
   "cell_type": "code",
   "execution_count": 60,
   "id": "bf169a6e-710d-4362-9f42-72ad07347638",
   "metadata": {},
   "outputs": [
    {
     "name": "stdout",
     "output_type": "stream",
     "text": [
      "Epoch 1/10\n",
      "28/28 [==============================] - 37s 1s/step - loss: 0.1647 - acc: 0.6585 - val_loss: 0.1503 - val_acc: 0.7295\n",
      "Epoch 2/10\n",
      "28/28 [==============================] - 36s 1s/step - loss: 0.1507 - acc: 0.7329 - val_loss: 0.1492 - val_acc: 0.7295\n",
      "Epoch 3/10\n",
      "28/28 [==============================] - 36s 1s/step - loss: 0.1501 - acc: 0.7299 - val_loss: 0.1489 - val_acc: 0.7295\n",
      "Epoch 4/10\n",
      "28/28 [==============================] - 36s 1s/step - loss: 0.1487 - acc: 0.7340 - val_loss: 0.1486 - val_acc: 0.7295\n",
      "Epoch 5/10\n",
      "28/28 [==============================] - 36s 1s/step - loss: 0.1523 - acc: 0.7195 - val_loss: 0.1483 - val_acc: 0.7295\n",
      "Epoch 6/10\n",
      "28/28 [==============================] - 37s 1s/step - loss: 0.1484 - acc: 0.7345 - val_loss: 0.1478 - val_acc: 0.7295\n",
      "Epoch 7/10\n",
      "28/28 [==============================] - 36s 1s/step - loss: 0.1502 - acc: 0.7250 - val_loss: 0.1476 - val_acc: 0.7295\n",
      "Epoch 8/10\n",
      "28/28 [==============================] - 36s 1s/step - loss: 0.1497 - acc: 0.7256 - val_loss: 0.1472 - val_acc: 0.7295\n",
      "Epoch 9/10\n",
      "28/28 [==============================] - 37s 1s/step - loss: 0.1497 - acc: 0.7251 - val_loss: 0.1470 - val_acc: 0.7295\n",
      "Epoch 10/10\n",
      "28/28 [==============================] - 35s 1s/step - loss: 0.1475 - acc: 0.7336 - val_loss: 0.1467 - val_acc: 0.7295\n"
     ]
    }
   ],
   "source": [
    "history_aug = model_aug.fit(train_aug, \n",
    "                                epochs=10, \n",
    "                                validation_data=val_aug)"
   ]
  },
  {
   "cell_type": "code",
   "execution_count": 61,
   "id": "95145c7f-46c0-4688-a4e7-571138cf09ec",
   "metadata": {},
   "outputs": [
    {
     "name": "stdout",
     "output_type": "stream",
     "text": [
      "7/7 [==============================] - 8s 1s/step - loss: 0.1472 - acc: 0.7299\n"
     ]
    }
   ],
   "source": [
    "test_results_aug = model_aug.evaluate(test_aug)"
   ]
  },
  {
   "cell_type": "code",
   "execution_count": 62,
   "id": "be944c75-b63f-4f13-9e6a-975ad5d72c44",
   "metadata": {},
   "outputs": [
    {
     "name": "stdout",
     "output_type": "stream",
     "text": [
      "Model: \"sequential_5\"\n",
      "_________________________________________________________________\n",
      "Layer (type)                 Output Shape              Param #   \n",
      "=================================================================\n",
      "conv2d_12 (Conv2D)           (None, 62, 62, 32)        896       \n",
      "_________________________________________________________________\n",
      "max_pooling2d_15 (MaxPooling (None, 31, 31, 32)        0         \n",
      "_________________________________________________________________\n",
      "conv2d_13 (Conv2D)           (None, 28, 28, 32)        16416     \n",
      "_________________________________________________________________\n",
      "max_pooling2d_16 (MaxPooling (None, 14, 14, 32)        0         \n",
      "_________________________________________________________________\n",
      "conv2d_14 (Conv2D)           (None, 12, 12, 64)        18496     \n",
      "_________________________________________________________________\n",
      "max_pooling2d_17 (MaxPooling (None, 6, 6, 64)          0         \n",
      "_________________________________________________________________\n",
      "flatten_5 (Flatten)          (None, 2304)              0         \n",
      "_________________________________________________________________\n",
      "dense_10 (Dense)             (None, 64)                147520    \n",
      "_________________________________________________________________\n",
      "dense_11 (Dense)             (None, 1)                 65        \n",
      "=================================================================\n",
      "Total params: 183,393\n",
      "Trainable params: 183,393\n",
      "Non-trainable params: 0\n",
      "_________________________________________________________________\n"
     ]
    }
   ],
   "source": [
    "model_aug.summary()"
   ]
  },
  {
   "cell_type": "markdown",
   "id": "f1512f7a-8bfc-4530-8c12-ec02c07e458d",
   "metadata": {},
   "source": [
    "## Analysis, Conclusions, and Future Work"
   ]
  },
  {
   "cell_type": "code",
   "execution_count": null,
   "id": "f9c661bb-05cf-4e3e-aff9-89b08cd266f4",
   "metadata": {},
   "outputs": [],
   "source": []
  }
 ],
 "metadata": {
  "kernelspec": {
   "display_name": "general",
   "language": "python",
   "name": "general"
  },
  "language_info": {
   "codemirror_mode": {
    "name": "ipython",
    "version": 3
   },
   "file_extension": ".py",
   "mimetype": "text/x-python",
   "name": "python",
   "nbconvert_exporter": "python",
   "pygments_lexer": "ipython3",
   "version": "3.8.11"
  }
 },
 "nbformat": 4,
 "nbformat_minor": 5
}
