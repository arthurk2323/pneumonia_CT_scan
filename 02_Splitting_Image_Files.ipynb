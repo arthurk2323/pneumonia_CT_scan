{
 "cells": [
  {
   "cell_type": "markdown",
   "id": "ba91d8e2-1190-40c1-b88f-2d22739aefc1",
   "metadata": {
    "tags": []
   },
   "source": [
    "# Pneumonia X-Ray Image Classification: Splitting Image Files"
   ]
  },
  {
   "cell_type": "markdown",
   "id": "f940d45e-8405-4da8-84c3-358484b1ef27",
   "metadata": {},
   "source": [
    "This notebook is for spliting the image data into train, validation, and test folders. Please see the following for the other notebooks:\n",
    "* [EDA Notebook](01_Pneumonia_Classifier_EDA.ipynb)\n",
    "* [Binary Modeling Notebook](03_Binary_Modeling.ipynb)\n",
    "* [Model Visualization](04_Model_Visualizations.ipynb)\n",
    "* [Binary Transfer Learning Model](05_Binary_Transfer_Learning.ipynb)\n",
    "* [Multiclass Modeling](06_Multiclass_Modeling.ipynb)"
   ]
  },
  {
   "cell_type": "markdown",
   "id": "bed73376-2713-418c-be67-3f210b1e7d81",
   "metadata": {
    "tags": []
   },
   "source": [
    "## Import"
   ]
  },
  {
   "cell_type": "code",
   "execution_count": 1,
   "id": "a59944b6-1e85-47b5-9460-6a62395eb02a",
   "metadata": {},
   "outputs": [],
   "source": [
    "import pandas as pd\n",
    "import os, shutil, random"
   ]
  },
  {
   "cell_type": "markdown",
   "id": "32d9df08-326b-4d5f-81cd-dd56e796b90b",
   "metadata": {},
   "source": [
    "## Splitting Pneumonia vs Normal Images"
   ]
  },
  {
   "cell_type": "code",
   "execution_count": 2,
   "id": "deaa1aaf-7c34-48a4-b0ac-5888e94debbc",
   "metadata": {},
   "outputs": [],
   "source": [
    "imgs_pneu = [file for file in os.listdir('data/PNEUMONIA') if file.endswith('.jpeg')]\n",
    "imgs_non_pneu = [file for file in os.listdir('data/NORMAL') if file.endswith('.jpeg')]"
   ]
  },
  {
   "cell_type": "code",
   "execution_count": 5,
   "id": "598b2b48-bf2c-44e5-af7c-f50336f33086",
   "metadata": {},
   "outputs": [
    {
     "name": "stdout",
     "output_type": "stream",
     "text": [
      "There are 4273 pneumonia positive images\n",
      "There are 1583 pneumonia negative images\n"
     ]
    }
   ],
   "source": [
    "print('There are', len(imgs_pneu), 'pneumonia positive images')\n",
    "print('There are', len(imgs_non_pneu), 'pneumonia negative images')"
   ]
  },
  {
   "cell_type": "code",
   "execution_count": 6,
   "id": "c3098110-f6a9-4699-9053-71840393bc52",
   "metadata": {},
   "outputs": [
    {
     "name": "stdout",
     "output_type": "stream",
     "text": [
      "Proportion of images that are COVID-19 Positve Images: 0.73\n",
      "Proportion of images that are COVID-19 Negative Images: 0.27\n"
     ]
    }
   ],
   "source": [
    "print('Proportion of images that are COVID-19 Positve Images:', round(len(imgs_pneu)/(len(imgs_pneu)+len(imgs_non_pneu)),2))\n",
    "print('Proportion of images that are COVID-19 Negative Images:', round(len(imgs_non_pneu)/(len(imgs_pneu)+len(imgs_non_pneu)),2))"
   ]
  },
  {
   "cell_type": "code",
   "execution_count": 7,
   "id": "ac833ecc-ceea-4ebf-9933-a2df80a16406",
   "metadata": {},
   "outputs": [
    {
     "data": {
      "text/plain": [
       "2.7"
      ]
     },
     "execution_count": 7,
     "metadata": {},
     "output_type": "execute_result"
    }
   ],
   "source": [
    "round(len(imgs_pneu)/len(imgs_non_pneu),1)"
   ]
  },
  {
   "cell_type": "code",
   "execution_count": 22,
   "id": "bf6722a9-f0c8-4a0b-9d7b-4f9cf4c2fbf4",
   "metadata": {},
   "outputs": [],
   "source": [
    "new_dir = 'data/split/'\n",
    "org_pneu = 'data/PNEUMONIA/'\n",
    "org_norm = 'data/NORMAL/'"
   ]
  },
  {
   "cell_type": "code",
   "execution_count": 11,
   "id": "74b6a52a-d9f7-4ccb-a4d5-2d2469d6c17d",
   "metadata": {},
   "outputs": [],
   "source": [
    "os.mkdir(new_dir)"
   ]
  },
  {
   "cell_type": "code",
   "execution_count": 19,
   "id": "f18d0fa2-14d4-4032-8e5d-53b423d2cc8b",
   "metadata": {},
   "outputs": [],
   "source": [
    "train_folder = os.path.join(new_dir, 'train')\n",
    "train_pneu = os.path.join(train_folder, 'PNEUMONIA')\n",
    "train_non_pneu = os.path.join(train_folder, 'NORMAL')\n",
    "\n",
    "test_folder = os.path.join(new_dir, 'test')\n",
    "test_pneu = os.path.join(test_folder, 'PNEUMONIA')\n",
    "test_non_pneu = os.path.join(test_folder, 'NORMAL')\n",
    "\n",
    "val_folder = os.path.join(new_dir, 'val')\n",
    "val_pneu = os.path.join(val_folder, 'PNEUMONIA')\n",
    "val_non_pneu = os.path.join(val_folder, 'NORMAL')"
   ]
  },
  {
   "cell_type": "code",
   "execution_count": 13,
   "id": "4243830b-0ef4-44c4-8097-2fccf7a72631",
   "metadata": {},
   "outputs": [],
   "source": [
    "os.mkdir(train_folder)\n",
    "os.mkdir(train_pneu)\n",
    "os.mkdir(train_non_pneu)\n",
    "\n",
    "os.mkdir(val_folder)\n",
    "os.mkdir(val_pneu)\n",
    "os.mkdir(val_non_pneu)\n",
    "\n",
    "os.mkdir(test_folder)\n",
    "os.mkdir(test_pneu)\n",
    "os.mkdir(test_non_pneu)"
   ]
  },
  {
   "cell_type": "code",
   "execution_count": 14,
   "id": "eca2f973-77be-4957-93e4-90a1047a8438",
   "metadata": {},
   "outputs": [],
   "source": [
    "random.shuffle(imgs_pneu)\n",
    "random.shuffle(imgs_non_pneu)"
   ]
  },
  {
   "cell_type": "code",
   "execution_count": 20,
   "id": "6042069d-4566-435b-8cf6-192fc76c7df1",
   "metadata": {},
   "outputs": [
    {
     "name": "stdout",
     "output_type": "stream",
     "text": [
      "Train pneumonia should have 2564 images\n",
      "Validation pneumonia should have 855 images\n",
      "Test pneumonia should have 855 images\n",
      "Train pneumonia should have 950 images\n",
      "Validation pneumonia should have 317 images\n",
      "Test pneumonia should have 317 images\n"
     ]
    }
   ],
   "source": [
    "print(\"Train pneumonia should have\", round(len(imgs_pneu)*0.6),\"images\")\n",
    "print(\"Validation pneumonia should have\", round(len(imgs_pneu)*0.2),\"images\")\n",
    "print(\"Test pneumonia should have\", round(len(imgs_pneu)*0.2),\"images\")\n",
    "print(\"Train pneumonia should have\", round(len(imgs_non_pneu)*0.6),\"images\")\n",
    "print(\"Validation pneumonia should have\", round(len(imgs_non_pneu)*0.2),\"images\")\n",
    "print(\"Test pneumonia should have\", round(len(imgs_non_pneu)*0.2),\"images\")"
   ]
  },
  {
   "cell_type": "code",
   "execution_count": 23,
   "id": "33977cb6-6d1c-41be-9b25-f9a8d39de3dd",
   "metadata": {},
   "outputs": [],
   "source": [
    "# train pneumonia\n",
    "imgs = imgs_pneu[:2564]\n",
    "for img in imgs:\n",
    "    origin = os.path.join(org_pneu, img)\n",
    "    destination = os.path.join(train_pneu, img)\n",
    "    shutil.copyfile(origin, destination)\n",
    "    \n",
    "# validation pneumonia\n",
    "imgs = imgs_pneu[2564:3419]\n",
    "for img in imgs:\n",
    "    origin = os.path.join(org_pneu, img)\n",
    "    destination = os.path.join(val_pneu, img)\n",
    "    shutil.copyfile(origin, destination)\n",
    "\n",
    "# test pneumonia\n",
    "imgs = imgs_pneu[3419:]\n",
    "for img in imgs:\n",
    "    origin = os.path.join(org_pneu, img)\n",
    "    destination = os.path.join(test_pneu, img)\n",
    "    shutil.copyfile(origin, destination)"
   ]
  },
  {
   "cell_type": "code",
   "execution_count": 24,
   "id": "8e689245-2d8e-416d-8a70-691dcad8b402",
   "metadata": {},
   "outputs": [],
   "source": [
    "# train non-pneumonia\n",
    "imgs = imgs_non_pneu[:950]\n",
    "for img in imgs:\n",
    "    origin = os.path.join(org_norm, img)\n",
    "    destination = os.path.join(train_non_pneu, img)\n",
    "    shutil.copyfile(origin, destination)\n",
    "    \n",
    "# validation non-pneumonia\n",
    "imgs = imgs_non_pneu[950:1267]\n",
    "for img in imgs:\n",
    "    origin = os.path.join(org_norm, img)\n",
    "    destination = os.path.join(val_non_pneu, img)\n",
    "    shutil.copyfile(origin, destination)\n",
    "    \n",
    "# test non-pneumonia\n",
    "imgs = imgs_non_pneu[1267:]\n",
    "for img in imgs:\n",
    "    origin = os.path.join(org_norm, img)\n",
    "    destination = os.path.join(test_non_pneu, img)\n",
    "    shutil.copyfile(origin, destination)"
   ]
  },
  {
   "cell_type": "code",
   "execution_count": 25,
   "id": "d03067ef-bf0c-4a94-8cb9-8841519ef834",
   "metadata": {},
   "outputs": [
    {
     "name": "stdout",
     "output_type": "stream",
     "text": [
      "There are 2564 pneumonia images in the training set\n",
      "There are 855 pneumonia images in the validation set\n",
      "There are 854 pneumonia images in the testing set\n",
      "There are 950 non-pneumonia images in the training set\n",
      "There are 317 non-pneumonia images in the validation set\n",
      "There are 316 non-pneumonia images in the testing set\n"
     ]
    }
   ],
   "source": [
    "print('There are', len(os.listdir(train_pneu)), 'pneumonia images in the training set')\n",
    "print('There are', len(os.listdir(val_pneu)), 'pneumonia images in the validation set')\n",
    "print('There are', len(os.listdir(test_pneu)), 'pneumonia images in the testing set')\n",
    "print('There are', len(os.listdir(train_non_pneu)), 'non-pneumonia images in the training set')\n",
    "print('There are', len(os.listdir(val_non_pneu)), 'non-pneumonia images in the validation set')\n",
    "print('There are', len(os.listdir(test_non_pneu)), 'non-pneumonia images in the testing set')"
   ]
  },
  {
   "cell_type": "code",
   "execution_count": null,
   "id": "b3aa5c83-15b4-40d6-995a-0fe2eb818282",
   "metadata": {},
   "outputs": [],
   "source": [
    "## Splitting Pneumonia Further"
   ]
  },
  {
   "cell_type": "code",
   "execution_count": null,
   "id": "f39ba883-7289-4697-9072-16f10eaf5477",
   "metadata": {},
   "outputs": [],
   "source": [
    "imgs_bacteria = [file for file in os.listdir('data/BACTERIA') if file.endswith('.jpeg')]\n",
    "imgs_normal = [file for file in os.listdir('data/NORMAL') if file.endswith('.jpeg')]\n",
    "imgs_virus = [file for file in os.listdir('data/VIRUS') if file.endswith('.jpeg')]"
   ]
  },
  {
   "cell_type": "code",
   "execution_count": null,
   "id": "ee1ddb22-4770-41a2-ba77-4f6554596340",
   "metadata": {},
   "outputs": [],
   "source": [
    "print('There are', len(imgs_bacteria), 'pneumonia positive bacteria images')\n",
    "print('There are', len(imgs_virus), 'pneumonia positive virus images')\n",
    "print('There are', len(imgs_normal), 'pneumonia negative images')"
   ]
  },
  {
   "cell_type": "code",
   "execution_count": null,
   "id": "fd9fa6a8-6756-4609-9306-d8bd31035303",
   "metadata": {},
   "outputs": [],
   "source": [
    "new_dir2 = 'data/split2/'\n",
    "org_bac = 'data/BACTERIA/'\n",
    "org_norm = 'data/NORMAL/'\n",
    "org_vir = 'data/VIRUS/'"
   ]
  },
  {
   "cell_type": "code",
   "execution_count": 8,
   "id": "4f964031-1a30-44db-ba7c-33d8dc06a07d",
   "metadata": {},
   "outputs": [],
   "source": [
    "os.mkdir(new_dir2)"
   ]
  },
  {
   "cell_type": "code",
   "execution_count": 9,
   "id": "8b0e0aba-eb24-46db-a4bf-ea5e0be6ab93",
   "metadata": {},
   "outputs": [],
   "source": [
    "train_folder = os.path.join(new_dir2, 'train')\n",
    "train_bac = os.path.join(train_folder, 'BACTERIA')\n",
    "train_vir = os.path.join(train_folder, 'VIRUS')\n",
    "train_non_pneu = os.path.join(train_folder, 'NORMAL')\n",
    "\n",
    "test_folder = os.path.join(new_dir2, 'test')\n",
    "test_bac = os.path.join(test_folder, 'BACTERIA')\n",
    "test_vir = os.path.join(test_folder, 'VIRUS')\n",
    "test_non_pneu = os.path.join(test_folder, 'NORMAL')\n",
    "\n",
    "val_folder = os.path.join(new_dir2, 'val')\n",
    "val_bac = os.path.join(val_folder, 'BACTERIA')\n",
    "val_vir = os.path.join(val_folder, 'VIRUS')\n",
    "val_non_pneu = os.path.join(val_folder, 'NORMAL')"
   ]
  },
  {
   "cell_type": "code",
   "execution_count": 10,
   "id": "d40eefc4-1923-41dc-9635-09a2b68be3ca",
   "metadata": {},
   "outputs": [],
   "source": [
    "os.mkdir(train_folder)\n",
    "os.mkdir(train_bac)\n",
    "os.mkdir(train_vir )\n",
    "os.mkdir(train_non_pneu)\n",
    "\n",
    "os.mkdir(val_folder)\n",
    "os.mkdir(val_bac)\n",
    "os.mkdir(val_vir)\n",
    "os.mkdir(val_non_pneu)\n",
    "\n",
    "os.mkdir(test_folder)\n",
    "os.mkdir(test_bac)\n",
    "os.mkdir(test_vir )\n",
    "os.mkdir(test_non_pneu)"
   ]
  },
  {
   "cell_type": "code",
   "execution_count": 11,
   "id": "b36ced32-85f1-499d-b76e-5e3df427bea3",
   "metadata": {},
   "outputs": [],
   "source": [
    "random.shuffle(imgs_bacteria)\n",
    "random.shuffle(imgs_virus)\n",
    "random.shuffle(imgs_normal)"
   ]
  },
  {
   "cell_type": "code",
   "execution_count": 12,
   "id": "4feeafe8-731f-40da-8a99-abf5626226e8",
   "metadata": {},
   "outputs": [
    {
     "name": "stdout",
     "output_type": "stream",
     "text": [
      "Train bacteria should have 1668 images\n",
      "Validation pbacteria  should have 556 images\n",
      "Test bacteria  should have 556 images\n",
      "Train virus should have 896 images\n",
      "Validation virus should have 299 images\n",
      "Test virus should have 299 images\n",
      "Train normal should have 950 images\n",
      "Validation normal should have 317 images\n",
      "Test normalshould have 317 images\n"
     ]
    }
   ],
   "source": [
    "print(\"Train bacteria should have\", round(len(imgs_bacteria)*0.6),\"images\")\n",
    "print(\"Validation pbacteria  should have\", round(len(imgs_bacteria)*0.2),\"images\")\n",
    "print(\"Test bacteria  should have\", round(len(imgs_bacteria)*0.2),\"images\")\n",
    "\n",
    "print(\"Train virus should have\", round(len(imgs_virus)*0.6),\"images\")\n",
    "print(\"Validation virus should have\", round(len(imgs_virus)*0.2),\"images\")\n",
    "print(\"Test virus should have\", round(len(imgs_virus)*0.2),\"images\")\n",
    "\n",
    "print(\"Train normal should have\", round(len(imgs_normal)*0.6),\"images\")\n",
    "print(\"Validation normal should have\", round(len(imgs_normal)*0.2),\"images\")\n",
    "print(\"Test normalshould have\", round(len(imgs_normal)*0.2),\"images\")"
   ]
  },
  {
   "cell_type": "code",
   "execution_count": 13,
   "id": "3fa3d232-ae3f-4c78-857b-876ac3736ac1",
   "metadata": {},
   "outputs": [],
   "source": [
    "# train bacteria \n",
    "imgs = imgs_bacteria[:1668]\n",
    "for img in imgs:\n",
    "    origin = os.path.join(org_bac, img)\n",
    "    destination = os.path.join(train_bac, img)\n",
    "    shutil.copyfile(origin, destination)\n",
    "    \n",
    "# validation bacteria \n",
    "imgs = imgs_bacteria[1668:2224]\n",
    "for img in imgs:\n",
    "    origin = os.path.join(org_bac, img)\n",
    "    destination = os.path.join(val_bac, img)\n",
    "    shutil.copyfile(origin, destination)\n",
    "\n",
    "# test bacteria \n",
    "imgs = imgs_bacteria[2224:]\n",
    "for img in imgs:\n",
    "    origin = os.path.join(org_bac, img)\n",
    "    destination = os.path.join(test_bac, img)\n",
    "    shutil.copyfile(origin, destination)"
   ]
  },
  {
   "cell_type": "code",
   "execution_count": 14,
   "id": "803b75e1-42dd-401b-92b6-c2d01a351576",
   "metadata": {},
   "outputs": [],
   "source": [
    "# train virus \n",
    "imgs = imgs_virus[:896]\n",
    "for img in imgs:\n",
    "    origin = os.path.join(org_vir, img)\n",
    "    destination = os.path.join(train_vir, img)\n",
    "    shutil.copyfile(origin, destination)\n",
    "    \n",
    "# validation virus \n",
    "imgs = imgs_virus[896:1195]\n",
    "for img in imgs:\n",
    "    origin = os.path.join(org_vir, img)\n",
    "    destination = os.path.join(test_vir, img)\n",
    "    shutil.copyfile(origin, destination)\n",
    "    \n",
    "# test virus \n",
    "imgs = imgs_virus[1195:]\n",
    "for img in imgs:\n",
    "    origin = os.path.join(org_vir, img)\n",
    "    destination = os.path.join(val_vir, img)\n",
    "    shutil.copyfile(origin, destination)"
   ]
  },
  {
   "cell_type": "code",
   "execution_count": 15,
   "id": "977d302c-50e1-4223-a743-8d00b09e9d84",
   "metadata": {},
   "outputs": [],
   "source": [
    "# train non-pneumonia\n",
    "imgs = imgs_normal[:950]\n",
    "for img in imgs:\n",
    "    origin = os.path.join(org_norm, img)\n",
    "    destination = os.path.join(train_non_pneu, img)\n",
    "    shutil.copyfile(origin, destination)\n",
    "    \n",
    "# validation non-pneumonia\n",
    "imgs = imgs_normal[950:1267]\n",
    "for img in imgs:\n",
    "    origin = os.path.join(org_norm, img)\n",
    "    destination = os.path.join(val_non_pneu, img)\n",
    "    shutil.copyfile(origin, destination)\n",
    "    \n",
    "# test non-pneumonia\n",
    "imgs = imgs_normal[1267:]\n",
    "for img in imgs:\n",
    "    origin = os.path.join(org_norm, img)\n",
    "    destination = os.path.join(test_non_pneu, img)\n",
    "    shutil.copyfile(origin, destination)"
   ]
  },
  {
   "cell_type": "code",
   "execution_count": 17,
   "id": "f68e3b5d-6fc9-4e31-b6ed-9b7858bcb256",
   "metadata": {},
   "outputs": [
    {
     "name": "stdout",
     "output_type": "stream",
     "text": [
      "There are 1668 bacteria images in the training set\n",
      "There are 556 bacteria images in the validation set\n",
      "There are 556 bacteria images in the testing set\n",
      "There are 896 virus images in the training set\n",
      "There are 298 virus images in the validation set\n",
      "There are 299 virus images in the testing set\n",
      "There are 950 non-pneumonia images in the training set\n",
      "There are 317 non-pneumonia images in the validation set\n",
      "There are 316 non-pneumonia images in the testing set\n"
     ]
    }
   ],
   "source": [
    "print('There are', len(os.listdir(train_bac)), 'bacteria images in the training set')\n",
    "print('There are', len(os.listdir(val_bac)), 'bacteria images in the validation set')\n",
    "print('There are', len(os.listdir(test_bac)), 'bacteria images in the testing set')\n",
    "print('There are', len(os.listdir(train_vir)), 'virus images in the training set')\n",
    "print('There are', len(os.listdir(val_vir)), 'virus images in the validation set')\n",
    "print('There are', len(os.listdir(test_vir)), 'virus images in the testing set')\n",
    "print('There are', len(os.listdir(train_non_pneu)), 'non-pneumonia images in the training set')\n",
    "print('There are', len(os.listdir(val_non_pneu)), 'non-pneumonia images in the validation set')\n",
    "print('There are', len(os.listdir(test_non_pneu)), 'non-pneumonia images in the testing set')"
   ]
  }
 ],
 "metadata": {
  "kernelspec": {
   "display_name": "main_env",
   "language": "python",
   "name": "main_env"
  },
  "language_info": {
   "codemirror_mode": {
    "name": "ipython",
    "version": 3
   },
   "file_extension": ".py",
   "mimetype": "text/x-python",
   "name": "python",
   "nbconvert_exporter": "python",
   "pygments_lexer": "ipython3",
   "version": "3.8.11"
  }
 },
 "nbformat": 4,
 "nbformat_minor": 5
}
